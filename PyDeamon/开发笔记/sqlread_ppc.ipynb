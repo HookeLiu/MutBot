{
 "cells": [
  {
   "cell_type": "markdown",
   "metadata": {},
   "source": [
    "# NLP[0] -- 语料和数据收集 -- 文本预处理及数据库文本分析\n",
    "------\n",
    "MutBot这个项目设计包含自动收集数据的功能, 以QQ为主要用用户接口和数据来源, 本文为NLP的\"第0步\" -- 文本预处理和数据整理.  "
   ]
  },
  {
   "cell_type": "markdown",
   "metadata": {
    "slideshow": {
     "slide_type": "-"
    }
   },
   "source": [
    "## 本文涉及的内容 \n",
    "1. 用第三方库: `langid`检测输入语种, `jieba`做分词和词性标注  \n",
    "2. 正则表达式re模块的简单运用  \n",
    "3. SQLite基础数据库操作(创建/检查/写入和读取)\n",
    "4. 第三方库`pandas`的介绍和简单运用(本例用于简化数据查询操作)\n",
    "5. 有害内容及无意义内容的过滤清洗(这里使用cherry库)"
   ]
  },
  {
   "cell_type": "code",
   "execution_count": 1,
   "metadata": {},
   "outputs": [],
   "source": [
    "import time  # 用于计时比较\n",
    "import sys   # 本文中用于观察变量内存占用"
   ]
  },
  {
   "cell_type": "markdown",
   "metadata": {},
   "source": [
    "### 案例情景介绍\n",
    "本文主要演示对群聊消息记录原始数据的预处理. 主要包括语种识别、分句、违规内容筛选、分词标注、数据加载与保存.  \n",
    "因为本项目的文本数据来源主要为QQ群, 所以, 各种各样情况都可能遇到. 作为输入的内容可能是下面这样的:  "
   ]
  },
  {
   "cell_type": "code",
   "execution_count": 2,
   "metadata": {},
   "outputs": [],
   "source": [
    "测试文本1 = \"[CQ:at,id=qq/user/15*****] 氖泡接在驱动电源负和地线之间[CQ:face,id=108][CQ:face,id=108][CQ:at,id=qq/user/15*****]\"\n",
    "测试文本2 = \"牛啤\"\n",
    "测试文本3 = \"ΕΞΖΝи△M\"\n",
    "测试文本4 = \"This is a test text...\"\n",
    "测试文本5 = '<h2><a id=\"user-content-probability-normalization\" class=\"anchor\" aria-hidden=\"true\" href=\"#probability-normalization\"></a>Probability Normalization</h2>'\n",
    "测试文本6 = \"import win32event as event; event_tigger = event.CreateEvent(None, False, False, 'Global\\\\233__update'); event.SetEvent(event_tigger)\"\n",
    "测试文本7 = \"http://yhhtech.cn\"\n",
    "测试文本8 = \"2333锟斤拷\"\n",
    "\n",
    "# 为了方便后面演示, 将上面的单条文本转为列表\n",
    "测试文本组 = []\n",
    "for i in range(1, 9):\n",
    "    _tmp_句子 = eval(\"测试文本%d\" % i)\n",
    "    if len(_tmp_句子) > 83:  # 忽略多余内容(其实主要是嫌显示不爽). 一般来说, 一段话的前80个字足够判断句子所使用的语种了. 如果不能, 那也多半是无用的内容\n",
    "        _tmp_句子 = _tmp_句子[:80] + \"...\"\n",
    "    测试文本组.append(_tmp_句子)"
   ]
  },
  {
   "cell_type": "markdown",
   "metadata": {},
   "source": [
    "### 语种检测\n",
    "在做文本处理之前得看看文本到底是不是有意义的语言, 如果是, 不同语言也应该采用不同的方式对待.  \n",
    "目前主流的开源自然语言语种识别工具有langdetect和langid, 其中, langdetect处理速度较高但准确率不足, langid准确率要高一些但速度也慢.  \n",
    "langid目前(Jul 15, 2017)提供了97种语言的预训练, 分类出来的的语言标号依据[ISO 639-1](https://baike.baidu.com/item/ISO%20639-1)语言编码标准  "
   ]
  },
  {
   "cell_type": "code",
   "execution_count": 3,
   "metadata": {},
   "outputs": [
    {
     "name": "stdout",
     "output_type": "stream",
     "text": [
      "Wall time: 1.02 s\n"
     ]
    }
   ],
   "source": [
    "%%time\n",
    "import langid"
   ]
  },
  {
   "cell_type": "code",
   "execution_count": 4,
   "metadata": {},
   "outputs": [
    {
     "name": "stdout",
     "output_type": "stream",
     "text": [
      "Wall time: 2.71 s\n"
     ]
    },
    {
     "data": {
      "text/plain": [
       "('zh', -13.09517526626587)"
      ]
     },
     "execution_count": 4,
     "metadata": {},
     "output_type": "execute_result"
    }
   ],
   "source": [
    "%time langid.classify(\"喵喵喵~\")  # 实际使用时发现这个分类器在第一次分类时会初始化, 有单独的较长耗时. 为了方便后面的迭代操作时间均匀, 先单独做个空运算使其初始化一下."
   ]
  },
  {
   "cell_type": "code",
   "execution_count": 5,
   "metadata": {},
   "outputs": [],
   "source": [
    "项目中常见自然语言语种 = {'en':'英文','zh':'中文', 'de':'德语', 'el':'希腊语', 'ja':'日语', 'la':'拉丁语', 'ru':'俄语', 'th':'泰语'}"
   ]
  },
  {
   "cell_type": "code",
   "execution_count": 6,
   "metadata": {},
   "outputs": [
    {
     "name": "stdout",
     "output_type": "stream",
     "text": [
      "[CQ:at,id=qq/user/15*****] 氖泡接在驱动电源负和地线之间[CQ:face,id=108][CQ:face,id=108][CQ:at, \t| → zh(-204.031059)\n",
      "牛啤                                                                                           \t| → zh(-19.840544)\n",
      "ΕΞΖΝи△M                                                                                  \t| → el(-68.036244)\n",
      "This is a test text...                                                                         \t| → en(-54.413104)\n",
      "<h2><a id=\"user-content-probability-normalization\" class=\"anchor\" aria-hidden=\"t               \t| → ro(-14.682011)\n",
      "import win32event as event; event_tigger = event.CreateEvent(None, False, False,               \t| → en(-47.138615)\n",
      "http://yhhtech.cn                                                                              \t| → en(-16.985306)\n",
      "2333锟斤拷                                                                                     \t| → zh(-12.147441)\n",
      "Wall time: 39.8 ms\n"
     ]
    }
   ],
   "source": [
    "%%time\n",
    "for 测试句子 in 测试文本组:\n",
    "    lang, probability = langid.classify(测试句子)\n",
    "    print(f\"{测试句子[:80]: <{95-len(测试句子.encode('gbk'))+len(测试句子)}}\\t| → {lang}({round(probability, 6)})\")\n",
    "# langid.classify默认输出的第二个数值是对数概率, 不计算全部语种的概率所以速度快. 但是有时候因为还需要知道语种分类的\"置信度\", 就需要启用langid.py的概率归一化: "
   ]
  },
  {
   "cell_type": "code",
   "execution_count": 7,
   "metadata": {},
   "outputs": [
    {
     "name": "stdout",
     "output_type": "stream",
     "text": [
      "Wall time: 2.65 s\n"
     ]
    }
   ],
   "source": [
    "%%time\n",
    "from langid.langid import LanguageIdentifier, model\n",
    "lider = LanguageIdentifier.from_modelstring(model, norm_probs=True)  # 其实主要的耗时是出在这里"
   ]
  },
  {
   "cell_type": "code",
   "execution_count": 8,
   "metadata": {},
   "outputs": [
    {
     "name": "stdout",
     "output_type": "stream",
     "text": [
      "[CQ:at,id=qq/user/15*****] 氖泡接在驱动电源负和地线之间[CQ:face,id=108][CQ:face,id=108][CQ:at, \t| → zh(100.0%)\n",
      "牛啤                                                                                           \t| → zh(51.24%)\n",
      "ΕΞΖΝи△M                                                                                  \t| → el(93.4%)\n",
      "This is a test text...                                                                         \t| → en(100.0%)\n",
      "<h2><a id=\"user-content-probability-normalization\" class=\"anchor\" aria-hidden=\"t               \t| → ro(49.87%)\n",
      "import win32event as event; event_tigger = event.CreateEvent(None, False, False,               \t| → en(99.85%)\n",
      "http://yhhtech.cn                                                                              \t| → en(65.19%)\n",
      "2333锟斤拷                                                                                     \t| → zh(91.77%)\n",
      "Wall time: 40.8 ms\n"
     ]
    }
   ],
   "source": [
    "%%time\n",
    "for 测试句子 in 测试文本组:\n",
    "    lang, probability = lider.classify(测试句子)\n",
    "    print(f\"{测试句子[:80]: <{95-len(测试句子.encode('gbk'))+len(测试句子)}}\\t| → {lang}({round(probability * 100, 2)}%)\")"
   ]
  },
  {
   "cell_type": "markdown",
   "metadata": {},
   "source": [
    "还可以考虑加个编程语言探测, 比如GitHub通过[linguist](https://github.com/github/linguist)对主流编程语言(300多种)达到84%正确识别   \n",
    "其实也可以自己用朴素贝叶斯实现一个, 但是暂时没时间和精力去做了..."
   ]
  },
  {
   "cell_type": "markdown",
   "metadata": {},
   "source": [
    "### 语句分词/词性标注\n",
    "本文以中文语境的处理为例, 使用jieba分词工具"
   ]
  },
  {
   "cell_type": "code",
   "execution_count": 9,
   "metadata": {},
   "outputs": [
    {
     "name": "stdout",
     "output_type": "stream",
     "text": [
      "Wall time: 1.28 s\n"
     ]
    }
   ],
   "source": [
    "%%time\n",
    "import jieba as jb, jieba.analyse as jban, jieba.posseg as pseg"
   ]
  },
  {
   "cell_type": "code",
   "execution_count": 10,
   "metadata": {},
   "outputs": [
    {
     "name": "stderr",
     "output_type": "stream",
     "text": [
      "Building prefix dict from the default dictionary ...\n",
      "Loading model from cache C:\\Users\\Hooke\\AppData\\Local\\Temp\\jieba.cache\n",
      "Loading model cost 1.011 seconds.\n",
      "Prefix dict has been built successfully.\n"
     ]
    },
    {
     "name": "stdout",
     "output_type": "stream",
     "text": [
      "Wall time: 1.02 s\n"
     ]
    }
   ],
   "source": [
    "%time jb.initialize()"
   ]
  },
  {
   "cell_type": "markdown",
   "metadata": {},
   "source": [
    "jieba是一个开源的汉语分词工具, 号称做最好的python中文分词, 简便易用, 支持三种分词模式, 支持繁体, 支持[自定义词典](https://github.com/fxsjy/jieba#%E8%BD%BD%E5%85%A5%E8%AF%8D%E5%85%B8), 可以标注词性, 可以[提取文本关键词](https://github.com/fxsjy/jieba#%E5%9F%BA%E4%BA%8E-tf-idf-%E7%AE%97%E6%B3%95%E7%9A%84%E5%85%B3%E9%94%AE%E8%AF%8D%E6%8A%BD%E5%8F%96). MIT授权.    \n",
    "jieba只支持中文, 英语以及类英语的语言可以用[NLTK](https://github.com/nltk/nltk)(NLTK也支持中文处理, 但使用不太友好, 中文分词还需要安装斯坦福分词器)  \n",
    "jieba词性标注采用[和ictclas兼容的标记法](https://gist.github.com/luw2007/6016931)  \n",
    "其他常用的汉语分词工具还有SnowNLP, PkuSeg, THULAC, HanLP "
   ]
  },
  {
   "cell_type": "code",
   "execution_count": 11,
   "metadata": {},
   "outputs": [],
   "source": [
    "汉语文本常见词性标注表 = {'d':'副词', 'vn':'动名词', 'n':'名词', 'v':'动词', 'a':'形容词', 'y':'语气词', 'c':'连词', 'x':'非语素', 'p':'介词', 'm':'数词', 'q':'量词', 'ul':'助词', 's':'处所词', 'f':'方位词', 'i':'成语', 'ns':'地名', 'o':'拟声词', 'b':'区别词', 'p':'介词', 'r':'代词', 't':'时间词', 'nr':'人名', 'l':'习用语', 'eng':'外来词', 'nz':'其他专名', 'z':'状态词'}\n",
    "# 有的词性的词对于NLP来说是不重要的, 需要忽略, 比如非语素(标点符号什么的)以及语气词\n",
    "不关注的词性 = ['x', 'y', 'ul', 'd']\n",
    "停用词 = list(set(\"啊,喔,呃,额,诶,咦,呀,哎,嗯,哈,所以说嘛,嘛,那啥,卧槽,艹,妈耶,话说,这个,那个,怎么,之,乎,者,也,只是,因此,以至于,差不多,哪怕,例如,尽管\".split(\",\")))"
   ]
  },
  {
   "cell_type": "code",
   "execution_count": 12,
   "metadata": {},
   "outputs": [
    {
     "name": "stdout",
     "output_type": "stream",
     "text": [
      "['雷', '水龙', '狼', '和', '冥', '火狐', '狼', '是', '一对', 'CP', ',', ' ', '它们', '都', '是', '双', '形态', '兽设', ',', ' ', '所谓', '`', '龙狼', '`', '并', '不是', '一种', '设定', '而是', '龙', '和', '狼', '两个', '形态', '可', '化形', '.']\n"
     ]
    }
   ],
   "source": [
    "print(jb.lcut(\"雷水龙狼和冥火狐狼是一对CP, 它们都是双形态兽设, 所谓`龙狼`并不是一种设定而是龙和狼两个形态可化形.\"))"
   ]
  },
  {
   "cell_type": "markdown",
   "metadata": {},
   "source": [
    "#### jieba自定义字典\n",
    "jieba预设的词典虽然在大多时候能满足需求, 但是对于实际应用来说不够, 很多术语、“黑话”、网络口头语以及“梗”等都可能出现分词错误, 所以, 还需要根据项目实际情况自制词典. "
   ]
  },
  {
   "cell_type": "code",
   "execution_count": 13,
   "metadata": {},
   "outputs": [],
   "source": [
    "# 为了方便观察, 就把自定义词典内容写这里了...\n",
    "文件_自定字典 = open('userDict.txt', 'wb', -1)  # 使用wb搭配后面的encode以便跨平台. (使用中发现在中文的Windows上通过jupyter输入文字是GB2312)\n",
    "文件_自定字典.write(\n",
    "'''剪脚封灌 30 vn\n",
    "感应加热 600 nz\n",
    "市电 200 d\n",
    "-------------\n",
"******(为缩减篇幅, 此处省略)*******\n",
    "-------------\n",
    "埃及鼻涕 250 nz\n",
    "氙猫 600 nr\n",
    "雷水龙狼 nr\n",
    "冥火狐狼 nr\n",
    "'''.encode(\"utf-8\")\n",
    "             )\n",
    "文件_自定字典.flush(); 文件_自定字典.close()\n",
    "# TODO: 考虑采用输入法的词典"
   ]
  },
  {
   "cell_type": "code",
   "execution_count": 14,
   "metadata": {},
   "outputs": [
    {
     "name": "stdout",
     "output_type": "stream",
     "text": [
      "Wall time: 3.23 ms\n"
     ]
    }
   ],
   "source": [
    "%%time\n",
    "jb.load_userdict('userDict.txt')\n",
    "jb.initialize()"
   ]
  },
  {
   "cell_type": "code",
   "execution_count": 15,
   "metadata": {},
   "outputs": [
    {
     "name": "stdout",
     "output_type": "stream",
     "text": [
      "['雷水龙狼', '和', '冥火狐狼', '是', '一对', 'CP', ',', ' ', '它们', '都', '是', '双', '形态', '兽设', ',', ' ', '所谓', '`', '龙狼', '`', '并', '不是', '一种', '设定', '而是', '龙', '和', '狼', '两个', '形态', '可', '化形', '.']\n"
     ]
    }
   ],
   "source": [
    "print(jb.lcut(\"雷水龙狼和冥火狐狼是一对CP, 它们都是双形态兽设, 所谓`龙狼`并不是一种设定而是龙和狼两个形态可化形.\"))"
   ]
  },
  {
   "cell_type": "markdown",
   "metadata": {},
   "source": [
    "#### 封装示例"
   ]
  },
  {
   "cell_type": "code",
   "execution_count": 16,
   "metadata": {},
   "outputs": [],
   "source": [
    "def 语种测试(文本):\n",
    "    语种 = \"\"\n",
    "    语种分类信息 = lider.classify(文本[:80])\n",
    "    if 语种分类信息[1] > 0.982:  # 实际观察发现, 置信度低于这个值的通常是无意义内容或者不是自然语言\n",
    "        try:\n",
    "            语种 = 项目中常见自然语言语种[语种分类信息[0]]\n",
    "        except KeyError:\n",
    "            语种 = \"未知\"\n",
    "    else:\n",
    "        语种 = None\n",
    "    return 语种\n",
    "\n",
    "def 分词并标注(内容, 调试模式 = False):\n",
    "    文本 = []\n",
    "    if type(内容) == str:\n",
    "        文本.append(内容)\n",
    "    elif type(内容) == list and len(内容) > 0:\n",
    "        文本 = 内容\n",
    "    \n",
    "    分词结果 = []; 标注结果 = []\n",
    "    \n",
    "    for index in range(len(文本)):\n",
    "        分词结果.append([]); 标注结果.append([])\n",
    "        文本的语种 = 语种测试(文本[index])\n",
    "        if 文本的语种 != None:\n",
    "            if 调试模式 == True:\n",
    "                print(\"###debug---检测到 %s 文本 \\\"%s\\\" 输入---\" % (文本的语种, 文本[index]) )\n",
    "            if 文本的语种 == \"中文\":\n",
    "                tmp_pseg结果 = pseg.lcut(文本[index])\n",
    "                if 调试模式 == True:\n",
    "                    结果 = []\n",
    "                    for 词, 词性 in tmp_pseg结果:\n",
    "                        try:\n",
    "                            结果.append( (词, \"%s(%s)\" % ( 词性, 汉语文本常见词性标注表[词性]) ) )\n",
    "                        except KeyError:\n",
    "                            结果.append( (词, 词性) )\n",
    "                    return 结果\n",
    "                else:\n",
    "                    for 词, 词性 in tmp_pseg结果:\n",
    "                        if 词性 not in 不关注的词性: # 忽略多余的语素\n",
    "                            分词结果[index].append( 词 )\n",
    "                            标注结果[index].append( 词性 )\n",
    "            else:\n",
    "                分词结果[index].append(f\"【其他语种】({文本的语种})\" + 文本[index] + \"【/其他语种】\"); 标注结果[index].append(\"\")\n",
    "        else:\n",
    "            分词结果[index].append(\"【未知含义】\" + 文本[index] + \"【/未知含义】\"); 标注结果[index].append(\"\")\n",
    "    return 分词结果, 标注结果"
   ]
  },
  {
   "cell_type": "code",
   "execution_count": 17,
   "metadata": {},
   "outputs": [
    {
     "name": "stdout",
     "output_type": "stream",
     "text": [
      "###debug---检测到 中文 文本 \"Python可以使用raise语句抛出一个指定的异常, 之后再使用except语句根据异常信息来处理.\" 输入---\n"
     ]
    },
    {
     "data": {
      "text/plain": [
       "[('Python', 'eng(外来词)'),\n",
       " ('可以', 'c(连词)'),\n",
       " ('使用', 'v(动词)'),\n",
       " ('raise', 'eng(外来词)'),\n",
       " ('语句', 'n(名词)'),\n",
       " ('抛出', 'v(动词)'),\n",
       " ('一个', 'm(数词)'),\n",
       " ('指定的', 'd(副词)'),\n",
       " ('异常', 'nz(其他专名)'),\n",
       " (',', 'x(非语素)'),\n",
       " (' ', 'x(非语素)'),\n",
       " ('之后', 'f(方位词)'),\n",
       " ('再', 'd(副词)'),\n",
       " ('使用', 'v(动词)'),\n",
       " ('except', 'eng(外来词)'),\n",
       " ('语句', 'n(名词)'),\n",
       " ('根据', 'p(介词)'),\n",
       " ('异常', 'nz(其他专名)'),\n",
       " ('信息', 'n(名词)'),\n",
       " ('来', 'v(动词)'),\n",
       " ('处理', 'v(动词)'),\n",
       " ('.', 'x(非语素)')]"
      ]
     },
     "execution_count": 17,
     "metadata": {},
     "output_type": "execute_result"
    }
   ],
   "source": [
    "分词并标注(\"Python可以使用raise语句抛出一个指定的异常, 之后再使用except语句根据异常信息来处理.\", 调试模式 = True)"
   ]
  },
  {
   "cell_type": "markdown",
   "metadata": {},
   "source": [
    "### 数据清洗\n",
    "-----\n",
    "MutBot这个项目以QQ作为主要数据来源, 不能确定消息记录里都有些什么鬼(**数据集中难免包含不和谐的敏感内容**), 所以, 整个预处理除了做自然语言语种判断、分词和词性标注之外、过滤CQ码以及多余的符号等基础操作之外, 还得做**数据清洗**(过滤掉不良信息及广告等内容)以避免不必要的麻烦以及\"模型被教坏\".  \n",
    "这里先用使用第三方库判断内容是否有害, 然后用正则表达式简单处理CQ码/URI和系统提示.  \n",
    "本项目使用的是[cherry分类器](https://github.com/Windsooon/cherry), 在此简介一下:  "
   ]
  },
  {
   "cell_type": "markdown",
   "metadata": {},
   "source": [
    "> cherry分类器使用贝叶斯模型算法做分类, 还提供了混淆矩阵和ROC曲线便于分析. 开箱即用, 定制简单.  \n",
    "> 分词函数支持自定义, 可定制分类算法, 可训练自己的模型  \n",
    "> cherry自带两个预训练模型(没有提供数据集, 不过可以用自己的数据集训练自己的模型):  \n",
    ">> * model='harmful' : 赌博 / 正常 / 政治 / 色情 (4个类别包含约 1000条 中文句子)  \n",
    ">> * model='news' : 彩票 / 科技 / 财经 / 房产 / 社会 / 体育 / 娱乐 (7个 类别包含约 45000条 中文新闻)"
   ]
  },
  {
   "cell_type": "code",
   "execution_count": 18,
   "metadata": {},
   "outputs": [
    {
     "name": "stdout",
     "output_type": "stream",
     "text": [
      "Wall time: 1.1 s\n"
     ]
    }
   ],
   "source": [
    "%%time\n",
    "import re, cherry, numpy as np"
   ]
  },
  {
   "cell_type": "code",
   "execution_count": 19,
   "metadata": {},
   "outputs": [],
   "source": [
    "分类类别 = \"赌博 / 正常 / 政治 / 色情\".split(\" / \")\n",
    "cherryMod = 'harmful'"
   ]
  },
  {
   "cell_type": "code",
   "execution_count": 20,
   "metadata": {},
   "outputs": [
    {
     "name": "stdout",
     "output_type": "stream",
     "text": [
      "Wall time: 72.5 ms\n"
     ]
    },
    {
     "data": {
      "text/plain": [
       "array([[0.32062557, 0.52173518, 0.04995779, 0.10768146]])"
      ]
     },
     "execution_count": 20,
     "metadata": {},
     "output_type": "execute_result"
    }
   ],
   "source": [
    "%time cherry.classify(model=cherryMod, text=[\"text须是一个list(一次多个句子效率高)\"]).probability"
   ]
  },
  {
   "cell_type": "markdown",
   "metadata": {},
   "source": [
    "#### 应用实例演示"
   ]
  },
  {
   "cell_type": "code",
   "execution_count": 21,
   "metadata": {},
   "outputs": [],
   "source": [
    "def 文段分句(文段):\n",
    "    文段 = re.sub('([。！~;；？\\?])([^”’])', r\"\\1\\n\\2\", 文段)          # 单字符断句符\n",
    "    文段 = re.sub('(\\.{2,})([^”’])', r\"\\1\\n\\2\", 文段)                 # 英文省略号\n",
    "    文段 = re.sub('(\\…{1,})([^”’])', r\"\\1\\n\\2\", 文段)                 # 中文省略号\n",
    "    文段 = re.sub('(\\. )([^”’])', r\"\\1\\n\\2\", 文段)                    # 英文句号(区分小数点)\n",
    "    文段 = re.sub('([。！？\\?][”’])([^，。！？\\?])', r'\\1\\n\\2', 文段)  # 如果双引号前有终止符，那么双引号才是文段的终点，把分句符\\n放到双引号后，注意前面的几句都小心保留了双引号\n",
    "    文段 = 文段.rstrip(); 文段 = 文段.strip(); 文段 = 文段.rstrip(\"\\r\") # 如果有多余的空白就去掉它\n",
    "    文段 = 文段.split(\"\\n\")\n",
    "    res  = [句子 for 句子 in 文段 if len(句子) > 0]                    # 忽略空句子\n",
    "    return res\n",
    "\n",
    "def CQ记录转换(原CQ记录, 调试模式=False, 过滤条件=\"分类概率[index][1] < 0.4216 and (分类概率[index][0] > 0.968 or 分类概率[index][2] > 0.836 or 分类概率[index][3] > 0.996)\"):\n",
    "    系统提示内容 = [\"&#91;闪照&#93;请使用新版手机QQ查看闪照\", \"&#91;视频&#93;你的QQ暂不支持查看视频短片，请升级到最新版本后查看\", \"&#91;QQ红包&#93;你收到一个画图红包，请升级到新版手机QQ查看\", \"当前版本不支持该消息类型，请使用最新版本手机QQ查看\"]\n",
    "    消息_处理 = 原CQ记录\n",
    "    消息 = {\"CQ码\":[], \"内容\":[], \"其他数据\":{}}\n",
    "   \n",
    "    for element in 系统提示内容:  # 检查系统消息, 如果有就直接删除\n",
    "        消息_处理 = 消息_处理.replace(element, \"\")\n",
    "        \n",
    "    # 把CQ码全都单独收起来, 然后再把URI之类的附加数据收起来, 剩下的就是内容了. \n",
    "    reExp = r'(?P<CQ码>\\[CQ:\\w{1,8},\\w{1,10}=([\\u0020-\\uffff 0-9_ \\n]+?)(\\]|\\})?\\])'\n",
    "    tmp = re.findall(reExp, 消息_处理) # CQ码是表情/艾特/分享之类的\n",
    "    if len(tmp) > 0 :\n",
    "        消息[\"CQ码\"] = [tmp[index][0] for index in range(len(tmp))]\n",
    "        消息_处理 = re.sub(reExp ,\"ECQ码转义E\", 消息_处理)\n",
    "        \n",
    "    # 考虑到实际中会有这样的消息记录: \"推荐看看这篇文章: http://xxx.xxx.xxx\". 其中的链接也是重要的, 但不是语素, 应单独收起来.\n",
    "    \n",
    "    reExp_可能的域名 = r\"((www|tool|i|item|store|dict|bbs|m|h5|paper|wiki|im|h)\\.\\S+\\.(com|cn|org|tw|top|hk|net|info|vip|club|net|cc|me|gov|shop|wiki|name|edu|xyz|ru|de|hk|cc))\"\n",
    "    消息_处理 = re.sub(reExp_可能的域名, r\" \\1 \", 消息_处理)  # 实际的场景中经常会有\"你看看xxx.中文域名.cn很厉害啊\"这种情况(没有空格), 所以把所有可能的域名前后都加上个空格\n",
    "    reExp_数字结尾的 = r\"/(\\d+)([\\u4e00-\\u9fa5,， ]+([。！~;；？\\?\\n]|(\\. )|(\\.{2,6})|(\\…{1,2}))?)\"\n",
    "    消息_处理 = re.sub(reExp_数字结尾的, r\"/\\1 \\2\", 消息_处理)  # 如果数字后面的中文带分句符, 那说明后面的中文不属于URI的一部分\n",
    "    \n",
    "    reExp = r'(?P<URI>([a-z]+://)?(((([-0-9a-z一-龥\\:@]+\\.){2,4}(com|cn|org|tw|top|hk|net|info|vip|club|net|cc|me|gov|shop|wiki|([一-龥]{2,4})))|((\\d{1,3}\\.){3}\\d{1,3}))(:\\d{1,5})?( ?\\/[\\u0023-\\u0027\\u002A-\\u002b\\u002d-\\u005a\\u005f-\\u9fa5=]+(\\.(php|html|jpg|png|pdf|mp4|mp3|zip|rar|txt))?)?)|([a-z]+://[a-z0-9-_\\=]+\\/[\\x21-\\x7e]+))'\n",
    "    # TODO: 待优化\n",
    "    tmp = re.findall(reExp, 消息_处理)  # URI的常见形式为`[协议://][用户名[:密码]@][子域名.]顶级域名[:端口号]/资源路径[附加Querry]`, 其中方括号的内容不一定有\n",
    "    if len(tmp) > 0 :\n",
    "        消息[\"其他数据\"][\"URI\"] = [tmp[index][0].replace(\" \", \"\") for index in range(len(tmp))]\n",
    "        消息_处理 = re.sub(reExp ,\"E链接转义E\", 消息_处理)\n",
    "        \n",
    "    消息_处理 = 消息_处理.upper()  # 为了降低词复杂度和减轻计算压力, 所有字母统一大写\n",
    "    消息_处理 = 消息_处理.replace(\"\\r\", \"\")\n",
    "    消息[\"内容\"] = 文段分句(消息_处理)  # 这些步骤之后剩下的就是内容了, 考虑到内容有可能是长文本或者文段, 应该对内容分句.\n",
    "    \n",
    "    # 最后一步是把违规内容过滤丢弃或者单独收起来\n",
    "    if len(消息[\"内容\"]) > 0 and len(消息[\"内容\"][0]) > 0:\n",
    "        文本 = [re.sub(\"E[链接|CQ码]+转义E\", \" \", 句子) for 句子 in 消息[\"内容\"]]  # 先复制一份, 去掉自己的转义\n",
    "        分类概率 = cherry.classify(model=cherryMod, text=文本).probability\n",
    "        tmp_过滤内容 = []\n",
    "        for index in range(len(分类概率)):\n",
    "            if eval(过滤条件):\n",
    "                最大概率分类 = int(np.where(分类概率[index] == 分类概率[index].max())[0])\n",
    "                过滤原因 = f\"【{分类类别[最大概率分类]}({'%0.2f%%' % round(分类概率[index][最大概率分类] * 100, 5)})】\"\n",
    "                if 调试模式 == True:\n",
    "                    print(f\"---debug:: 内容 `{文本[index]}` 因 `{过滤原因}` 被过滤.\")\n",
    "                tmp_过滤内容.append(过滤原因 + 文本[index])\n",
    "                消息[\"内容\"][index] = \"E违规内容转义E\"\n",
    "                消息[\"其他数据\"][\"违规过滤\"] = tmp_过滤内容\n",
    "    return 消息"
   ]
  },
  {
   "cell_type": "code",
   "execution_count": 22,
   "metadata": {},
   "outputs": [
    {
     "name": "stdout",
     "output_type": "stream",
     "text": [
      "---debug:: 内容 `最近这么多人加群` 因 `【政治(86.08%)】` 被过滤.\n",
      "---debug:: 内容 ` 她每天不是对着电脑不停敲代码就是妩媚地蹲在床上娇嗲地学猫叫。` 因 `【色情(99.98%)】` 被过滤.\n",
      "Wall time: 495 ms\n"
     ]
    },
    {
     "data": {
      "text/plain": [
       "{'CQ码': ['[CQ:at,id=qq/user/15*****]', '[CQ:at,id=qq/user/18*****]'],\n",
       " '内容': ['233',\n",
       "  'ECQ码转义E 推荐看看这篇文章:《某只狗狗春节假期不停写代码竟是因为脑疾难医》, 很有意思啊~',\n",
       "  'E违规内容转义E',\n",
       "  '毕竟测试集(E链接转义E)中违规内容占比到了6.66%呢...',\n",
       "  '你看 E链接转义E 这个故事告诉了我们数据清洗的重要性. ',\n",
       "  '小女觉得吧，这几句话应当分句才好……',\n",
       "  'ECQ码转义E',\n",
       "  '这个问题就别问了, 去 E链接转义E 自己查去!',\n",
       "  '某只狗狗患有脑疾, 近来愈发严重...',\n",
       "  'E违规内容转义E',\n",
       "  '所以说嘛, 不能讳疾忌医呀!'],\n",
       " '其他数据': {'URI': ['127.0.0.1:6164/lab',\n",
       "   'h.bilibili.com/54730711',\n",
       "   'www.baidu.com'],\n",
       "  '违规过滤': ['【政治(86.08%)】最近这么多人加群',\n",
       "   '【色情(99.98%)】 她每天不是对着电脑不停敲代码就是妩媚地蹲在床上娇嗲地学猫叫。']}}"
      ]
     },
     "execution_count": 22,
     "metadata": {},
     "output_type": "execute_result"
    }
   ],
   "source": [
    "%%time\n",
    "CQ记录转换(\n",
    "    \"\"\"233\n",
    "[CQ:at,id=qq/user/15*****] 推荐看看这篇文章:《某只狗狗春节假期不停写代码竟是因为脑疾难医》, 很有意思啊~最近这么多人加群\n",
    "毕竟测试集(127.0.0.1:6164/lab)中违规内容占比到了6.66%呢...你看h.bilibili.com/54730711这个故事告诉了我们数据清洗的重要性. \n",
    "小女觉得吧，这几句话应当分句才好……[CQ:at,id=qq/user/18*****]\n",
    "这个问题就别问了, 去www.baidu.com自己查去!\n",
    "某只狗狗患有脑疾, 近来愈发严重... 她每天不是对着电脑不停敲代码就是妩媚地蹲在床上娇嗲地学猫叫。所以说嘛, 不能讳疾忌医呀!\"\"\"\n",
    "    , 调试模式 = True)"
   ]
  },
  {
   "cell_type": "markdown",
   "metadata": {},
   "source": [
    "#### 踩坑 - 工具自己的预设不适用\n",
    "但实际使用发现, cherry提供的预训练模型虽然对日常常见文本的分类正确率很高, 但是, 对于群聊这种场合尤其是一些技术领域, 错误率太高(简直就是不靠谱, 至少在电子爱好者群消息记录的表现实在是惨不忍睹), 即使是尝试人工加阈值和逻辑也不好使. 例如, 自带的`harmful`模型出现了以下误分情况:  "
   ]
  },
  {
   "cell_type": "code",
   "execution_count": 23,
   "metadata": {},
   "outputs": [],
   "source": [
    "def 显示文本分类(文本, 模型=\"harmful\", 正常列号=1, 分类类别=\"赌博 / 正常 / 政治 / 色情\".split(\" / \")):\n",
    "    分类概率 = cherry.classify(model=模型, text=文本).probability\n",
    "    for row in range(len(分类概率)):\n",
    "        最大概率项 = int(np.where(分类概率[row] == 分类概率[row].max())[0]);\n",
    "        if 最大概率项 != 正常列号: #分类概率[row][1] < 0.4216 and (分类概率[row][0] > 0.968 or 分类概率[row][2] > 0.836 or 分类概率[row][3] > 0.996):\n",
    "            颜色 = \"\\033[0;31m\"\n",
    "        else:\n",
    "            颜色 = \"\\033[0;32m\"\n",
    "        proba = \"\"\n",
    "        for column in range(len(分类概率[row])):\n",
    "            valColor = \"\\033[0;33m\" if column == 最大概率项 else \"\\033[m\"\n",
    "            proba += (f\"{valColor}{round(分类概率[row][column] * 100, 1): >5}%\\033[m \")\n",
    "        line = 示例文本[row][:35]; 类别 = 分类类别[最大概率项]\n",
    "        print(f\"句子{row:0>2}{颜色}`{line:<{55 - len(line.encode('gbk')) + len(line)}}\\t`\\033[m概率 → {proba} (最大概率 → {颜色}{类别}\\033[m)\")"
   ]
  },
  {
   "cell_type": "code",
   "execution_count": 24,
   "metadata": {},
   "outputs": [],
   "source": [
    "示例文本 = [\"摩擦试的应该更难做吧\", \"摩擦生电效率和材料有关? 大部分能量都转化为内能了\", \"不是只需要传送带传送电荷吗\", \"买个华业通信电源吧\", \"某位老兄的线圈就是这么死的\", \"GDT本身就是变压器\", \"最近这么多人加群\", \"虚拟机怎么让他全屏界面显示\", \"不包邮的话，白送么\", \"电源正负极串联电容，地线接中间，小功率接地都这样干\", \"服务器主板才支持热插拔\", \"电阻等于电压比电流\", \"IGBT的开关速度太低不适合上高频\", \"把充电头输入220接到输出\", \"不过说实话PD有点不敢浪,PD的CC线的耐压在之前标准上只有6V,VBUS挨着CC.\", \"这VSYS线上没太大电流\", \"开关速度不行\", \"cherry分类器的输入最好是批量的\", \"镊子插进去转两圈就好了\"]"
   ]
  },
  {
   "cell_type": "code",
   "execution_count": 25,
   "metadata": {},
   "outputs": [
    {
     "name": "stdout",
     "output_type": "stream",
     "text": [
      "句子00\u001b[0;31m`摩擦试的应该更难做吧                                   \t`\u001b[m概率 → \u001b[m  3.8%\u001b[m \u001b[m  3.0%\u001b[m \u001b[m  3.6%\u001b[m \u001b[0;33m 89.6%\u001b[m  (最大概率 → \u001b[0;31m色情\u001b[m)\n",
      "句子01\u001b[0;31m`摩擦生电效率和材料有关? 大部分能量都转化为内能了       \t`\u001b[m概率 → \u001b[m  0.0%\u001b[m \u001b[m  1.3%\u001b[m \u001b[0;33m 98.6%\u001b[m \u001b[m  0.0%\u001b[m  (最大概率 → \u001b[0;31m政治\u001b[m)\n",
      "句子02\u001b[0;31m`不是只需要传送带传送电荷吗                             \t`\u001b[m概率 → \u001b[0;33m 57.2%\u001b[m \u001b[m 21.4%\u001b[m \u001b[m 12.7%\u001b[m \u001b[m  8.7%\u001b[m  (最大概率 → \u001b[0;31m赌博\u001b[m)\n",
      "句子03\u001b[0;31m`买个华业通信电源吧                                     \t`\u001b[m概率 → \u001b[m 42.3%\u001b[m \u001b[m  4.5%\u001b[m \u001b[0;33m 48.7%\u001b[m \u001b[m  4.5%\u001b[m  (最大概率 → \u001b[0;31m政治\u001b[m)\n",
      "句子04\u001b[0;31m`某位老兄的线圈就是这么死的                             \t`\u001b[m概率 → \u001b[m 15.6%\u001b[m \u001b[m 23.2%\u001b[m \u001b[0;33m 32.2%\u001b[m \u001b[m 29.0%\u001b[m  (最大概率 → \u001b[0;31m政治\u001b[m)\n",
      "句子05\u001b[0;31m`GDT本身就是变压器                                      \t`\u001b[m概率 → \u001b[m  1.9%\u001b[m \u001b[m  2.6%\u001b[m \u001b[0;33m 91.5%\u001b[m \u001b[m  4.0%\u001b[m  (最大概率 → \u001b[0;31m政治\u001b[m)\n",
      "句子06\u001b[0;31m`最近这么多人加群                                       \t`\u001b[m概率 → \u001b[m  0.2%\u001b[m \u001b[m 10.9%\u001b[m \u001b[0;33m 86.1%\u001b[m \u001b[m  2.8%\u001b[m  (最大概率 → \u001b[0;31m政治\u001b[m)\n",
      "句子07\u001b[0;31m`虚拟机怎么让他全屏界面显示                             \t`\u001b[m概率 → \u001b[m  0.7%\u001b[m \u001b[m 45.0%\u001b[m \u001b[m  0.9%\u001b[m \u001b[0;33m 53.4%\u001b[m  (最大概率 → \u001b[0;31m色情\u001b[m)\n",
      "句子08\u001b[0;31m`不包邮的话，白送么                                     \t`\u001b[m概率 → \u001b[m 17.8%\u001b[m \u001b[m 31.1%\u001b[m \u001b[0;33m 40.2%\u001b[m \u001b[m 10.9%\u001b[m  (最大概率 → \u001b[0;31m政治\u001b[m)\n",
      "句子09\u001b[0;31m`电源正负极串联电容，地线接中间，小功率接地都这样干     \t`\u001b[m概率 → \u001b[m  0.8%\u001b[m \u001b[m  4.2%\u001b[m \u001b[m  1.7%\u001b[m \u001b[0;33m 93.2%\u001b[m  (最大概率 → \u001b[0;31m色情\u001b[m)\n",
      "句子10\u001b[0;31m`服务器主板才支持热插拔                                 \t`\u001b[m概率 → \u001b[m  1.8%\u001b[m \u001b[m 20.2%\u001b[m \u001b[0;33m 78.0%\u001b[m \u001b[m  0.0%\u001b[m  (最大概率 → \u001b[0;31m政治\u001b[m)\n",
      "句子11\u001b[0;31m`电阻等于电压比电流                                     \t`\u001b[m概率 → \u001b[m 35.4%\u001b[m \u001b[m 21.9%\u001b[m \u001b[0;33m 40.8%\u001b[m \u001b[m  2.0%\u001b[m  (最大概率 → \u001b[0;31m政治\u001b[m)\n",
      "句子12\u001b[0;31m`IGBT的开关速度太低不适合上高频                         \t`\u001b[m概率 → \u001b[0;33m 88.8%\u001b[m \u001b[m  6.8%\u001b[m \u001b[m  0.1%\u001b[m \u001b[m  4.2%\u001b[m  (最大概率 → \u001b[0;31m赌博\u001b[m)\n",
      "句子13\u001b[0;31m`把充电头输入220接到输出                                \t`\u001b[m概率 → \u001b[m  0.0%\u001b[m \u001b[m 19.5%\u001b[m \u001b[0;33m 80.4%\u001b[m \u001b[m  0.1%\u001b[m  (最大概率 → \u001b[0;31m政治\u001b[m)\n",
      "句子14\u001b[0;31m`不过说实话PD有点不敢浪,PD的CC线的耐压在之前标准上只有6V,VB\t`\u001b[m概率 → \u001b[m  8.5%\u001b[m \u001b[m  5.4%\u001b[m \u001b[0;33m 85.3%\u001b[m \u001b[m  0.8%\u001b[m  (最大概率 → \u001b[0;31m政治\u001b[m)\n",
      "句子15\u001b[0;31m`这VSYS线上没太大电流                                   \t`\u001b[m概率 → \u001b[0;33m 67.9%\u001b[m \u001b[m  0.6%\u001b[m \u001b[m  0.6%\u001b[m \u001b[m 30.9%\u001b[m  (最大概率 → \u001b[0;31m赌博\u001b[m)\n",
      "句子16\u001b[0;31m`开关速度不行                                           \t`\u001b[m概率 → \u001b[m  4.4%\u001b[m \u001b[m  0.7%\u001b[m \u001b[m  1.8%\u001b[m \u001b[0;33m 93.2%\u001b[m  (最大概率 → \u001b[0;31m色情\u001b[m)\n",
      "句子17\u001b[0;31m`cherry分类器的输入最好是批量的                         \t`\u001b[m概率 → \u001b[m 29.0%\u001b[m \u001b[m 11.7%\u001b[m \u001b[0;33m 54.2%\u001b[m \u001b[m  5.0%\u001b[m  (最大概率 → \u001b[0;31m政治\u001b[m)\n",
      "句子18\u001b[0;31m`镊子插进去转两圈就好了                                 \t`\u001b[m概率 → \u001b[m  0.3%\u001b[m \u001b[m  0.4%\u001b[m \u001b[m  0.4%\u001b[m \u001b[0;33m 98.9%\u001b[m  (最大概率 → \u001b[0;31m色情\u001b[m)\n"
     ]
    }
   ],
   "source": [
    "显示文本分类(示例文本)"
   ]
  },
  {
   "cell_type": "markdown",
   "metadata": {},
   "source": [
    "#### 定制cherry分类器\n",
    "这些都是一些很正常的消息记录, 可是在错误的分类上却是得分最高, 所以必须得定制自己的模型以符合实际需求.  \n",
    "于是参考[cherry分类器的GitHub文档](https://github.com/Windsooon/cherry#documentation), 模仿`harmful`, 增`4 - 违和`和`5 - 广告`两项, 训练自己的模型. 遂人工从群消息记录中选出了200条左右的各类内容, 又从GitHub项目[funNLP](https://github.com/fighting41love/funNLP)中选取了一些互联网常见不良内容语料. 存文档`data.txt`, 复制参考停用词, 建`harmfulA`文件夹, 扩充训练."
   ]
  },
  {
   "cell_type": "code",
   "execution_count": 26,
   "metadata": {},
   "outputs": [
    {
     "name": "stdout",
     "output_type": "stream",
     "text": [
      "Training may take some time depending on your dataset\n",
      "Wall time: 300 ms\n"
     ]
    },
    {
     "data": {
      "text/plain": [
       "<cherry.trainer.Trainer at 0x1f5d47bfbe0>"
      ]
     },
     "execution_count": 26,
     "metadata": {},
     "output_type": "execute_result"
    }
   ],
   "source": [
    "cherryMod = \"harmfulA\"\n",
    "%time cherry.train(model=cherryMod, clf_method='SGD')"
   ]
  },
  {
   "cell_type": "code",
   "execution_count": 27,
   "metadata": {},
   "outputs": [
    {
     "data": {
      "image/png": "[encoded data removed]",
      "text/plain": [
       "<Figure size 432x288 with 1 Axes>"
      ]
     },
     "metadata": {
      "needs_background": "light"
     },
     "output_type": "display_data"
    },
    {
     "name": "stdout",
     "output_type": "stream",
     "text": [
      "Wall time: 7.66 s\n"
     ]
    },
    {
     "data": {
      "text/plain": [
       "<cherry.displayer.Display at 0x1f5d47bf070>"
      ]
     },
     "execution_count": 27,
     "metadata": {},
     "output_type": "execute_result"
    }
   ],
   "source": [
    "%time cherry.display(model=cherryMod, clf_method='SGD')"
   ]
  },
  {
   "cell_type": "code",
   "execution_count": 28,
   "metadata": {},
   "outputs": [],
   "source": [
    "分类类别 = \"正常 / 违法 / 敏感 / 涩情 / 违和 / 广告\".split(\" / \")"
   ]
  },
  {
   "cell_type": "code",
   "execution_count": 29,
   "metadata": {},
   "outputs": [
    {
     "name": "stdout",
     "output_type": "stream",
     "text": [
      "句子00\u001b[0;32m`摩擦试的应该更难做吧                                   \t`\u001b[m概率 → \u001b[0;33m 98.2%\u001b[m \u001b[m  0.0%\u001b[m \u001b[m  0.2%\u001b[m \u001b[m  1.4%\u001b[m \u001b[m  0.1%\u001b[m \u001b[m  0.0%\u001b[m \u001b[m  0.0%\u001b[m  (最大概率 → \u001b[0;32m正常\u001b[m)\n",
      "句子01\u001b[0;32m`摩擦生电效率和材料有关? 大部分能量都转化为内能了       \t`\u001b[m概率 → \u001b[0;33m100.0%\u001b[m \u001b[m  0.0%\u001b[m \u001b[m  0.0%\u001b[m \u001b[m  0.0%\u001b[m \u001b[m  0.0%\u001b[m \u001b[m  0.0%\u001b[m \u001b[m  0.0%\u001b[m  (最大概率 → \u001b[0;32m正常\u001b[m)\n",
      "句子02\u001b[0;32m`不是只需要传送带传送电荷吗                             \t`\u001b[m概率 → \u001b[0;33m 99.6%\u001b[m \u001b[m  0.0%\u001b[m \u001b[m  0.0%\u001b[m \u001b[m  0.1%\u001b[m \u001b[m  0.1%\u001b[m \u001b[m  0.1%\u001b[m \u001b[m  0.2%\u001b[m  (最大概率 → \u001b[0;32m正常\u001b[m)\n",
      "句子03\u001b[0;32m`买个华业通信电源吧                                     \t`\u001b[m概率 → \u001b[0;33m 99.7%\u001b[m \u001b[m  0.0%\u001b[m \u001b[m  0.0%\u001b[m \u001b[m  0.0%\u001b[m \u001b[m  0.2%\u001b[m \u001b[m  0.0%\u001b[m \u001b[m  0.0%\u001b[m  (最大概率 → \u001b[0;32m正常\u001b[m)\n",
      "句子04\u001b[0;32m`某位老兄的线圈就是这么死的                             \t`\u001b[m概率 → \u001b[0;33m 99.9%\u001b[m \u001b[m  0.0%\u001b[m \u001b[m  0.0%\u001b[m \u001b[m  0.0%\u001b[m \u001b[m  0.1%\u001b[m \u001b[m  0.0%\u001b[m \u001b[m  0.0%\u001b[m  (最大概率 → \u001b[0;32m正常\u001b[m)\n",
      "句子05\u001b[0;32m`GDT本身就是变压器                                      \t`\u001b[m概率 → \u001b[0;33m 99.5%\u001b[m \u001b[m  0.0%\u001b[m \u001b[m  0.0%\u001b[m \u001b[m  0.0%\u001b[m \u001b[m  0.5%\u001b[m \u001b[m  0.0%\u001b[m \u001b[m  0.0%\u001b[m  (最大概率 → \u001b[0;32m正常\u001b[m)\n",
      "句子06\u001b[0;32m`最近这么多人加群                                       \t`\u001b[m概率 → \u001b[0;33m 96.7%\u001b[m \u001b[m  1.5%\u001b[m \u001b[m  0.2%\u001b[m \u001b[m  0.9%\u001b[m \u001b[m  0.6%\u001b[m \u001b[m  0.0%\u001b[m \u001b[m  0.1%\u001b[m  (最大概率 → \u001b[0;32m正常\u001b[m)\n",
      "句子07\u001b[0;32m`虚拟机怎么让他全屏界面显示                             \t`\u001b[m概率 → \u001b[0;33m 97.4%\u001b[m \u001b[m  0.4%\u001b[m \u001b[m  0.5%\u001b[m \u001b[m  0.1%\u001b[m \u001b[m  1.5%\u001b[m \u001b[m  0.0%\u001b[m \u001b[m  0.0%\u001b[m  (最大概率 → \u001b[0;32m正常\u001b[m)\n",
      "句子08\u001b[0;32m`不包邮的话，白送么                                     \t`\u001b[m概率 → \u001b[0;33m 90.7%\u001b[m \u001b[m  0.8%\u001b[m \u001b[m  0.1%\u001b[m \u001b[m  0.4%\u001b[m \u001b[m  6.6%\u001b[m \u001b[m  1.5%\u001b[m \u001b[m  0.0%\u001b[m  (最大概率 → \u001b[0;32m正常\u001b[m)\n",
      "句子09\u001b[0;32m`电源正负极串联电容，地线接中间，小功率接地都这样干     \t`\u001b[m概率 → \u001b[0;33m100.0%\u001b[m \u001b[m  0.0%\u001b[m \u001b[m  0.0%\u001b[m \u001b[m  0.0%\u001b[m \u001b[m  0.0%\u001b[m \u001b[m  0.0%\u001b[m \u001b[m  0.0%\u001b[m  (最大概率 → \u001b[0;32m正常\u001b[m)\n",
      "句子10\u001b[0;32m`服务器主板才支持热插拔                                 \t`\u001b[m概率 → \u001b[0;33m 99.6%\u001b[m \u001b[m  0.0%\u001b[m \u001b[m  0.1%\u001b[m \u001b[m  0.1%\u001b[m \u001b[m  0.1%\u001b[m \u001b[m  0.0%\u001b[m \u001b[m  0.2%\u001b[m  (最大概率 → \u001b[0;32m正常\u001b[m)\n",
      "句子11\u001b[0;32m`电阻等于电压比电流                                     \t`\u001b[m概率 → \u001b[0;33m100.0%\u001b[m \u001b[m  0.0%\u001b[m \u001b[m  0.0%\u001b[m \u001b[m  0.0%\u001b[m \u001b[m  0.0%\u001b[m \u001b[m  0.0%\u001b[m \u001b[m  0.0%\u001b[m  (最大概率 → \u001b[0;32m正常\u001b[m)\n",
      "句子12\u001b[0;32m`IGBT的开关速度太低不适合上高频                         \t`\u001b[m概率 → \u001b[0;33m100.0%\u001b[m \u001b[m  0.0%\u001b[m \u001b[m  0.0%\u001b[m \u001b[m  0.0%\u001b[m \u001b[m  0.0%\u001b[m \u001b[m  0.0%\u001b[m \u001b[m  0.0%\u001b[m  (最大概率 → \u001b[0;32m正常\u001b[m)\n",
      "句子13\u001b[0;32m`把充电头输入220接到输出                                \t`\u001b[m概率 → \u001b[0;33m100.0%\u001b[m \u001b[m  0.0%\u001b[m \u001b[m  0.0%\u001b[m \u001b[m  0.0%\u001b[m \u001b[m  0.0%\u001b[m \u001b[m  0.0%\u001b[m \u001b[m  0.0%\u001b[m  (最大概率 → \u001b[0;32m正常\u001b[m)\n",
      "句子14\u001b[0;32m`不过说实话PD有点不敢浪,PD的CC线的耐压在之前标准上只有6V,VB\t`\u001b[m概率 → \u001b[0;33m100.0%\u001b[m \u001b[m  0.0%\u001b[m \u001b[m  0.0%\u001b[m \u001b[m  0.0%\u001b[m \u001b[m  0.0%\u001b[m \u001b[m  0.0%\u001b[m \u001b[m  0.0%\u001b[m  (最大概率 → \u001b[0;32m正常\u001b[m)\n",
      "句子15\u001b[0;32m`这VSYS线上没太大电流                                   \t`\u001b[m概率 → \u001b[0;33m100.0%\u001b[m \u001b[m  0.0%\u001b[m \u001b[m  0.0%\u001b[m \u001b[m  0.0%\u001b[m \u001b[m  0.0%\u001b[m \u001b[m  0.0%\u001b[m \u001b[m  0.0%\u001b[m  (最大概率 → \u001b[0;32m正常\u001b[m)\n",
      "句子16\u001b[0;32m`开关速度不行                                           \t`\u001b[m概率 → \u001b[0;33m 99.8%\u001b[m \u001b[m  0.0%\u001b[m \u001b[m  0.0%\u001b[m \u001b[m  0.1%\u001b[m \u001b[m  0.1%\u001b[m \u001b[m  0.0%\u001b[m \u001b[m  0.0%\u001b[m  (最大概率 → \u001b[0;32m正常\u001b[m)\n",
      "句子17\u001b[0;32m`cherry分类器的输入最好是批量的                         \t`\u001b[m概率 → \u001b[0;33m100.0%\u001b[m \u001b[m  0.0%\u001b[m \u001b[m  0.0%\u001b[m \u001b[m  0.0%\u001b[m \u001b[m  0.0%\u001b[m \u001b[m  0.0%\u001b[m \u001b[m  0.0%\u001b[m  (最大概率 → \u001b[0;32m正常\u001b[m)\n",
      "句子18\u001b[0;32m`镊子插进去转两圈就好了                                 \t`\u001b[m概率 → \u001b[0;33m 99.0%\u001b[m \u001b[m  0.1%\u001b[m \u001b[m  0.1%\u001b[m \u001b[m  0.5%\u001b[m \u001b[m  0.3%\u001b[m \u001b[m  0.0%\u001b[m \u001b[m  0.0%\u001b[m  (最大概率 → \u001b[0;32m正常\u001b[m)\n"
     ]
    }
   ],
   "source": [
    "显示文本分类(示例文本, cherryMod, 0, 分类类别)"
   ]
  },
  {
   "cell_type": "markdown",
   "metadata": {},
   "source": [
    "----  \n",
    "### 操作数据(通过Pandas工具)\n",
    "以上内容基本就能实现简单的文本预处理了, 预处理数据作为后级的输入  \n",
    "**目前主要的目标还是从QQ群聊天记录里提取语料和数据集**  \n",
    "\n",
    "----"
   ]
  },
  {
   "cell_type": "markdown",
   "metadata": {},
   "source": [
    "目前(05 Jan. 2020)的想法: 维护一个数据库用以处理和记录对话上下文关系以及前级(文本预处理等)的结果和处理情况"
   ]
  },
  {
   "cell_type": "code",
   "execution_count": 30,
   "metadata": {},
   "outputs": [],
   "source": [
    "import sqlite3 as sqlite"
   ]
  },
  {
   "cell_type": "code",
   "execution_count": 31,
   "metadata": {},
   "outputs": [
    {
     "name": "stdout",
     "output_type": "stream",
     "text": [
      "Wall time: 458 ms\n"
     ]
    }
   ],
   "source": [
    "%time import numpy as np, pandas as pd # 主要是为了简化原始数据的读取和预处理\n",
    "pd.set_option('max_colwidth',100); pd.set_option('display.max_rows', 20); pd.set_option('display.max_columns', 8) # 为了方便查看内容"
   ]
  },
  {
   "cell_type": "markdown",
   "metadata": {},
   "source": [
    ">  pandas是一款数据处理工具，集成了numpy以及matplotlib，拥有便捷的数据处理以及文件读取能力  \n",
    "\n",
    "pandas主要有几大功能:  \n",
    "1. Object Creation: pandas有三种对象, series、df和Panel Object. Series, 通过传入list对象来新建, 可以指定索引; DataFrame, 通过传入numpy数组/dictionary对象来创建.\n",
    "2. Viewing Data: 查看头部/查看索引和列名/查看统计结果什么的, 还可以转换成numpy格式/做矩阵转置以及排序.\n",
    "3. Selection: 类似于sql的select, 可以指定列/行/标签/值/位置/条件来筛选\n",
    "4. Missing Data: 默认的空值是np.nan, 可通过reindex函数来增删改查某坐标轴(行或列)的索引，并返回一个数据的拷贝, 还可以判断是否为空值(返回False或True)\n",
    "5. Operations: 一些常用计算, 包括平均值/ 数值移动等. (通过应用还可以做累计求和和其他自定义的方法)\n",
    "6. Merge: pandas提供了多个方法来合并不同的对象. 其中Merge方法类似SQL的合并方式.\n",
    "7. Grouping: 分组主要是为了对某些数据的计算, 例如df.groupby('A').sum()\n",
    "8. Reshaping\n",
    "9. Time Series: pandas很适合用来处理时序, 可以调整时间间隔/时区转换/时间格式转换\n",
    "10. [Categoricals](http://pandas.pydata.org/pandas-docs/stable/user_guide/categorical.html#categorical)\n",
    "11. Plotting: 用于数据绘图, 和Matplotlib基本一样\n",
    "12. Getting Data In/Out : 可以方便地在不同类型的文件(csv/text/json/html/excel/sql等)中导入或导出数据\n",
    "\n",
    "完整的[user guide](https://pandas.pydata.org/pandas-docs/stable/user_guide/)可以在pydata上看到  \n",
    "*这里主要是要用pandas的DataFrame简化sql操作*  \n",
    "用 pandas DataFrame 读取数据结果的好处主要是不需要每次都调用 fetchall之类的函数, 还能能方便地通过表头的名字来阅读整个表"
   ]
  },
  {
   "cell_type": "code",
   "execution_count": 32,
   "metadata": {},
   "outputs": [],
   "source": [
    "Conn_CQ = sqlite.connect(\"eventv2.db\")\n",
    "# 出于尊重隐私考虑, 不提供这个数据库, 并且这两个数据库相关的部分内容打了码"
   ]
  },
  {
   "cell_type": "code",
   "execution_count": 33,
   "metadata": {},
   "outputs": [
    {
     "name": "stdout",
     "output_type": "stream",
     "text": [
      "debug --- 对象`DF_CQdata`占用内存 → 345.976MB\n",
      "Wall time: 14.9 s\n"
     ]
    }
   ],
   "source": [
    "%%time\n",
    "query_selectLog = \"SELECT `id`, `group`, `account`, `content`, datetime(`time`,'unixepoch','localtime') FROM `event` WHERE `type` = 2 AND `group` != 'qq/group/962****' ORDER by `id` DESC;\"\n",
    "DF_CQdata = pd.read_sql_query(query_selectLog, Conn_CQ)\n",
    "print(\"debug --- 对象`DF_CQdata`占用内存 → %0.3fMB\" % (sys.getsizeof(DF_CQdata) * 1e-6)  )"
   ]
  },
  {
   "cell_type": "code",
   "execution_count": 34,
   "metadata": {},
   "outputs": [
    {
     "data": {
      "text/html": [
       "<div>\n",
       "<style scoped>\n",
       "    .dataframe tbody tr th:only-of-type {\n",
       "        vertical-align: middle;\n",
       "    }\n",
       "\n",
       "    .dataframe tbody tr th {\n",
       "        vertical-align: top;\n",
       "    }\n",
       "\n",
       "    .dataframe thead th {\n",
       "        text-align: right;\n",
       "    }\n",
       "</style>\n",
       "<table border=\"1\" class=\"dataframe\">\n",
       "  <thead>\n",
       "    <tr style=\"text-align: right;\">\n",
       "      <th></th>\n",
       "      <th>id</th>\n",
       "      <th>group</th>\n",
       "      <th>account</th>\n",
       "      <th>content</th>\n",
       "      <th>datetime(`time`,'unixepoch','localtime')</th>\n",
       "    </tr>\n",
       "  </thead>\n",
       "  <tbody>\n",
       "    <tr>\n",
       "      <th>0</th>\n",
       "      <td>999080</td>\n",
       "      <td>qq/group/120****</td>\n",
       "      <td>qq/user/929****</td>\n",
       "      <td>怎么了</td>\n",
       "      <td>2020-03-13 12:47:09</td>\n",
       "    </tr>\n",
       "    <tr>\n",
       "      <th>1</th>\n",
       "      <td>999079</td>\n",
       "      <td>qq/group/152****</td>\n",
       "      <td>qq/user/165****</td>\n",
       "      <td>[CQ:at,id=qq/user/429****] 不是说你那个</td>\n",
       "      <td>2020-03-13 12:47:09</td>\n",
       "    </tr>\n",
       "    <tr>\n",
       "      <th>2</th>\n",
       "      <td>999078</td>\n",
       "      <td>qq/group/569****</td>\n",
       "      <td>qq/user/306****</td>\n",
       "      <td>[CQ:face,id=178]</td>\n",
       "      <td>2020-03-13 12:47:03</td>\n",
       "    </tr>\n",
       "    <tr>\n",
       "      <th>3</th>\n",
       "      <td>999077</td>\n",
       "      <td>qq/group/120****</td>\n",
       "      <td>qq/user/515****</td>\n",
       "      <td>猫咪真的是好东西</td>\n",
       "      <td>2020-03-13 12:47:03</td>\n",
       "    </tr>\n",
       "    <tr>\n",
       "      <th>4</th>\n",
       "      <td>999076</td>\n",
       "      <td>qq/group/152****</td>\n",
       "      <td>qq/user/429****</td>\n",
       "      <td>月薪10K+</td>\n",
       "      <td>2020-03-13 12:47:01</td>\n",
       "    </tr>\n",
       "    <tr>\n",
       "      <th>...</th>\n",
       "      <td>...</td>\n",
       "      <td>...</td>\n",
       "      <td>...</td>\n",
       "      <td>...</td>\n",
       "      <td>...</td>\n",
       "    </tr>\n",
       "    <tr>\n",
       "      <th>990174</th>\n",
       "      <td>8</td>\n",
       "      <td>qq/group/569****</td>\n",
       "      <td>qq/user/320****</td>\n",
       "      <td>[CQ:at,id=qq/user/225****] 板子咋卖</td>\n",
       "      <td>2020-01-01 20:04:51</td>\n",
       "    </tr>\n",
       "    <tr>\n",
       "      <th>990175</th>\n",
       "      <td>7</td>\n",
       "      <td>qq/group/569****</td>\n",
       "      <td>qq/user/221****</td>\n",
       "      <td>两层圆形的覆铜之间有一个小电容</td>\n",
       "      <td>2020-01-01 20:04:32</td>\n",
       "    </tr>\n",
       "    <tr>\n",
       "      <th>990176</th>\n",
       "      <td>3</td>\n",
       "      <td>qq/group/569****</td>\n",
       "      <td>qq/user/152****</td>\n",
       "      <td>像我这种小功率都内部接地</td>\n",
       "      <td>2020-01-01 20:04:03</td>\n",
       "    </tr>\n",
       "    <tr>\n",
       "      <th>990177</th>\n",
       "      <td>2</td>\n",
       "      <td>qq/group/569****</td>\n",
       "      <td>qq/user/513****</td>\n",
       "      <td>[CQ:at,id=qq/user/142****] [CQ:at,id=qq/user/142****] 我就谁便用了啵</td>\n",
       "      <td>2020-01-01 20:03:08</td>\n",
       "    </tr>\n",
       "    <tr>\n",
       "      <th>990178</th>\n",
       "      <td>1</td>\n",
       "      <td>qq/group/569****</td>\n",
       "      <td>qq/user/221****</td>\n",
       "      <td>[CQ:at,id=qq/user/152****] [CQ:at,id=qq/user/152****] 氖泡接在驱动电源负和地线之间</td>\n",
       "      <td>2020-01-01 20:02:49</td>\n",
       "    </tr>\n",
       "  </tbody>\n",
       "</table>\n",
       "<p>990179 rows × 5 columns</p>\n",
       "</div>"
      ],
      "text/plain": [
       "            id               group             account  \\\n",
       "0       999080  qq/group/120****   qq/user/929****   \n",
       "1       999079  qq/group/152****  qq/user/165****   \n",
       "2       999078  qq/group/569****  qq/user/306****   \n",
       "3       999077  qq/group/120****   qq/user/515****   \n",
       "4       999076  qq/group/152****   qq/user/429****   \n",
       "...        ...                 ...                 ...   \n",
       "990174       8  qq/group/569****  qq/user/320****   \n",
       "990175       7  qq/group/569****  qq/user/221****   \n",
       "990176       3  qq/group/569****  qq/user/152****   \n",
       "990177       2  qq/group/569****   qq/user/513****   \n",
       "990178       1  qq/group/569****  qq/user/221****   \n",
       "\n",
       "                                                                           content  \\\n",
       "0                                                                              怎么了   \n",
       "1                                              [CQ:at,id=qq/user/429****] 不是说你那个   \n",
       "2                                                                 [CQ:face,id=178]   \n",
       "3                                                                         猫咪真的是好东西   \n",
       "4                                                                           月薪10K+   \n",
       "...                                                                            ...   \n",
       "990174                                          [CQ:at,id=qq/user/225****] 板子咋卖   \n",
       "990175                                                           两层圆形的覆铜之间有一个小电容     \n",
       "990176                                                                像我这种小功率都内部接地   \n",
       "990177         [CQ:at,id=qq/user/142****] [CQ:at,id=qq/user/142****] 我就谁便用了啵   \n",
       "990178  [CQ:at,id=qq/user/152****] [CQ:at,id=qq/user/152****] 氖泡接在驱动电源负和地线之间   \n",
       "\n",
       "       datetime(`time`,'unixepoch','localtime')  \n",
       "0                           2020-03-13 12:47:09  \n",
       "1                           2020-03-13 12:47:09  \n",
       "2                           2020-03-13 12:47:03  \n",
       "3                           2020-03-13 12:47:03  \n",
       "4                           2020-03-13 12:47:01  \n",
       "...                                         ...  \n",
       "990174                      2020-01-01 20:04:51  \n",
       "990175                      2020-01-01 20:04:32  \n",
       "990176                      2020-01-01 20:04:03  \n",
       "990177                      2020-01-01 20:03:08  \n",
       "990178                      2020-01-01 20:02:49  \n",
       "\n",
       "[990179 rows x 5 columns]"
      ]
     },
     "execution_count": 34,
     "metadata": {},
     "output_type": "execute_result"
    }
   ],
   "source": [
    "DF_CQdata"
   ]
  },
  {
   "cell_type": "markdown",
   "metadata": {},
   "source": [
    "### 汇总实例"
   ]
  },
  {
   "cell_type": "code",
   "execution_count": 35,
   "metadata": {},
   "outputs": [
    {
     "name": "stdin",
     "output_type": "stream",
     "text": [
      "发现检查点, 是否继续上次(03/20 13:35:12)的进度? Y/N :  Y\n"
     ]
    },
    {
     "name": "stdout",
     "output_type": "stream",
     "text": [
      "--------------- 加载中... ---------------\n",
      "--- 成功加载987522条记录, 继续处理... ---\n",
      "----------------------------------------\n",
      "|■■■■■■■■■■■■■■■■■■■■| 100% \\ (正在处理第990179/990179条记录) \n",
      "debug --- 对象`经过预处理的消息`占用内存 → 41943.136KB\n",
      "Wall time: 1min 7s\n"
     ]
    }
   ],
   "source": [
    "%%time\n",
    "# 数据量较大且处理太慢, 不加指示进度都不知道是不是卡死了... 这种非常费时且不稳定的东西需要加个\"断点续传\"\n",
    "任务量 = len(DF_CQdata); tmp_count = 恢复位置 = tmp_count2 = 0; 指示条 = r\"-,\\,|,/\".split(\",\")\n",
    "经过预处理的消息 = {}\n",
    "过滤条件 = \"分类概率[index][0] < 0.4216 and (分类概率[index][1] > 0.908 or 分类概率[index][2] > 0.966 or 分类概率[index][3] > 0.996 or 分类概率[index][4] > 0.997 or 分类概率[index][5] > 0.998)\"\n",
    "import pickle  # 用于管理字典的保存和恢复, 以便下次加载上一个检查点\n",
    "import os\n",
    "try:\n",
    "    文件列表 = os.listdir(r\"./__checkPoint__/\"); 文件列表.sort(key=lambda x: int(x[8:-5]))  # 如果存在检查点就取时间最近的一个\n",
    "    存储文件名 = re.search(\"CQppc.cp(1\\d{9}).data\", str(文件列表[-1]))\n",
    "    if len(存储文件名.group(1)) > 9:\n",
    "        if input(\"发现检查点, 是否继续上次(%s)的进度? Y/N : \" % (time.strftime(\"%m/%d %H:%M:%S\", time.localtime(int(存储文件名.group(1)))))).upper() == \"Y\": \n",
    "            print(\"-\"*15 + \" 加载中... \" + \"-\"*15)\n",
    "            with open(r\"./__checkPoint__/\" + 存储文件名.group(0), \"rb\") as chekFile:\n",
    "                经过预处理的消息 = pickle.load(chekFile)\n",
    "                恢复位置 = len(经过预处理的消息)\n",
    "            if 恢复位置 > 0:\n",
    "                print(\"-\"*3 + \" 成功加载%d条记录, 继续处理... \" % 恢复位置 + \"-\"*3)\n",
    "except:\n",
    "    pass\n",
    "\n",
    "print(指示条[0] * 40)\n",
    "\n",
    "for row in range(恢复位置, 任务量):\n",
    "    try:  # 为了方便停止时保存进度, 使用 try - ... - except KeyboardInterrupt的方式\n",
    "        tmp_CQ转换 = CQ记录转换(DF_CQdata.iloc[row][3], 过滤条件=过滤条件)\n",
    "        if len(tmp_CQ转换[\"内容\"]) > 0:\n",
    "            tmp_分词标注 = 分词并标注(tmp_CQ转换[\"内容\"])\n",
    "        else:\n",
    "            tmp_分词标注 = [[[]], [[]]]\n",
    "        经过预处理的消息[DF_CQdata.iloc[row][0]] = {'CQCODE':tmp_CQ转换['CQ码'], 'PSEG': tmp_分词标注, 'OTHER':tmp_CQ转换['其他数据']}\n",
    "        tmp_count += 1\n",
    "        进度 = ( 1 + (tmp_count + 恢复位置) * 100 ) // 任务量\n",
    "        if tmp_count % 31 == 0:\n",
    "            print(f\"\\r|{(进度 // 5) * '■'}{(20 - 进度 // 5) * '　'}| {进度}% {指示条[tmp_count2 % 4]} (正在处理第{tmp_count + 恢复位置}/{任务量}条记录)\", end=\" \")\n",
    "            tmp_count2 += 1\n",
    "        if tmp_count % 6164 == 0 or tmp_count > 任务量 - 2 :\n",
    "            print(\"\\r[%s]自动检查点(%d/%d)保存中...\" % (time.strftime(\"%m/%d %H:%M:%S\", time.localtime()), tmp_count + 恢复位置, 任务量), end=\"\\t\"*5)\n",
    "            try: \n",
    "                os.system(\"rm -rf ./__checkPoint__\")\n",
    "                os.mkdir(\"__checkPoint__\")\n",
    "            except:\n",
    "                pass\n",
    "            try:\n",
    "                fileName = \"./__checkPoint__/CQppc.cp%d.data\" % int(time.time())\n",
    "                with open(fileName, \"wb\") as chekFile:\n",
    "                    pydata = pickle.dumps(经过预处理的消息); chekFile.write(pydata)\n",
    "                    print(\"\\r自动检查点(%s)保存成功\" % fileName, end=\"\\t\"*5)\n",
    "            except Exception as errInfo:\n",
    "                print(\"进度保存点失败: \", errInfo)\n",
    "    except KeyboardInterrupt:\n",
    "        print(\"\\r\\n\" + \"*\"*10 + \"接收到Ctrl-C, 停止运行, 保存检查点中... \" + \"*\"*10)\n",
    "        try: \n",
    "            os.mkdir(\"__checkPoint__\")\n",
    "        except:\n",
    "            pass\n",
    "        try:\n",
    "            fileName = \"./__checkPoint__/CQppc.cp%d.data\" % int(time.time())\n",
    "            with open(fileName, \"wb\") as chekFile:\n",
    "                pydata = pickle.dumps(经过预处理的消息); chekFile.write(pydata)\n",
    "                print(\"检查点保存成功(%s)\" % fileName)\n",
    "        except Exception as errInfo:\n",
    "            print(\"保存检查点失败: \", errInfo)\n",
    "        break\n",
    "print(f\"\\r|{(进度 // 5) * '■'}{(20 - 进度 // 5) * '　'}| {进度}% {指示条[tmp_count2 % 4]} (正在处理第{tmp_count + 恢复位置}/{任务量}条记录)\", end=\" \")\n",
    "\n",
    "print(\"\\ndebug --- 对象`经过预处理的消息`占用内存 → %0.3fKB\" % (sys.getsizeof(经过预处理的消息) * 1e-3))\n",
    "# TODO: 打算做成分片处理, 以便用多进程加速, 也是方便保存和分批处理"
   ]
  },
  {
   "cell_type": "code",
   "execution_count": 36,
   "metadata": {},
   "outputs": [],
   "source": [
    "# 再维护一个数据库用以记录预处理过的内容以及上下文关系\n",
    "DB_ppced = r\"CQevePPC.db\"\n",
    "Conn_ppced = sqlite.connect(DB_ppced)"
   ]
  },
  {
   "cell_type": "markdown",
   "metadata": {},
   "source": [
    "目前(10 Jan. 2020)的想法是使用两个表: `ppcLog` 和 `contextIndex`, 分别用于记录预处理后的数据和上下文的关系(按群和时间分组, 以便后续提取对话)"
   ]
  },
  {
   "cell_type": "code",
   "execution_count": 37,
   "metadata": {},
   "outputs": [],
   "source": [
    "# 数据库设计\n",
    "query_createTable_ppcLog = '''\n",
    "CREATE TABLE \"ppcLog\" (\n",
    "\"lid\"       INTEGER NOT NULL PRIMARY KEY AUTOINCREMENT,\n",
    "\"Link\"      INTEGER,\n",
    "\"cqCode\"    TEXT,\n",
    "\"jiebaCUT\"  TEXT,\n",
    "\"jiebaPSEG\" TEXT,\n",
    "\"lastModif\" NUMERIC NOT NULL DEFAULT CURRENT_TIMESTAMP,\n",
    "\"note\"      TEXT,\n",
    "\"extraData\" TEXT\n",
    ");'''\n",
    "query_createTable_contextIndex = '''\n",
    "CREATE TABLE \"contextIndex\" (\n",
    "\"id_conversation\"   INTEGER NOT NULL PRIMARY KEY AUTOINCREMENT,\n",
    "\"GroupFrom\"         INTEGER,\n",
    "\"UserFrom\"          INTEGER,\n",
    "\"dialogsContent\"    TEXT,\n",
    "\"DialogsLink\"       INTEGER\n",
    "\"time_sort\"         NUMERIC NOT NULL DEFAULT CURRENT_TIMESTAMP,\n",
    "\"note\"              TEXT\n",
    ");'''"
   ]
  },
  {
   "cell_type": "code",
   "execution_count": 38,
   "metadata": {},
   "outputs": [],
   "source": [
    "# 先检查数据库状态, 如果没有预设的表那就初始化\n",
    "def DBtest(dbConnHandle, tableNames, checkQuery = []):\n",
    "    querys_tableCheck = []\n",
    "    for i in range( len(tableNames) ):\n",
    "        querys_tableCheck.append(\"SELECT * FROM `sqlite_master` where type = 'table' and name = '%s';\" % tableNames[i])\n",
    "    DBisOK = False\n",
    "    OrigSct = \"\"\n",
    "    tmp_cont = 0\n",
    "    cont_table = 0\n",
    "    cont_unexc = 0\n",
    "    for query in querys_tableCheck:\n",
    "        curs = dbConnHandle.execute(query)\n",
    "        gets = curs.fetchall()\n",
    "        if len(gets) > 0:\n",
    "            OrigSct = gets[-1][-1]\n",
    "            print(\"数据表`%s`存在. ~ 读到记录:  \\n%s \" % (tableNames[tmp_cont], OrigSct) )\n",
    "            cont_table += 1\n",
    "            if len(checkQuery) == len(tableNames):\n",
    "                if re.sub(r\"[\\s;;\\'\\\"]\", \"\", OrigSct) != re.sub(r\"[\\s;\\'\\\"]\", \"\", checkQuery[tmp_cont]):\n",
    "                    cont_unexc -= 4\n",
    "                else:\n",
    "                    DBisOK += 1\n",
    "        tmp_cont += 1\n",
    "\n",
    "    if checkQuery != []:\n",
    "        if cont_table < 1 :\n",
    "            print(\"指定的表不存在\")\n",
    "            DBisOK = False\n",
    "        if cont_unexc < 0: \n",
    "            if cont_table > 0:\n",
    "                raise SyntaxWarning(\"数据库检查未通过: 已经存在不同结构的同名表. (有 %d 个表记录与提供的记录不一致)\" % (-cont_unexc / 4))\n",
    "                return cont_unexc\n",
    "        else:\n",
    "            if DBisOK == len(tableNames) :\n",
    "                print(\"数据库检查通过. %d 个表(共%d个表)校验一致\" % (DBisOK, len(tableNames)) )\n",
    "                DBisOK = True    \n",
    "    else:\n",
    "        if DBisOK == len(tableNames) :\n",
    "            print(\"指定表存在\")\n",
    "            DBisOK = True\n",
    "        else:\n",
    "            print(\"指定表不存在\")\n",
    "            DBisOK = False\n",
    "    return DBisOK        "
   ]
  },
  {
   "cell_type": "code",
   "execution_count": 39,
   "metadata": {},
   "outputs": [],
   "source": [
    "def DB_init(dbConnHandle, tableNames = [], checkQuery = []):\n",
    "    realyNeedInit = False\n",
    "    try:\n",
    "        dbStatus = DBtest(dbConnHandle, tableNames, checkQuery)\n",
    "    except SyntaxWarning as info:\n",
    "        print(\"初始化失败, 建议检查运行环境(文件冲突). 错误信息:  \\n    \", info)\n",
    "        return -233\n",
    "    if dbStatus == False:\n",
    "        realyNeedInit = True\n",
    "    elif dbStatus < 0:\n",
    "        r\n",
    "    if realyNeedInit == True:\n",
    "        print(\"准备开始初始化...\")\n",
    "        try:\n",
    "            for query in checkQuery:\n",
    "                dbConnHandle.execute(query)\n",
    "            print(\"提交变动...\")\n",
    "            dbConnHandle.commit()\n",
    "            print(\"数据表初始化完成\")\n",
    "        except Exception as errinfo: \n",
    "            print(\"---SQL执行失败---: \", errinfo)\n",
    "    else:\n",
    "        print(\"已存在同名表, 跳过初始化\")"
   ]
  },
  {
   "cell_type": "code",
   "execution_count": 40,
   "metadata": {},
   "outputs": [
    {
     "name": "stdout",
     "output_type": "stream",
     "text": [
      "指定的表不存在\n",
      "准备开始初始化...\n",
      "提交变动...\n",
      "数据表初始化完成\n",
      "Wall time: 797 ms\n"
     ]
    }
   ],
   "source": [
    "%time DB_init(Conn_ppced, [\"ppcLog\", \"contextIndex\"], [query_createTable_ppcLog, query_createTable_contextIndex])"
   ]
  },
  {
   "cell_type": "code",
   "execution_count": 41,
   "metadata": {},
   "outputs": [
    {
     "name": "stdout",
     "output_type": "stream",
     "text": [
      "数据表`ppcLog`存在. ~ 读到记录:  \n",
      "CREATE TABLE \"ppcLog\" (\n",
      "\"lid\"       INTEGER NOT NULL PRIMARY KEY AUTOINCREMENT,\n",
      "\"Link\"      INTEGER,\n",
      "\"cqCode\"    TEXT,\n",
      "\"jiebaCUT\"  TEXT,\n",
      "\"jiebaPSEG\" TEXT,\n",
      "\"lastModif\" NUMERIC NOT NULL DEFAULT CURRENT_TIMESTAMP,\n",
      "\"note\"      TEXT,\n",
      "\"extraData\" TEXT\n",
      ") \n",
      "数据表`contextIndex`存在. ~ 读到记录:  \n",
      "CREATE TABLE \"contextIndex\" (\n",
      "\"id_conversation\"   INTEGER NOT NULL PRIMARY KEY AUTOINCREMENT,\n",
      "\"GroupFrom\"         INTEGER,\n",
      "\"UserFrom\"          INTEGER,\n",
      "\"dialogsContent\"    TEXT,\n",
      "\"DialogsLink\"       INTEGER\n",
      "\"time_sort\"         NUMERIC NOT NULL DEFAULT CURRENT_TIMESTAMP,\n",
      "\"note\"              TEXT\n",
      ") \n",
      "数据库检查通过. 2 个表(共2个表)校验一致\n",
      "Wall time: 3.01 ms\n"
     ]
    },
    {
     "data": {
      "text/plain": [
       "True"
      ]
     },
     "execution_count": 41,
     "metadata": {},
     "output_type": "execute_result"
    }
   ],
   "source": [
    "%time DBtest(Conn_ppced, [\"ppcLog\", \"contextIndex\"], [query_createTable_ppcLog, query_createTable_contextIndex])"
   ]
  },
  {
   "cell_type": "markdown",
   "metadata": {},
   "source": [
    "接下来是把预处理好的内容存入数据库, 并标注哪些内容已经处理以及修改时间.  \n",
    "为了提高插入数据的效率, 使用\"executemany\". 当然, 还可以用pandas.DataFrame.to_sql, 不过这里就怎么省事怎么来了. \n",
    "需要注意的是, 如果想要用sqlite3的python接口\"executemany\", 传入数据需要是`[(xxx,xx,...,x),...,(x,xxx,...,xx)]`的结构, 其中每个元组的元素数要对应占位符.   \n",
    "另外, 一次处理的量不能太大(我也不清楚为什么这么说, 不过我实测了一次插入5万条记录也没有异常. 只是尽量避免被坑吧), 所以采用分批处理.   \n",
    "这里为了方便增加新数据, 还是采用断点.  "
   ]
  },
  {
   "cell_type": "code",
   "execution_count": 42,
   "metadata": {},
   "outputs": [
    {
     "name": "stdout",
     "output_type": "stream",
     "text": [
      "查找变化...\n",
      "发现补充内容, 向下添加...\n",
      "正在处理第161批(986240~990179行) \t  \t  \t \t  \t  \t \n",
      "新增了990179条记录, 当前记录范围: 1~999080\n",
      "Wall time: 10.9 s\n"
     ]
    }
   ],
   "source": [
    "%%time\n",
    "print(\"查找变化...\")\n",
    "\n",
    "query_selectLog = \"SELECT * FROM `ppcLog`;\"\n",
    "DF_PPCdata = pd.read_sql_query(query_selectLog, Conn_ppced)\n",
    "\n",
    "索引_当前已处理 = list(经过预处理的消息.keys())\n",
    "已存索引 = DF_PPCdata[\"Link\"] if len(DF_PPCdata[\"Link\"]) > 0 else [max(索引_当前已处理)]\n",
    "已存最小索引, 已存最大索引 = min(已存索引), max(已存索引)\n",
    "当前最小编号, 当前最大编号 = min(索引_当前已处理), max(索引_当前已处理)\n",
    "tmp_buff = []  # 分批插入的buff, 这里以6164条一批为例\n",
    "添加计数 = 0; bound, cur = 0, 233; 批次 = 1\n",
    "\n",
    "if 当前最大编号 > 已存最大索引:  # 说明更新了消息记录源, 新的消息被处理. 顺序添加.\n",
    "    print(\"发现新增内容, 向上添加...\")\n",
    "    索引_当前已处理.reverse()  # 记录是倒序的, 新增模式用正序方便处理.\n",
    "    bound, cur = 索引_当前已处理.index(当前最大编号), 索引_当前已处理.index(已存最大索引)\n",
    "elif (当前最小编号 < 已存最小索引) and (当前最小编号 > 0):  # 说明继续处理了之前没处理完的内容(主要存在于初始化调试阶段)\n",
    "    print(\"发现补充内容, 向下添加...\")\n",
    "    bound, cur = 索引_当前已处理.index(当前最小编号) + 1, 索引_当前已处理.index(已存最小索引)\n",
    "else:  # 说明没有新内容, 跳过\n",
    "    print(\"没有更新, 跳过.\")\n",
    "\n",
    "while cur < bound:\n",
    "    if bound - cur > 6164:\n",
    "        print(\"\\r正在处理第%d批(%d~%d行)\" % (批次, cur, cur+6164), end=\" \\t \"*3)\n",
    "        tmp_buff = [[key, 经过预处理的消息[key]] for key in 索引_当前已处理[cur:cur+6164]]\n",
    "        cur += 6164\n",
    "    else:\n",
    "        print(\"\\r正在处理第%d批(%d~%d行)\" % (批次, cur, bound), end=\" \\t \"*3)\n",
    "        tmp_buff = tmp_buff = [[key, 经过预处理的消息[key]] for key in 索引_当前已处理[cur:bound]]\n",
    "        cur = bound\n",
    "    Conn_ppced.executemany(\n",
    "            \"insert into ppcLog (`Link`, `cqCode`, `jiebaCUT`, `jiebaPSEG`, `note`, `extraData`) values (?, ?, ?, ?, 'initialize', ?)\",\n",
    "            [ ( int(link), str(res['CQCODE']), str(res[\"PSEG\"][0]), str(res[\"PSEG\"][1]), str(res['OTHER']) )  for link, res in tmp_buff ]\n",
    "        ) \n",
    "    添加计数 += len(tmp_buff)\n",
    "    批次 += 1\n",
    "\n",
    "print(\"\\n新增了%d条记录, 当前记录范围: %d~%d\" % (添加计数, 当前最小编号, 当前最大编号))\n",
    "Conn_ppced.commit() # 操作后应该尽快提交, 以免数据库锁带来的麻烦(尤其是多线程)"
   ]
  },
  {
   "cell_type": "code",
   "execution_count": 43,
   "metadata": {},
   "outputs": [],
   "source": [
    "# 提交完了, 瞅瞅情况\n",
    "query_selectLog = \"SELECT * FROM `ppcLog`;\"\n",
    "数据库中的预处理结果 = pd.read_sql_query(query_selectLog, Conn_ppced)"
   ]
  },
  {
   "cell_type": "code",
   "execution_count": 44,
   "metadata": {},
   "outputs": [
    {
     "data": {
      "text/html": [
       "<div>\n",
       "<style scoped>\n",
       "    .dataframe tbody tr th:only-of-type {\n",
       "        vertical-align: middle;\n",
       "    }\n",
       "\n",
       "    .dataframe tbody tr th {\n",
       "        vertical-align: top;\n",
       "    }\n",
       "\n",
       "    .dataframe thead th {\n",
       "        text-align: right;\n",
       "    }\n",
       "</style>\n",
       "<table border=\"1\" class=\"dataframe\">\n",
       "  <thead>\n",
       "    <tr style=\"text-align: right;\">\n",
       "      <th></th>\n",
       "      <th>lid</th>\n",
       "      <th>Link</th>\n",
       "      <th>cqCode</th>\n",
       "      <th>jiebaCUT</th>\n",
       "      <th>jiebaPSEG</th>\n",
       "      <th>lastModif</th>\n",
       "      <th>note</th>\n",
       "      <th>extraData</th>\n",
       "    </tr>\n",
       "  </thead>\n",
       "  <tbody>\n",
       "    <tr>\n",
       "      <th>0</th>\n",
       "      <td>1</td>\n",
       "      <td>999080</td>\n",
       "      <td>[]</td>\n",
       "      <td>[['怎么']]</td>\n",
       "      <td>[['r']]</td>\n",
       "      <td>2020-03-20 06:22:56</td>\n",
       "      <td>initialize</td>\n",
       "      <td>{}</td>\n",
       "    </tr>\n",
       "    <tr>\n",
       "      <th>1</th>\n",
       "      <td>2</td>\n",
       "      <td>999079</td>\n",
       "      <td>['[CQ:at,id=qq/user/429****]']</td>\n",
       "      <td>[['不是', '说', '你', '那个']]</td>\n",
       "      <td>[['c', 'v', 'r', 'r']]</td>\n",
       "      <td>2020-03-20 06:22:56</td>\n",
       "      <td>initialize</td>\n",
       "      <td>{}</td>\n",
       "    </tr>\n",
       "    <tr>\n",
       "      <th>2</th>\n",
       "      <td>3</td>\n",
       "      <td>999078</td>\n",
       "      <td>['[CQ:face,id=178]']</td>\n",
       "      <td>[[]]</td>\n",
       "      <td>[[]]</td>\n",
       "      <td>2020-03-20 06:22:56</td>\n",
       "      <td>initialize</td>\n",
       "      <td>{}</td>\n",
       "    </tr>\n",
       "    <tr>\n",
       "      <th>3</th>\n",
       "      <td>4</td>\n",
       "      <td>999077</td>\n",
       "      <td>[]</td>\n",
       "      <td>[['猫咪', '是', '好', '东西']]</td>\n",
       "      <td>[['n', 'v', 'a', 'ns']]</td>\n",
       "      <td>2020-03-20 06:22:56</td>\n",
       "      <td>initialize</td>\n",
       "      <td>{}</td>\n",
       "    </tr>\n",
       "    <tr>\n",
       "      <th>4</th>\n",
       "      <td>5</td>\n",
       "      <td>999076</td>\n",
       "      <td>[]</td>\n",
       "      <td>[['【未知含义】月薪10K+【/未知含义】']]</td>\n",
       "      <td>[['']]</td>\n",
       "      <td>2020-03-20 06:22:56</td>\n",
       "      <td>initialize</td>\n",
       "      <td>{}</td>\n",
       "    </tr>\n",
       "    <tr>\n",
       "      <th>...</th>\n",
       "      <td>...</td>\n",
       "      <td>...</td>\n",
       "      <td>...</td>\n",
       "      <td>...</td>\n",
       "      <td>...</td>\n",
       "      <td>...</td>\n",
       "      <td>...</td>\n",
       "      <td>...</td>\n",
       "    </tr>\n",
       "    <tr>\n",
       "      <th>990174</th>\n",
       "      <td>990175</td>\n",
       "      <td>8</td>\n",
       "      <td>['[CQ:at,id=qq/user/225****]']</td>\n",
       "      <td>[['板子', '咋', '卖']]</td>\n",
       "      <td>[['n', 'r', 'v']]</td>\n",
       "      <td>2020-03-20 06:23:06</td>\n",
       "      <td>initialize</td>\n",
       "      <td>{}</td>\n",
       "    </tr>\n",
       "    <tr>\n",
       "      <th>990175</th>\n",
       "      <td>990176</td>\n",
       "      <td>7</td>\n",
       "      <td>[]</td>\n",
       "      <td>[['两层', '圆形', '的', '覆铜', '之间', '有', '一个', '小', '电容']]</td>\n",
       "      <td>[['m', 'n', 'uj', 'n', 'f', 'v', 'm', 'a', 'n']]</td>\n",
       "      <td>2020-03-20 06:23:06</td>\n",
       "      <td>initialize</td>\n",
       "      <td>{}</td>\n",
       "    </tr>\n",
       "    <tr>\n",
       "      <th>990176</th>\n",
       "      <td>990177</td>\n",
       "      <td>3</td>\n",
       "      <td>[]</td>\n",
       "      <td>[['像', '我', '这种', '小', '功率', '内部', '接地']]</td>\n",
       "      <td>[['v', 'r', 'r', 'a', 'n', 'f', 'v']]</td>\n",
       "      <td>2020-03-20 06:23:06</td>\n",
       "      <td>initialize</td>\n",
       "      <td>{}</td>\n",
       "    </tr>\n",
       "    <tr>\n",
       "      <th>990177</th>\n",
       "      <td>990178</td>\n",
       "      <td>2</td>\n",
       "      <td>['[CQ:at,id=qq/user/142****]', '[CQ:at,id=qq/user/142****]']</td>\n",
       "      <td>[['我', '谁', '便用']]</td>\n",
       "      <td>[['r', 'r', 'v']]</td>\n",
       "      <td>2020-03-20 06:23:06</td>\n",
       "      <td>initialize</td>\n",
       "      <td>{}</td>\n",
       "    </tr>\n",
       "    <tr>\n",
       "      <th>990178</th>\n",
       "      <td>990179</td>\n",
       "      <td>1</td>\n",
       "      <td>['[CQ:at,id=qq/user/152****]', '[CQ:at,id=qq/user/152****]']</td>\n",
       "      <td>[['氖泡', '接在', '驱动', '电源', '负', '和', '地线', '之间']]</td>\n",
       "      <td>[['n', 'v', 'vn', 'n', 'v', 'c', 'n', 'f']]</td>\n",
       "      <td>2020-03-20 06:23:06</td>\n",
       "      <td>initialize</td>\n",
       "      <td>{}</td>\n",
       "    </tr>\n",
       "  </tbody>\n",
       "</table>\n",
       "<p>990179 rows × 8 columns</p>\n",
       "</div>"
      ],
      "text/plain": [
       "           lid    Link  \\\n",
       "0            1  999080   \n",
       "1            2  999079   \n",
       "2            3  999078   \n",
       "3            4  999077   \n",
       "4            5  999076   \n",
       "...        ...     ...   \n",
       "990174  990175       8   \n",
       "990175  990176       7   \n",
       "990176  990177       3   \n",
       "990177  990178       2   \n",
       "990178  990179       1   \n",
       "\n",
       "                                                                    cqCode  \\\n",
       "0                                                                       []   \n",
       "1                                         ['[CQ:at,id=qq/user/429****]']   \n",
       "2                                                     ['[CQ:face,id=178]']   \n",
       "3                                                                       []   \n",
       "4                                                                       []   \n",
       "...                                                                    ...   \n",
       "990174                                   ['[CQ:at,id=qq/user/225****]']   \n",
       "990175                                                                  []   \n",
       "990176                                                                  []   \n",
       "990177  ['[CQ:at,id=qq/user/142****]', '[CQ:at,id=qq/user/142****]']   \n",
       "990178  ['[CQ:at,id=qq/user/152****]', '[CQ:at,id=qq/user/152****]']   \n",
       "\n",
       "                                                     jiebaCUT  \\\n",
       "0                                                    [['怎么']]   \n",
       "1                                    [['不是', '说', '你', '那个']]   \n",
       "2                                                        [[]]   \n",
       "3                                    [['猫咪', '是', '好', '东西']]   \n",
       "4                                   [['【未知含义】月薪10K+【/未知含义】']]   \n",
       "...                                                       ...   \n",
       "990174                                     [['板子', '咋', '卖']]   \n",
       "990175  [['两层', '圆形', '的', '覆铜', '之间', '有', '一个', '小', '电容']]   \n",
       "990176              [['像', '我', '这种', '小', '功率', '内部', '接地']]   \n",
       "990177                                     [['我', '谁', '便用']]   \n",
       "990178       [['氖泡', '接在', '驱动', '电源', '负', '和', '地线', '之间']]   \n",
       "\n",
       "                                               jiebaPSEG            lastModif  \\\n",
       "0                                                [['r']]  2020-03-20 06:22:56   \n",
       "1                                 [['c', 'v', 'r', 'r']]  2020-03-20 06:22:56   \n",
       "2                                                   [[]]  2020-03-20 06:22:56   \n",
       "3                                [['n', 'v', 'a', 'ns']]  2020-03-20 06:22:56   \n",
       "4                                                 [['']]  2020-03-20 06:22:56   \n",
       "...                                                  ...                  ...   \n",
       "990174                                 [['n', 'r', 'v']]  2020-03-20 06:23:06   \n",
       "990175  [['m', 'n', 'uj', 'n', 'f', 'v', 'm', 'a', 'n']]  2020-03-20 06:23:06   \n",
       "990176             [['v', 'r', 'r', 'a', 'n', 'f', 'v']]  2020-03-20 06:23:06   \n",
       "990177                                 [['r', 'r', 'v']]  2020-03-20 06:23:06   \n",
       "990178       [['n', 'v', 'vn', 'n', 'v', 'c', 'n', 'f']]  2020-03-20 06:23:06   \n",
       "\n",
       "              note extraData  \n",
       "0       initialize        {}  \n",
       "1       initialize        {}  \n",
       "2       initialize        {}  \n",
       "3       initialize        {}  \n",
       "4       initialize        {}  \n",
       "...            ...       ...  \n",
       "990174  initialize        {}  \n",
       "990175  initialize        {}  \n",
       "990176  initialize        {}  \n",
       "990177  initialize        {}  \n",
       "990178  initialize        {}  \n",
       "\n",
       "[990179 rows x 8 columns]"
      ]
     },
     "execution_count": 44,
     "metadata": {},
     "output_type": "execute_result"
    }
   ],
   "source": [
    "数据库中的预处理结果"
   ]
  },
  {
   "cell_type": "markdown",
   "metadata": {},
   "source": [
    "-----\n",
    "## 总结\n",
    "NLP项目通常需要用到词向量模型, 这就需要先把语料库中的句子做分词处理.  \n",
    "只是对于群聊消息记录这类数据的预处理来说, 还需要一些其他的处理才能筛选出有意义的语句并分词处理. 其中, 非语素却又有必要留着的, 例如URI/表情/分享内容等, 可以通过正则表达式将其筛出单独存放, 可考虑用个自定的占位符或者转义标注来代替被过滤掉的内容; 不和谐、违法违规的内容应该直接过滤以避免不必要的麻烦; 不同语系的处理差异较大, 非主体语言的句子最好单独分出来单独处理.  \n",
    "\n",
    "以上内容便实现了数据接口以及数据预处理的基础功能(所以作为第0部分), 接下来开始真正的NLP内容  \n",
    "\n",
    "本文内容仅为个人见解和心得, 希望能带来帮助. 如果有不正确/不准确之处还请多多指教, 一起学习一起进步~   \n",
    "\n",
    "本文内容由[佚之狗](https://github.com/HookeLiu)原创, 可以随意使用但请注明出处.    "
   ]
  }
 ],
 "metadata": {
  "kernelspec": {
   "display_name": "Python 3",
   "language": "python",
   "name": "python3"
  },
  "language_info": {
   "codemirror_mode": {
    "name": "ipython",
    "version": 3
   },
   "file_extension": ".py",
   "mimetype": "text/x-python",
   "name": "python",
   "nbconvert_exporter": "python",
   "pygments_lexer": "ipython3",
   "version": "3.8.2"
  }
 },
 "nbformat": 4,
 "nbformat_minor": 4
}
