{
 "cells": [
  {
   "cell_type": "markdown",
   "metadata": {},
   "source": [
    "# NLP[0] -- 语料和数据收集 -- 文本预处理及数据库文本分析\n",
    "\n",
    "## 做一个人工智能项目必须得有足够的数据. MutBot这个项目要包含自动收集数据的功能, 打算先从基本的自然语言处理做起...  "
   ]
  },
  {
   "cell_type": "code",
   "execution_count": 1,
   "metadata": {},
   "outputs": [],
   "source": [
    "import time # 用于计时比较"
   ]
  },
  {
   "cell_type": "markdown",
   "metadata": {},
   "source": [
    "在做文本处理之前得看看文本到底是不是有意义的语言, 如果是, 不同语言也应该采用不同的方式对待.  \n",
    "目前主流的开源自然语言语种识别工具有langdetect和langid, 其中, langdetect处理速度较高但准确率不足, langid准确率要高一些但速度也慢.  \n",
    "langid目前(Jul 15, 2017)提供了97种语言的预训练, 分类出来的的语言标号依据[ISO 639-1](https://baike.baidu.com/item/ISO%20639-1)语言编码标准  "
   ]
  },
  {
   "cell_type": "code",
   "execution_count": 2,
   "metadata": {},
   "outputs": [],
   "source": [
    "import langid\n",
    "项目中常见自然语言语种 = {'en':'英文','zh':'中文', 'de':'德语', 'el':'希腊语', 'ja':'日语', 'la':'拉丁语', 'ru':'俄语', 'th':'泰语'}"
   ]
  },
  {
   "cell_type": "markdown",
   "metadata": {},
   "source": [
    "jieba是一个开源的汉语分词工具, 号称做最好的python中文分词, 简便易用, 支持三种分词模式, 支持繁体, 支持[自定义词典](https://github.com/fxsjy/jieba#%E8%BD%BD%E5%85%A5%E8%AF%8D%E5%85%B8), 可以标注词性, 可以[提取文本关键词](https://github.com/fxsjy/jieba#%E5%9F%BA%E4%BA%8E-tf-idf-%E7%AE%97%E6%B3%95%E7%9A%84%E5%85%B3%E9%94%AE%E8%AF%8D%E6%8A%BD%E5%8F%96). MIT授权.    \n",
    "jieba只支持中文, 英语以及类英语的语言可以用[NLTK](https://github.com/nltk/nltk)(NLTK也支持中文处理, 但使用不太友好, 中文分词还需要安装斯坦福分词器)  \n",
    "jieba词性标注采用[和ictclas兼容的标记法](https://gist.github.com/luw2007/6016931)  \n",
    "其他常用的汉语分词工具还有SnowNLP, PkuSeg, THULAC, HanLP "
   ]
  },
  {
   "cell_type": "code",
   "execution_count": 3,
   "metadata": {},
   "outputs": [
    {
     "name": "stderr",
     "output_type": "stream",
     "text": [
      "Building prefix dict from the default dictionary ...\n",
      "Loading model from cache /tmp/jieba.cache\n",
      "Loading model cost 0.816 seconds.\n",
      "Prefix dict has been built successfully.\n"
     ]
    }
   ],
   "source": [
    "import jieba as jb, jieba.analyse as jban, jieba.posseg as pseg\n",
    "汉语文本常见词性标注表 = {'d':'副词', 'vn':'动名词', 'n':'名词', 'v':'动词', 'a':'形容词', 'y':'语气词', 'c':'连词', 'x':'非语素', 'p':'介词', 'm':'数词', 'q':'量词', 'ul':'助词', 's':'处所词', 'f':'方位词', 'i':'成语', 'ns':'地名', 'o':'拟声词', 'b':'区别词', 'p':'介词', 'r':'代词', 't':'时间词', 'nr':'人名', 'l':'习用语', 'eng':'外来词', 'nz':'其他专名', 'z':'状态词'}\n",
    "# 有的词性的词对于NLP来说是不重要的, 需要忽略, 比如非语素(标点符号什么的)以及语气词\n",
    "不关注的词性 = ['x', 'y']\n",
    "# jieba预设的词典虽然在大多时候能满足需求, 但是对于实际应用来说不够, 很多术语、“黑话”、网络口头语、“梗”会被错判, 还需要根据项目实际情况自制词典.  \n",
    "# 为了方便观察, 就把自定义词典内容写这里了...\n",
    "文件_自定字典 = open('userDict.txt', 'w', -1)\n",
    "文件_自定字典.write('''\n",
    "剪脚封灌 30 vn\n",
    "感应加热 600 nz\n",
    "市电 200 d\n",
    "那 10 c\n",
    "上去 20 z\n",
    "上去过 6000 vf\n",
    "下去 20 z\n",
    "靠 10 y\n",
    "是不 5000 l\n",
    "初级 20 nz\n",
    "次级 20 nz\n",
    "斩波 200 nz\n",
    "TC 600 nz\n",
    "发错 10 z\n",
    "群 200 n\n",
    "控制 300 vn\n",
    "可行 20 z\n",
    "没有卖的 z\n",
    "啊 6 y\n",
    "地 5000 nz\n",
    "良好接地 4960 z\n",
    "异常 20 nz\n",
    "指定的 300 d\n",
    "raise语句 nz\n",
    "except语句 nz\n",
    "新洁能 nz\n",
    "可行 40 z\n",
    "''')\n",
    "文件_自定字典.flush(); 文件_自定字典.close()\n",
    "jb.load_userdict('userDict.txt')\n",
    "jb.initialize()"
   ]
  },
  {
   "cell_type": "code",
   "execution_count": 4,
   "metadata": {},
   "outputs": [],
   "source": [
    "测试文本1 = \"[CQ:at,id=qq/user/15*****] 😂氖泡接在驱动电源负和地线之间[CQ:face,id=108][CQ:face,id=108][CQ:at,id=qq/user/15*****]\"\n",
    "测试文本2 = \"牛啤\"\n",
    "测试文本3 = \"ΕΞΖΝи△M\"\n",
    "测试文本4 = \"This is a test text...\"\n",
    "测试文本5 = '<h2><a id=\"user-content-probability-normalization\" class=\"anchor\" aria-hidden=\"true\" href=\"#probability-normalization\"></a>Probability Normalization</h2>'\n",
    "测试文本6 = \"import win32event as event; event_tigger = event.CreateEvent(None, False, False, 'Global\\\\233__update'); event.SetEvent(event_tigger)\""
   ]
  },
  {
   "cell_type": "code",
   "execution_count": 5,
   "metadata": {},
   "outputs": [
    {
     "name": "stdout",
     "output_type": "stream",
     "text": [
      "('zh', -204.03105926513672) ('zh', -19.84054446220398) ('el', -68.03624391555786) ('en', -54.41310358047485) ('eu', -78.12822103500366) ('en', -47.138615131378174)\n",
      "语种检测(常规模式)耗时→0.025秒\n",
      "启用置信度归一化耗时→2.760秒\n",
      "('zh', 1.0) ('zh', 0.5123629134775305) ('el', 0.9340167392870947) ('en', 0.999999990990354) ('eu', 0.5994969697756787) ('en', 0.998501267059482)\n",
      "语种检测(归一化置信度模式)耗时→0.027秒\n"
     ]
    }
   ],
   "source": [
    "langid.classify(\"\"); time_start = time.time()\n",
    "print( langid.classify(测试文本1), langid.classify(测试文本2), langid.classify(测试文本3), langid.classify(测试文本4), langid.classify(测试文本5), langid.classify(测试文本6) ); \n",
    "print(\"语种检测(常规模式)耗时→%.3f秒\" % ( time.time() - time_start ))\n",
    "# langid.classify默认输出的第二个数值是对数概率, 不计算全部语种的概率所以速度快. 但是有时候因为还需要知道语种分类的\"置信度\", 就需要启用langid.py的概率归一化: \n",
    "time_start = time.time()\n",
    "from langid.langid import LanguageIdentifier, model\n",
    "lider = LanguageIdentifier.from_modelstring(model, norm_probs=True) # 其实主要的耗时是出在这里\n",
    "print(\"启用置信度归一化耗时→%.3f秒\" % ( time.time() - time_start ))\n",
    "time_start = time.time()\n",
    "print( lider.classify(测试文本1), lider.classify(测试文本2), lider.classify(测试文本3), lider.classify(测试文本4), lider.classify(测试文本5), lider.classify(测试文本6) ); \n",
    "print(\"语种检测(归一化置信度模式)耗时→%.3f秒\" % ( time.time() - time_start ))"
   ]
  },
  {
   "cell_type": "markdown",
   "metadata": {},
   "source": [
    "还可以考虑加个编程语言探测, 比如GitHub通过[linguist](https://github.com/github/linguist)对主流编程语言(300多种)达到84%正确识别   \n",
    "其实也可以自己用朴素贝叶斯实现一个, 但是暂时没时间和精力去做了..."
   ]
  },
  {
   "cell_type": "code",
   "execution_count": 6,
   "metadata": {},
   "outputs": [
    {
     "name": "stdout",
     "output_type": "stream",
     "text": [
      "###debug---检测到 中文 文本 \"Python可以使用raise语句抛出一个指定的异常, 之后再使用except语句根据异常信息来处理.\" 输入---\n",
      "[('Python', 'eng(外来词)'), ('可以', 'c(连词)'), ('使用', 'v(动词)'), ('raise语句', 'nz(其他专名)'), ('抛出', 'v(动词)'), ('一个', 'm(数词)'), ('指定的', 'd(副词)'), ('异常', 'nz(其他专名)'), (',', 'x(非语素)'), (' ', 'x(非语素)'), ('之后', 'f(方位词)'), ('再', 'd(副词)'), ('使用', 'v(动词)'), ('except语句', 'nz(其他专名)'), ('根据', 'p(介词)'), ('异常', 'nz(其他专名)'), ('信息', 'n(名词)'), ('来', 'v(动词)'), ('处理', 'v(动词)'), ('.', 'x(非语素)')]\n"
     ]
    }
   ],
   "source": [
    "def 语种测试(文本):\n",
    "    语种 = \"\"\n",
    "    语种分类信息 = lider.classify(文本)\n",
    "    if 语种分类信息[1] > 0.98: # 实际观察发现, 置信度低于这个值的通常是无意义内容或者不是自然语言\n",
    "        try:\n",
    "            语种 = 项目中常见自然语言语种[语种分类信息[0]]\n",
    "        except KeyError:\n",
    "            语种 = \"未知\"\n",
    "    else:\n",
    "        语种 = None\n",
    "    return 语种\n",
    "\n",
    "def 分词并标注(文本, 调试模式 = False):\n",
    "    结果 = []\n",
    "    文本的语种 = 语种测试(文本)\n",
    "    if 文本的语种 != None:\n",
    "        if 调试模式 == True:\n",
    "            print(\"###debug---检测到 %s 文本 \\\"%s\\\" 输入---\" % (文本的语种, 文本) )\n",
    "        if 文本的语种 == \"中文\":\n",
    "            tmp_pseg结果 = pseg.lcut(文本)\n",
    "            if 调试模式 == True:\n",
    "                for 词, 词性 in tmp_pseg结果:\n",
    "                    try:\n",
    "                        结果.append( (词, \"%s(%s)\" % ( 词性, 汉语文本常见词性标注表[词性]) ) )\n",
    "                    except KeyError:\n",
    "                        结果.append( (词, 词性) )\n",
    "            else:\n",
    "                结果 = [ (词, 词性) for 词, 词性 in tmp_pseg结果 if 词性 not in 不关注的词性 ] # 忽略多余的语素\n",
    "        else:\n",
    "            raise UserWarning(\"暂不处理其他语种\")\n",
    "    else:\n",
    "         raise SyntaxWarning(\"无法确定输入文本的语种\")\n",
    "    return 结果\n",
    "print(分词并标注(\"Python可以使用raise语句抛出一个指定的异常, 之后再使用except语句根据异常信息来处理.\", 调试模式 = True))"
   ]
  },
  {
   "cell_type": "markdown",
   "metadata": {},
   "source": [
    "-----\n",
    "MutBot这个项目以QQ作为主要数据来源, 所以预处理除了做自然语言语种判断、分词和词性标注之外,  还需要过滤CQ码以及多余的符号. 这里用正则表达式简单处理  "
   ]
  },
  {
   "cell_type": "code",
   "execution_count": 7,
   "metadata": {},
   "outputs": [],
   "source": [
    "import re\n",
    "def CQ记录转换(原CQ记录, 调试模式 = False):\n",
    "    if 调试模式 == True:\n",
    "        print(\"***debug--传入文本 \\\"%s\\\"\" % 原CQ记录)\n",
    "    消息_处理 = 原CQ记录\n",
    "    消息 = {\"CQ码\":\"\", \"内容\":\"\"}\n",
    "    tmp = re.search('(?P<CQ码>\\[CQ:\\w+,\\S+\\])', 消息_处理)\n",
    "    tmpcounter = 0\n",
    "    while tmp != None and tmpcounter < 5:                                        # 把CQ码全都单独收起来, 剩下的就是内容了\n",
    "        消息[\"CQ码\"] += tmp.group(1) + \", \"\n",
    "        消息_处理 = 消息_处理.replace(tmp.group(1), \"\")\n",
    "        tmp = re.search('(?P<CQ码>\\[CQ:\\w+,\\S+\\])', 消息_处理)\n",
    "        tmpcounter += 1\n",
    "    消息[\"内容\"] = 消息_处理\n",
    "    return 消息"
   ]
  },
  {
   "cell_type": "code",
   "execution_count": 8,
   "metadata": {},
   "outputs": [
    {
     "name": "stdout",
     "output_type": "stream",
     "text": [
      "***debug--传入文本 \"[CQ:at,id=qq/user/15*****] 😂氖泡接在驱动电源负和地线之间[CQ:face,id=108][CQ:face,id=108][CQ:at,id=qq/user/15*****]\"\n",
      "{'CQ码': '[CQ:at,id=qq/user/15*****], [CQ:face,id=108][CQ:face,id=108], ', '内容': ' 😂氖泡接在驱动电源负和地线之间'}\n"
     ]
    }
   ],
   "source": [
    "消息 = CQ记录转换(测试文本1, 调试模式 = True); print(消息)"
   ]
  },
  {
   "cell_type": "markdown",
   "metadata": {},
   "source": [
    "----  \n",
    "\n",
    "以上内容基本就能实现简单的文本预处理了, 预处理数据作为后级的输入  \n",
    "**目前主要的目标还是从QQ群聊天记录里提取语料和数据集**  \n",
    "\n",
    "----"
   ]
  },
  {
   "cell_type": "markdown",
   "metadata": {},
   "source": [
    "目前(05 Jan. 2020)的想法: 维护一个数据库用以处理和记录对话上下文关系以及前级(文本预处理等)的结果和处理情况"
   ]
  },
  {
   "cell_type": "code",
   "execution_count": 9,
   "metadata": {},
   "outputs": [],
   "source": [
    "import sqlite3 as sqlite"
   ]
  },
  {
   "cell_type": "code",
   "execution_count": 10,
   "metadata": {},
   "outputs": [],
   "source": [
    "import numpy as np, pandas as pd # 主要是为了简化原始数据的读取和预处理\n",
    "pd.set_option('max_colwidth',100); pd.set_option('display.max_rows', 20); pd.set_option('display.max_columns', 8) # 为了方便查看内容"
   ]
  },
  {
   "cell_type": "markdown",
   "metadata": {},
   "source": [
    ">  pandas是一款数据处理工具，集成了numpy以及matplotlib，拥有便捷的数据处理以及文件读取能力  \n",
    "\n",
    "pandas主要有几大功能:  \n",
    "1. Object Creation: pandas有三种对象, series、df和Panel Object. Series, 通过传入list对象来新建, 可以指定索引; DataFrame, 通过传入numpy数组/dictionary对象来创建.\n",
    "2. Viewing Data: 查看头部/查看索引和列名/查看统计结果什么的, 还可以转换成numpy格式/做矩阵转置以及排序.\n",
    "3. Selection: 类似于sql的select, 可以指定列/行/标签/值/位置/条件来筛选\n",
    "4. Missing Data: 默认的空值是np.nan, 可通过reindex函数来增删改查某坐标轴(行或列)的索引，并返回一个数据的拷贝, 还可以判断是否为空值(返回False或True)\n",
    "5. Operations: 一些常用计算, 包括平均值/ 数值移动等. (通过应用还可以做累计求和和其他自定义的方法)\n",
    "6. Merge: pandas提供了多个方法来合并不同的对象. 其中Merge方法类似SQL的合并方式.\n",
    "7. Grouping: 分组主要是为了对某些数据的计算, 例如df.groupby('A').sum()\n",
    "8. Reshaping\n",
    "9. Time Series: pandas很适合用来处理时序, 可以调整时间间隔/时区转换/时间格式转换\n",
    "10. [Categoricals](http://pandas.pydata.org/pandas-docs/stable/user_guide/categorical.html#categorical)\n",
    "11. Plotting: 用于数据绘图, 和Matplotlib基本一样\n",
    "12. Getting Data In/Out : 可以方便地在不同类型的文件(csv/text/json/html/excel/sql等)中导入或导出数据\n",
    "\n",
    "完整的[user guide](https://pandas.pydata.org/pandas-docs/stable/user_guide/)可以在pydata上看到  \n",
    "*这里主要是要用pandas的DataFrame简化sql操作*  \n",
    "用 pandas DataFrame 读取数据结果的好处主要是不需要每次都调用 fetchall之类的函数, 还能能方便地通过表头的名字来阅读整个表"
   ]
  },
  {
   "cell_type": "code",
   "execution_count": 11,
   "metadata": {},
   "outputs": [],
   "source": [
    "DB_CQ = sqlite.connect(\"eventv2.db\")\n",
    "DB_APP = sqlite.connect(\"app.db\")\n",
    "# 出于尊重隐私考虑, 不提供这两个数据库, 并且这两个数据库相关的部分内容打了码"
   ]
  },
  {
   "cell_type": "code",
   "execution_count": 12,
   "metadata": {},
   "outputs": [],
   "source": [
    "query_selectLog = \"SELECT `id`, `tag`, `GROUP`, `account`, `operator`, `content`, `TIME` FROM `event`  WHERE `id` < 6666  ORDER by `id` DESC  LIMIT 35;\"\n",
    "DF_CQdata = pd.read_sql_query(query_selectLog, DB_CQ)"
   ]
  },
  {
   "cell_type": "code",
   "execution_count": 13,
   "metadata": {},
   "outputs": [
    {
     "data": {
      "text/html": [
       "<div>\n",
       "<style scoped>\n",
       "    .dataframe tbody tr th:only-of-type {\n",
       "        vertical-align: middle;\n",
       "    }\n",
       "\n",
       "    .dataframe tbody tr th {\n",
       "        vertical-align: top;\n",
       "    }\n",
       "\n",
       "    .dataframe thead th {\n",
       "        text-align: right;\n",
       "    }\n",
       "</style>\n",
       "<table border=\"1\" class=\"dataframe\">\n",
       "  <thead>\n",
       "    <tr style=\"text-align: right;\">\n",
       "      <th></th>\n",
       "      <th>id</th>\n",
       "      <th>tag</th>\n",
       "      <th>group</th>\n",
       "      <th>account</th>\n",
       "      <th>operator</th>\n",
       "      <th>content</th>\n",
       "      <th>time</th>\n",
       "    </tr>\n",
       "  </thead>\n",
       "  <tbody>\n",
       "    <tr>\n",
       "      <th>0</th>\n",
       "      <td>6665</td>\n",
       "      <td>contact</td>\n",
       "      <td>qq/group/48353***</td>\n",
       "      <td>qq/user/4297***</td>\n",
       "      <td></td>\n",
       "      <td>[CQ:image,file=04A2309D3F05B7949596D3C1484D1116.jpg]</td>\n",
       "      <td>1578211271</td>\n",
       "    </tr>\n",
       "    <tr>\n",
       "      <th>1</th>\n",
       "      <td>6664</td>\n",
       "      <td>contact</td>\n",
       "      <td>qq/group/483537882</td>\n",
       "      <td>qq/user/4297***</td>\n",
       "      <td></td>\n",
       "      <td>没用</td>\n",
       "      <td>1578211269</td>\n",
       "    </tr>\n",
       "    <tr>\n",
       "      <th>2</th>\n",
       "      <td>6663</td>\n",
       "      <td>contact</td>\n",
       "      <td>qq/group/483537882</td>\n",
       "      <td>qq/user/18371***</td>\n",
       "      <td></td>\n",
       "      <td>主动是把能量换到别的电池里去</td>\n",
       "      <td>1578211269</td>\n",
       "    </tr>\n",
       "    <tr>\n",
       "      <th>3</th>\n",
       "      <td>6662</td>\n",
       "      <td>contact</td>\n",
       "      <td>qq/group/483537882</td>\n",
       "      <td>qq/user/429****</td>\n",
       "      <td></td>\n",
       "      <td>原车有这个</td>\n",
       "      <td>1578211264</td>\n",
       "    </tr>\n",
       "    <tr>\n",
       "      <th>4</th>\n",
       "      <td>6661</td>\n",
       "      <td>contact</td>\n",
       "      <td>qq/group/483537882</td>\n",
       "      <td>qq/user/616471607</td>\n",
       "      <td></td>\n",
       "      <td>了解一下近几年的电池保护方案吧…</td>\n",
       "      <td>1578211258</td>\n",
       "    </tr>\n",
       "    <tr>\n",
       "      <th>...</th>\n",
       "      <td>...</td>\n",
       "      <td>...</td>\n",
       "      <td>...</td>\n",
       "      <td>...</td>\n",
       "      <td>...</td>\n",
       "      <td>...</td>\n",
       "      <td>...</td>\n",
       "    </tr>\n",
       "    <tr>\n",
       "      <th>30</th>\n",
       "      <td>6635</td>\n",
       "      <td>contact</td>\n",
       "      <td>qq/group/483537882</td>\n",
       "      <td>qq/user/1837******</td>\n",
       "      <td></td>\n",
       "      <td>另外20a你还被动均衡咋想的？</td>\n",
       "      <td>1578211060</td>\n",
       "    </tr>\n",
       "    <tr>\n",
       "      <th>31</th>\n",
       "      <td>6634</td>\n",
       "      <td>contact</td>\n",
       "      <td>qq/group/483537882</td>\n",
       "      <td>qq/user/1837107***</td>\n",
       "      <td></td>\n",
       "      <td>电流用外边电阻啊？</td>\n",
       "      <td>1578211046</td>\n",
       "    </tr>\n",
       "    <tr>\n",
       "      <th>32</th>\n",
       "      <td>6633</td>\n",
       "      <td>contact</td>\n",
       "      <td>qq/group/483537882</td>\n",
       "      <td>qq/user/42971****</td>\n",
       "      <td></td>\n",
       "      <td>MOS不能调节输出电流把</td>\n",
       "      <td>1578211021</td>\n",
       "    </tr>\n",
       "    <tr>\n",
       "      <th>33</th>\n",
       "      <td>6632</td>\n",
       "      <td>contact</td>\n",
       "      <td>qq/group/483537882</td>\n",
       "      <td>qq/user/183710****</td>\n",
       "      <td></td>\n",
       "      <td>aos和英飞凌   to252,dfn5x6,dfn3x3的mos  2.7v导通的有的是</td>\n",
       "      <td>1578211018</td>\n",
       "    </tr>\n",
       "    <tr>\n",
       "      <th>34</th>\n",
       "      <td>6631</td>\n",
       "      <td>contact</td>\n",
       "      <td>qq/group/483537882</td>\n",
       "      <td>qq/user/616471607</td>\n",
       "      <td></td>\n",
       "      <td>新洁能了解一下</td>\n",
       "      <td>1578211006</td>\n",
       "    </tr>\n",
       "  </tbody>\n",
       "</table>\n",
       "<p>35 rows × 7 columns</p>\n",
       "</div>"
      ],
      "text/plain": [
       "      id      tag               group             account operator  \\\n",
       "0   6665  contact   qq/group/48353***     qq/user/4297***            \n",
       "1   6664  contact  qq/group/483537882     qq/user/4297***            \n",
       "2   6663  contact  qq/group/483537882    qq/user/18371***            \n",
       "3   6662  contact  qq/group/483537882     qq/user/429****            \n",
       "4   6661  contact  qq/group/483537882   qq/user/616471607            \n",
       "..   ...      ...                 ...                 ...      ...   \n",
       "30  6635  contact  qq/group/483537882  qq/user/1837******            \n",
       "31  6634  contact  qq/group/483537882  qq/user/1837107***            \n",
       "32  6633  contact  qq/group/483537882   qq/user/42971****            \n",
       "33  6632  contact  qq/group/483537882  qq/user/183710****            \n",
       "34  6631  contact  qq/group/483537882   qq/user/616471607            \n",
       "\n",
       "                                                 content        time  \n",
       "0   [CQ:image,file=04A2309D3F05B7949596D3C1484D1116.jpg]  1578211271  \n",
       "1                                                     没用  1578211269  \n",
       "2                                         主动是把能量换到别的电池里去  1578211269  \n",
       "3                                                  原车有这个  1578211264  \n",
       "4                                       了解一下近几年的电池保护方案吧…  1578211258  \n",
       "..                                                   ...         ...  \n",
       "30                                       另外20a你还被动均衡咋想的？  1578211060  \n",
       "31                                             电流用外边电阻啊？  1578211046  \n",
       "32                                          MOS不能调节输出电流把  1578211021  \n",
       "33         aos和英飞凌   to252,dfn5x6,dfn3x3的mos  2.7v导通的有的是  1578211018  \n",
       "34                                               新洁能了解一下  1578211006  \n",
       "\n",
       "[35 rows x 7 columns]"
      ]
     },
     "execution_count": 13,
     "metadata": {},
     "output_type": "execute_result"
    }
   ],
   "source": [
    "DF_CQdata"
   ]
  },
  {
   "cell_type": "code",
   "execution_count": 14,
   "metadata": {},
   "outputs": [
    {
     "name": "stdout",
     "output_type": "stream",
     "text": [
      "消息文本预处理耗时→0.187秒\n",
      "6665: CQ码→[CQ:image,file=04A2309D3F05B7949596D3C1484D1116.jpg],  | 词性标注→无\n",
      "6664: CQ码→无 | 词性标注→[('没用', 'v')]\n",
      "6663: CQ码→无 | 词性标注→[('主动', 'b'), ('是', 'v'), ('把', 'p'), ('能量', 'n'), ('换', 'nz'), ('到', 'v'), ('别的', 'r'), ('电池', 'n'), ('里', 'f'), ('去', 'v')]\n",
      "6662: CQ码→无 | 词性标注→[('原车', 'n'), ('有', 'v'), ('这个', 'r')]\n",
      "6661: CQ码→无 | 词性标注→[('了解', 'v'), ('一下', 'm'), ('近几年', 'l'), ('的', 'uj'), ('电池', 'n'), ('保护', 'v'), ('方案', 'n')]\n",
      "6660: CQ码→无 | 词性标注→[('被动', 'vn'), ('是', 'v'), ('用', 'p'), ('电阻', 'n'), ('热', 'n'), ('耗散', 'v'), ('掉', 'zg')]\n",
      "6659: CQ码→无 | 词性标注→[('最后', 'f'), ('还是', 'c'), ('热敏电阻', 'n'), ('好', 'a'), ('用', 'p')]\n",
      "6658: CQ码→[CQ:face,id=182],  | 词性标注→[*unclearContent*]我真不知道\n",
      "6657: CQ码→[CQ:image,file=47CFFBFE586387C795EF5281A2C325AE.jpg],  | 词性标注→无\n",
      "6656: CQ码→无 | 词性标注→[('....', 'm'), ('你', 'r'), ('看来', 'v'), ('真不知道', 'i'), ('啥', 'r'), ('叫', 'v'), ('被动', 'vn'), ('均', 'd'), ('流', 'v'), ('主动', 'b'), ('均', 'd'), ('流', 'v')]\n",
      "6655: CQ码→无 | 词性标注→[('不然', 'c'), ('就', 'd'), ('保护', 'v'), ('了', 'ul')]\n",
      "6654: CQ码→[CQ:face,id=178][CQ:face,id=178][CQ:face,id=178],  | 词性标注→无\n",
      "6653: CQ码→无 | 词性标注→[('充满', 'a'), ('单体', 'n'), ('高', 'a'), ('的', 'uj'), ('放电', 'v'), ('这样', 'r'), ('低', 'a'), ('的', 'uj'), ('才能', 'v'), ('充上', 'v')]\n",
      "6652: CQ码→无 | 词性标注→[('被动', 'vn'), ('均', 'd'), ('流', 'v'), ('别说', 'c'), ('你', 'r'), ('不', 'd'), ('知道', 'v'), ('啥', 'r'), ('叫', 'v'), ('被动', 'vn'), ('均', 'd'), ('流', 'v'), ('主动', 'b'), ('均', 'd'), ('流', 'v')]\n",
      "6651: CQ码→无 | 词性标注→[('充电', 'v')]\n",
      "6650: CQ码→无 | 词性标注→[('都', 'd'), ('说', 'v'), ('了', 'ul'), ('当', 't'), ('修理', 'v'), ('设备', 'vn'), ('用', 'p')]\n",
      "6649: CQ码→无 | 词性标注→[('被动', 'vn'), ('均', 'd'), ('流', 'v'), ('你', 'r'), ('咋', 'r'), ('想', 'v'), ('的', 'uj')]\n",
      "6648: CQ码→无 | 词性标注→[('我', 'r'), ('是', 'v'), ('说', 'v')]\n",
      "6647: CQ码→[CQ:image,file=D07AC615574F12C4434BE3A25D34102F.jpg],  | 词性标注→无\n",
      "6646: CQ码→[CQ:face,id=178],  | 词性标注→无\n",
      "6645: CQ码→无 | 词性标注→[('这么', 'r'), ('多', 'm'), ('你', 'r'), ('说', 'v'), ('咋搞', 'v')]\n",
      "6644: CQ码→无 | 词性标注→[*unclearContent*]回来了\n",
      "6643: CQ码→[CQ:image,file=5F173229FF29B6B0A281C8ADF64FB699.jpg],  | 词性标注→无\n",
      "6642: CQ码→无 | 词性标注→[('被动', 'vn'), ('均', 'd'), ('流', 'v'), ('咋', 'r'), ('想', 'v'), ('的', 'uj')]\n",
      "6641: CQ码→无 | 词性标注→[*unclearContent*]10。5。都行\n",
      "6640: CQ码→无 | 词性标注→[('为啥', 'r'), ('不', 'd'), ('主动', 'b'), ('均', 'd'), ('流', 'v')]\n",
      "6639: CQ码→无 | 词性标注→[('电流', 'n'), ('可以', 'c'), ('调', 'v')]\n",
      "6638: CQ码→无 | 词性标注→[*unclearContent*]最大20安\n",
      "6637: CQ码→无 | 词性标注→[('汽车', 'n'), ('电池', 'n'), ('包', 'v')]\n",
      "6636: CQ码→无 | 词性标注→[('修车', 'v'), ('用', 'p')]\n",
      "6635: CQ码→无 | 词性标注→[('另外', 'c'), ('20', 'm'), ('a', 'eng'), ('你', 'r'), ('还', 'd'), ('被动', 'vn'), ('均衡', 'a'), ('咋', 'r'), ('想', 'v'), ('的', 'uj')]\n",
      "6634: CQ码→无 | 词性标注→[('电流', 'n'), ('用', 'p'), ('外边', 'f'), ('电阻', 'n')]\n",
      "6633: CQ码→无 | 词性标注→[('MOS', 'eng'), ('不能', 'v'), ('调节', 'vn'), ('输出', 'v'), ('电流', 'n'), ('把', 'p')]\n",
      "6632: CQ码→无 | 词性标注→[('aos', 'eng'), ('和', 'c'), ('英飞凌', 'nr'), ('to252', 'eng'), ('dfn5x6', 'eng'), ('dfn3x3', 'eng'), ('的', 'uj'), ('mos', 'eng'), ('2.7', 'm'), ('v', 'eng'), ('导通', 'n'), ('的', 'uj'), ('有的是', 'l')]\n",
      "6631: CQ码→无 | 词性标注→[('新洁能', 'nz'), ('了解', 'v'), ('一下', 'm')]\n"
     ]
    }
   ],
   "source": [
    "经过预处理的消息 = {} \n",
    "tmp_CQ转换 = \"\"\n",
    "tmp_分词标注 = \"\"\n",
    "time_start = time.time()\n",
    "for name, rows in DF_CQdata.iterrows():\n",
    "    tmp_CQ转换 = CQ记录转换(rows['content'])\n",
    "    if len(tmp_CQ转换[\"内容\"]) > 0:\n",
    "        try:\n",
    "            tmp_分词标注 = 分词并标注(tmp_CQ转换[\"内容\"]) \n",
    "        except UserWarning:\n",
    "            tmp_分词标注 = \"[*unkownLanguage*]\" + tmp_CQ转换[\"内容\"]\n",
    "        except SyntaxWarning:\n",
    "            tmp_分词标注 = \"[*unclearContent*]\" + tmp_CQ转换[\"内容\"]\n",
    "    else:\n",
    "        tmp_分词标注 = []\n",
    "    经过预处理的消息[rows['id']] = {'CQ码':tmp_CQ转换['CQ码'] if len(tmp_CQ转换['CQ码']) > 0 else \"\", '分词标注':tmp_分词标注 if len(tmp_分词标注) > 0 else \"\"}\n",
    "    \n",
    "print(\"消息文本预处理耗时→%.3f秒\" % (time.time() - time_start) )\n",
    "\n",
    "for 消息ID, 预处理结果 in 经过预处理的消息.items():\n",
    "    print(\"%d: CQ码→%s | 词性标注→%s\" %(消息ID, 预处理结果['CQ码'] if len(预处理结果['CQ码']) > 0 else \"无\", 预处理结果['分词标注'] if len(预处理结果['分词标注']) > 0 else \"无\" ) )"
   ]
  },
  {
   "cell_type": "code",
   "execution_count": 15,
   "metadata": {},
   "outputs": [],
   "source": [
    "# 再维护一个数据库用以记录预处理过的内容以及上下文关系\n",
    "DB_ppced = r\"CQevePPC.db\"\n",
    "Conn_ppced = sqlite.connect(DB_ppced)"
   ]
  },
  {
   "cell_type": "markdown",
   "metadata": {},
   "source": [
    "目前(10 Jan. 2020)的想法是使用两个表: `ppcLog` 和 `contextIndex`, 分别用于记录预处理后的数据和上下文的关系(按群和时间分组, 以便后续提取对话)"
   ]
  },
  {
   "cell_type": "code",
   "execution_count": 16,
   "metadata": {},
   "outputs": [],
   "source": [
    "# 数据库设计\n",
    "query_createTable_ppcLog = '''\n",
    "CREATE TABLE \"ppcLog\" (\n",
    "\"lid\"       INTEGER NOT NULL PRIMARY KEY AUTOINCREMENT,\n",
    "\"Link\"      INTEGER,\n",
    "\"cqCode\"    TEXT,\n",
    "\"jiebaRES\"  TEXT,\n",
    "\"lastModif\" NUMERIC NOT NULL DEFAULT CURRENT_TIMESTAMP,\n",
    "\"note\"      TEXT\n",
    ");'''\n",
    "query_createTable_contextIndex = '''\n",
    "CREATE TABLE \"contextIndex\" (\n",
    "\"id_conversation\"   INTEGER NOT NULL PRIMARY KEY AUTOINCREMENT,\n",
    "\"GroupFrom\"         INTEGER,\n",
    "\"UserFrom\"          INTEGER,\n",
    "\"dialogsContent\"    TEXT,\n",
    "\"DialogsLink\"       INTEGER\n",
    "\"time_sort\"         NUMERIC NOT NULL DEFAULT CURRENT_TIMESTAMP,\n",
    "\"note\"              TEXT\n",
    ");'''"
   ]
  },
  {
   "cell_type": "code",
   "execution_count": 17,
   "metadata": {},
   "outputs": [],
   "source": [
    "# 先检查数据库状态, 如果没有预设的表那就初始化\n",
    "def DBtest(dbConnHandle, tableNames, checkQuery = []):\n",
    "    querys_tableCheck = []\n",
    "    for i in range( len(tableNames) ):\n",
    "        querys_tableCheck.append(\"SELECT * FROM `sqlite_master` where type = 'table' and name = '%s';\" % tableNames[i])\n",
    "    DBisOK = False\n",
    "    OrigSct = \"\"\n",
    "    tmp_cont = 0\n",
    "    cont_table = 0\n",
    "    cont_unexc = 0\n",
    "    for query in querys_tableCheck:\n",
    "        curs = dbConnHandle.execute(query)\n",
    "        gets = curs.fetchall()\n",
    "        if len(gets) > 0:\n",
    "            OrigSct = gets[-1][-1]\n",
    "            print(\"数据表`%s`存在. ~ 读到记录:  \\n%s \" % (tableNames[tmp_cont], OrigSct) )\n",
    "            cont_table += 1\n",
    "            if len(checkQuery) == len(tableNames):\n",
    "                if OrigSct.replace(\"\\n\", \"\").replace(\" \",\"\").replace(\";\", \"\").replace(\"\\t\", \"\") != checkQuery[tmp_cont].replace(\"\\n\", \"\").replace(\" \",\"\").replace(\";\", \"\").replace(\"\\t\", \"\"):\n",
    "                    cont_unexc -= 4\n",
    "                else:\n",
    "                    DBisOK += 1\n",
    "        tmp_cont += 1\n",
    "\n",
    "    if checkQuery != []:\n",
    "        if cont_table < 1 :\n",
    "            print(\"指定的表不存在\")\n",
    "            DBisOK = False\n",
    "        if cont_unexc < 0: \n",
    "            if cont_table > 0:\n",
    "                raise SyntaxWarning(\"数据库检查未通过: 已经存在不同结构的同名表. (有 %d 个表记录与提供的记录不一致)\" % (-cont_unexc / 4))\n",
    "                return cont_unexc\n",
    "        else:\n",
    "            if DBisOK == len(tableNames) :\n",
    "                print(\"数据库检查通过. %d 个表(共%d个表)校验一致\" % (DBisOK, len(tableNames)) )\n",
    "                DBisOK = True    \n",
    "    else:\n",
    "        if DBisOK == len(tableNames) :\n",
    "            print(\"指定表存在\")\n",
    "            DBisOK = True\n",
    "        else:\n",
    "            print(\"指定表不存在\")\n",
    "            DBisOK = False\n",
    "    return DBisOK        "
   ]
  },
  {
   "cell_type": "code",
   "execution_count": 18,
   "metadata": {},
   "outputs": [],
   "source": [
    "def DB_init(dbConnHandle, tableNames = [], checkQuery = []):\n",
    "    realyNeedInit = False\n",
    "    try:\n",
    "        dbStatus = DBtest(dbConnHandle, tableNames, checkQuery)\n",
    "    except SyntaxWarning as info:\n",
    "        print(\"初始化失败, 建议检查运行环境(文件冲突). 错误信息:  \\n    \", info)\n",
    "        return -233\n",
    "    if dbStatus == False:\n",
    "        realyNeedInit = True\n",
    "    elif dbStatus < 0:\n",
    "        r\n",
    "    if realyNeedInit == True:\n",
    "        print(\"准备开始初始化...\")\n",
    "        try:\n",
    "            for query in checkQuery:\n",
    "                dbConnHandle.execute(query)\n",
    "            print(\"提交变动...\")\n",
    "            dbConnHandle.commit()\n",
    "            print(\"数据表初始化完成\")\n",
    "        except Exception as errinfo: \n",
    "            print(\"---SQL执行失败---: \", errinfo)\n",
    "    else:\n",
    "        print(\"已存在同名表, 跳过初始化\")"
   ]
  },
  {
   "cell_type": "code",
   "execution_count": 19,
   "metadata": {},
   "outputs": [
    {
     "name": "stdout",
     "output_type": "stream",
     "text": [
      "指定的表不存在\n",
      "准备开始初始化...\n",
      "提交变动...\n",
      "数据表初始化完成\n"
     ]
    }
   ],
   "source": [
    "DB_init(Conn_ppced, [\"ppcLog\", \"contextIndex\"], [query_createTable_ppcLog, query_createTable_contextIndex])"
   ]
  },
  {
   "cell_type": "code",
   "execution_count": 20,
   "metadata": {},
   "outputs": [
    {
     "name": "stdout",
     "output_type": "stream",
     "text": [
      "数据表`ppcLog`存在. ~ 读到记录:  \n",
      "CREATE TABLE \"ppcLog\" (\n",
      "\"lid\"       INTEGER NOT NULL PRIMARY KEY AUTOINCREMENT,\n",
      "\"Link\"      INTEGER,\n",
      "\"cqCode\"    TEXT,\n",
      "\"jiebaRES\"  TEXT,\n",
      "\"lastModif\" NUMERIC NOT NULL DEFAULT CURRENT_TIMESTAMP,\n",
      "\"note\"      TEXT\n",
      ") \n",
      "数据表`contextIndex`存在. ~ 读到记录:  \n",
      "CREATE TABLE \"contextIndex\" (\n",
      "\"id_conversation\"   INTEGER NOT NULL PRIMARY KEY AUTOINCREMENT,\n",
      "\"GroupFrom\"         INTEGER,\n",
      "\"UserFrom\"          INTEGER,\n",
      "\"dialogsContent\"    TEXT,\n",
      "\"DialogsLink\"       INTEGER\n",
      "\"time_sort\"         NUMERIC NOT NULL DEFAULT CURRENT_TIMESTAMP,\n",
      "\"note\"              TEXT\n",
      ") \n",
      "数据库检查通过. 2 个表(共2个表)校验一致\n"
     ]
    },
    {
     "data": {
      "text/plain": [
       "True"
      ]
     },
     "execution_count": 20,
     "metadata": {},
     "output_type": "execute_result"
    }
   ],
   "source": [
    "DBtest(Conn_ppced, [\"ppcLog\", \"contextIndex\"], [query_createTable_ppcLog, query_createTable_contextIndex])"
   ]
  },
  {
   "cell_type": "code",
   "execution_count": 21,
   "metadata": {},
   "outputs": [],
   "source": [
    "# 接下来是把预处理好的内容存入数据库, 并标注哪些内容已经处理以及修改时间\n",
    "\n",
    "# 为了提高插入数据的效率, 使用\"executemany\". 当然, 还可以用pandas.DataFrame.to_sql, 不过这里就怎么省事怎么来了.  \n",
    "# 需要注意的是, 如果想要用sqlite3的python接口\"executemany\", 传入数据需要是`[(xxx,xx,...,x),...(x,xxx,...,xx)]`的结构, 其中每个元组的元素数要对应占位符. 另外, 一次处理的量不能太大.\n",
    "  \n",
    "Conn_ppced.executemany(\n",
    "    \"insert into ppcLog (`Link`, `cqCode`, `jiebaRES`, `note`) values (?, ?, ?, 'initialize')\",\n",
    "    [ ( link, res['CQ码'], str(res[\"分词标注\"]) )  for link, res in 经过预处理的消息.items() ]\n",
    ")\n",
    "Conn_ppced.commit() # 操作后应该尽快提交, 以免数据库锁带来的麻烦(尤其是多线程)"
   ]
  },
  {
   "cell_type": "code",
   "execution_count": 22,
   "metadata": {},
   "outputs": [],
   "source": [
    "# 提交完了, 瞅瞅情况\n",
    "query_selectLog = \"SELECT * FROM `ppcLog`;\"\n",
    "数据库中的预处理结果 = pd.read_sql_query(query_selectLog, Conn_ppced)"
   ]
  },
  {
   "cell_type": "code",
   "execution_count": 23,
   "metadata": {},
   "outputs": [
    {
     "data": {
      "text/html": [
       "<div>\n",
       "<style scoped>\n",
       "    .dataframe tbody tr th:only-of-type {\n",
       "        vertical-align: middle;\n",
       "    }\n",
       "\n",
       "    .dataframe tbody tr th {\n",
       "        vertical-align: top;\n",
       "    }\n",
       "\n",
       "    .dataframe thead th {\n",
       "        text-align: right;\n",
       "    }\n",
       "</style>\n",
       "<table border=\"1\" class=\"dataframe\">\n",
       "  <thead>\n",
       "    <tr style=\"text-align: right;\">\n",
       "      <th></th>\n",
       "      <th>lid</th>\n",
       "      <th>Link</th>\n",
       "      <th>cqCode</th>\n",
       "      <th>jiebaRES</th>\n",
       "      <th>lastModif</th>\n",
       "      <th>note</th>\n",
       "    </tr>\n",
       "  </thead>\n",
       "  <tbody>\n",
       "    <tr>\n",
       "      <th>0</th>\n",
       "      <td>1</td>\n",
       "      <td>6665</td>\n",
       "      <td>[CQ:image,file=04A2309D3F05B7949596D3C1484D1116.jpg],</td>\n",
       "      <td></td>\n",
       "      <td>2020-01-15 09:37:53</td>\n",
       "      <td>initialize</td>\n",
       "    </tr>\n",
       "    <tr>\n",
       "      <th>1</th>\n",
       "      <td>2</td>\n",
       "      <td>6664</td>\n",
       "      <td></td>\n",
       "      <td>[('没用', 'v')]</td>\n",
       "      <td>2020-01-15 09:37:53</td>\n",
       "      <td>initialize</td>\n",
       "    </tr>\n",
       "    <tr>\n",
       "      <th>2</th>\n",
       "      <td>3</td>\n",
       "      <td>6663</td>\n",
       "      <td></td>\n",
       "      <td>[('主动', 'b'), ('是', 'v'), ('把', 'p'), ('能量', 'n'), ('换', 'nz'), ('到', 'v'), ('别的', 'r'), ('电池', ...</td>\n",
       "      <td>2020-01-15 09:37:53</td>\n",
       "      <td>initialize</td>\n",
       "    </tr>\n",
       "    <tr>\n",
       "      <th>3</th>\n",
       "      <td>4</td>\n",
       "      <td>6662</td>\n",
       "      <td></td>\n",
       "      <td>[('原车', 'n'), ('有', 'v'), ('这个', 'r')]</td>\n",
       "      <td>2020-01-15 09:37:53</td>\n",
       "      <td>initialize</td>\n",
       "    </tr>\n",
       "    <tr>\n",
       "      <th>4</th>\n",
       "      <td>5</td>\n",
       "      <td>6661</td>\n",
       "      <td></td>\n",
       "      <td>[('了解', 'v'), ('一下', 'm'), ('近几年', 'l'), ('的', 'uj'), ('电池', 'n'), ('保护', 'v'), ('方案', 'n')]</td>\n",
       "      <td>2020-01-15 09:37:53</td>\n",
       "      <td>initialize</td>\n",
       "    </tr>\n",
       "    <tr>\n",
       "      <th>...</th>\n",
       "      <td>...</td>\n",
       "      <td>...</td>\n",
       "      <td>...</td>\n",
       "      <td>...</td>\n",
       "      <td>...</td>\n",
       "      <td>...</td>\n",
       "    </tr>\n",
       "    <tr>\n",
       "      <th>30</th>\n",
       "      <td>31</td>\n",
       "      <td>6635</td>\n",
       "      <td></td>\n",
       "      <td>[('另外', 'c'), ('20', 'm'), ('a', 'eng'), ('你', 'r'), ('还', 'd'), ('被动', 'vn'), ('均衡', 'a'), ('咋'...</td>\n",
       "      <td>2020-01-15 09:37:53</td>\n",
       "      <td>initialize</td>\n",
       "    </tr>\n",
       "    <tr>\n",
       "      <th>31</th>\n",
       "      <td>32</td>\n",
       "      <td>6634</td>\n",
       "      <td></td>\n",
       "      <td>[('电流', 'n'), ('用', 'p'), ('外边', 'f'), ('电阻', 'n')]</td>\n",
       "      <td>2020-01-15 09:37:53</td>\n",
       "      <td>initialize</td>\n",
       "    </tr>\n",
       "    <tr>\n",
       "      <th>32</th>\n",
       "      <td>33</td>\n",
       "      <td>6633</td>\n",
       "      <td></td>\n",
       "      <td>[('MOS', 'eng'), ('不能', 'v'), ('调节', 'vn'), ('输出', 'v'), ('电流', 'n'), ('把', 'p')]</td>\n",
       "      <td>2020-01-15 09:37:53</td>\n",
       "      <td>initialize</td>\n",
       "    </tr>\n",
       "    <tr>\n",
       "      <th>33</th>\n",
       "      <td>34</td>\n",
       "      <td>6632</td>\n",
       "      <td></td>\n",
       "      <td>[('aos', 'eng'), ('和', 'c'), ('英飞凌', 'nr'), ('to252', 'eng'), ('dfn5x6', 'eng'), ('dfn3x3', 'eng...</td>\n",
       "      <td>2020-01-15 09:37:53</td>\n",
       "      <td>initialize</td>\n",
       "    </tr>\n",
       "    <tr>\n",
       "      <th>34</th>\n",
       "      <td>35</td>\n",
       "      <td>6631</td>\n",
       "      <td></td>\n",
       "      <td>[('新洁能', 'nz'), ('了解', 'v'), ('一下', 'm')]</td>\n",
       "      <td>2020-01-15 09:37:53</td>\n",
       "      <td>initialize</td>\n",
       "    </tr>\n",
       "  </tbody>\n",
       "</table>\n",
       "<p>35 rows × 6 columns</p>\n",
       "</div>"
      ],
      "text/plain": [
       "    lid  Link                                                  cqCode  \\\n",
       "0     1  6665  [CQ:image,file=04A2309D3F05B7949596D3C1484D1116.jpg],    \n",
       "1     2  6664                                                           \n",
       "2     3  6663                                                           \n",
       "3     4  6662                                                           \n",
       "4     5  6661                                                           \n",
       "..  ...   ...                                                     ...   \n",
       "30   31  6635                                                           \n",
       "31   32  6634                                                           \n",
       "32   33  6633                                                           \n",
       "33   34  6632                                                           \n",
       "34   35  6631                                                           \n",
       "\n",
       "                                                                                               jiebaRES  \\\n",
       "0                                                                                                         \n",
       "1                                                                                         [('没用', 'v')]   \n",
       "2   [('主动', 'b'), ('是', 'v'), ('把', 'p'), ('能量', 'n'), ('换', 'nz'), ('到', 'v'), ('别的', 'r'), ('电池', ...   \n",
       "3                                                                [('原车', 'n'), ('有', 'v'), ('这个', 'r')]   \n",
       "4          [('了解', 'v'), ('一下', 'm'), ('近几年', 'l'), ('的', 'uj'), ('电池', 'n'), ('保护', 'v'), ('方案', 'n')]   \n",
       "..                                                                                                  ...   \n",
       "30  [('另外', 'c'), ('20', 'm'), ('a', 'eng'), ('你', 'r'), ('还', 'd'), ('被动', 'vn'), ('均衡', 'a'), ('咋'...   \n",
       "31                                                  [('电流', 'n'), ('用', 'p'), ('外边', 'f'), ('电阻', 'n')]   \n",
       "32                    [('MOS', 'eng'), ('不能', 'v'), ('调节', 'vn'), ('输出', 'v'), ('电流', 'n'), ('把', 'p')]   \n",
       "33  [('aos', 'eng'), ('和', 'c'), ('英飞凌', 'nr'), ('to252', 'eng'), ('dfn5x6', 'eng'), ('dfn3x3', 'eng...   \n",
       "34                                                            [('新洁能', 'nz'), ('了解', 'v'), ('一下', 'm')]   \n",
       "\n",
       "              lastModif        note  \n",
       "0   2020-01-15 09:37:53  initialize  \n",
       "1   2020-01-15 09:37:53  initialize  \n",
       "2   2020-01-15 09:37:53  initialize  \n",
       "3   2020-01-15 09:37:53  initialize  \n",
       "4   2020-01-15 09:37:53  initialize  \n",
       "..                  ...         ...  \n",
       "30  2020-01-15 09:37:53  initialize  \n",
       "31  2020-01-15 09:37:53  initialize  \n",
       "32  2020-01-15 09:37:53  initialize  \n",
       "33  2020-01-15 09:37:53  initialize  \n",
       "34  2020-01-15 09:37:53  initialize  \n",
       "\n",
       "[35 rows x 6 columns]"
      ]
     },
     "execution_count": 23,
     "metadata": {},
     "output_type": "execute_result"
    }
   ],
   "source": [
    "数据库中的预处理结果"
   ]
  },
  {
   "cell_type": "markdown",
   "metadata": {},
   "source": [
    "-----\n",
    "\n",
    "### 以上内容便实现了数据接口以及数据预处理的基础功能(所以作为第0部分), 接下来开始真正的NLP内容  \n",
    "\n",
    "本文内容仅为个人见解和心得, 希望能带来帮助. 如果有不正确/不准确之处还请多多指教, 一起学习一起进步~   \n",
    "\n",
    "本文内容由[佚之狗](https://github.com/HookeLiu)原创, 可以随意使用但请注明出处.    "
   ]
  }
 ],
 "metadata": {
  "kernelspec": {
   "display_name": "Python 3",
   "language": "python",
   "name": "python3"
  },
  "language_info": {
   "codemirror_mode": {
    "name": "ipython",
    "version": 3
   },
   "file_extension": ".py",
   "mimetype": "text/x-python",
   "name": "python",
   "nbconvert_exporter": "python",
   "pygments_lexer": "ipython3",
   "version": "3.7.5"
  }
 },
 "nbformat": 4,
 "nbformat_minor": 4
}
