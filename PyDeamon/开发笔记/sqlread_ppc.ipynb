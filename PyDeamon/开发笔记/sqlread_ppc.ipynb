{
 "cells": [
  {
   "cell_type": "markdown",
   "metadata": {},
   "source": [
    "# NLP[0] -- 语料和数据收集 -- 文本预处理及数据库文本分析\n",
    "\n",
    "## MutBot这个项目设计包含自动收集数据的功能, 以QQ为主要用用户接口和数据来源, 本文为NLP的\"第0步\" -- 文本预处理和数据整理.  "
   ]
  },
  {
   "cell_type": "markdown",
   "metadata": {},
   "source": [
    "本文涉及的内容:  \n",
    "1. 用第三方库: `langid`检测输入语种, `jieba`做分词和词性标注  \n",
    "2. 正则表达式re模块的简单运用  \n",
    "3. SQLite基础数据库操作(创建/检查/写入和读取)\n",
    "4. 第三方库`pandas`的介绍和简单运用(本例用于简化数据查询操作)\n",
    "5. 有害内容及无意义内容的过滤清洗(这里使用cherry库)"
   ]
  },
  {
   "cell_type": "code",
   "execution_count": 4,
   "metadata": {},
   "outputs": [],
   "source": [
    "import time  # 用于计时比较\n",
    "import sys   # 本文中用于观察变量内存占用"
   ]
  },
  {
   "cell_type": "markdown",
   "metadata": {},
   "source": [
    "本项目的文本数据来源主要为QQ群, 所以, 各种各样情况都可能遇到: "
   ]
  },
  {
   "cell_type": "code",
   "execution_count": 73,
   "metadata": {},
   "outputs": [],
   "source": [
    "测试文本1 = \"[CQ:at,id=qq/user/15*****] 氖泡接在驱动电源负和地线之间[CQ:face,id=108][CQ:face,id=108][CQ:at,id=qq/user/15*****]\"\n",
    "测试文本2 = \"牛啤\"\n",
    "测试文本3 = \"ΕΞΖΝи△M\"\n",
    "测试文本4 = \"This is a test text...\"\n",
    "测试文本5 = '<h2><a id=\"user-content-probability-normalization\" class=\"anchor\" aria-hidden=\"true\" href=\"#probability-normalization\"></a>Probability Normalization</h2>'\n",
    "测试文本6 = \"import win32event as event; event_tigger = event.CreateEvent(None, False, False, 'Global\\\\233__update'); event.SetEvent(event_tigger)\"\n",
    "测试文本7 = \"http://yhhtech.cn\"\n",
    "测试文本8 = \"2333锟斤拷\"\n",
    "\n",
    "# 为了方便后面演示, 将上面的单条文本转为列表\n",
    "测试文本组 = []\n",
    "for i in range(1, 9):\n",
    "    _tmp_句子 = eval(\"测试文本%d\" % i)\n",
    "    if len(_tmp_句子) > 83:  # 忽略多余内容(其实主要是嫌显示不爽). 一般来说, 一段话的前80个字足够判断句子所使用的语种了. 如果不能, 那也多半是无用的内容\n",
    "        _tmp_句子 = _tmp_句子[:80] + \"...\"\n",
    "    测试文本组.append(_tmp_句子)"
   ]
  },
  {
   "cell_type": "markdown",
   "metadata": {},
   "source": [
    "在做文本处理之前得看看文本到底是不是有意义的语言, 如果是, 不同语言也应该采用不同的方式对待.  \n",
    "目前主流的开源自然语言语种识别工具有langdetect和langid, 其中, langdetect处理速度较高但准确率不足, langid准确率要高一些但速度也慢.  \n",
    "langid目前(Jul 15, 2017)提供了97种语言的预训练, 分类出来的的语言标号依据[ISO 639-1](https://baike.baidu.com/item/ISO%20639-1)语言编码标准  "
   ]
  },
  {
   "cell_type": "code",
   "execution_count": 61,
   "metadata": {},
   "outputs": [
    {
     "name": "stdout",
     "output_type": "stream",
     "text": [
      "Wall time: 0 ns\n"
     ]
    }
   ],
   "source": [
    "%%time\n",
    "import langid"
   ]
  },
  {
   "cell_type": "code",
   "execution_count": 66,
   "metadata": {},
   "outputs": [
    {
     "name": "stdout",
     "output_type": "stream",
     "text": [
      "Wall time: 4.98 ms\n"
     ]
    },
    {
     "data": {
      "text/plain": [
       "('zh', -13.09517526626587)"
      ]
     },
     "execution_count": 66,
     "metadata": {},
     "output_type": "execute_result"
    }
   ],
   "source": [
    "%time langid.classify(\"喵喵喵~\")  # 实际使用时发现这个分类器在第一次分类时会初始化, 有单独的较长耗时. 为了方便后面的迭代操作时间均匀, 先单独做个空运算使其初始化一下."
   ]
  },
  {
   "cell_type": "code",
   "execution_count": 41,
   "metadata": {},
   "outputs": [],
   "source": [
    "项目中常见自然语言语种 = {'en':'英文','zh':'中文', 'de':'德语', 'el':'希腊语', 'ja':'日语', 'la':'拉丁语', 'ru':'俄语', 'th':'泰语'}"
   ]
  },
  {
   "cell_type": "code",
   "execution_count": 203,
   "metadata": {},
   "outputs": [
    {
     "name": "stdout",
     "output_type": "stream",
     "text": [
      "[CQ:at,id=qq/user/15*****] 氖泡接在驱动电源负和地线之间[CQ:face,id=108][CQ:face,id=108][CQ:at, \t| → zh(-204.031059)\n",
      "牛啤                                                                                           \t| → zh(-19.840544)\n",
      "ΕΞΖΝи△M                                                                                  \t| → el(-68.036244)\n",
      "This is a test text...                                                                         \t| → en(-54.413104)\n",
      "<h2><a id=\"user-content-probability-normalization\" class=\"anchor\" aria-hidden=\"t               \t| → ro(-14.682011)\n",
      "import win32event as event; event_tigger = event.CreateEvent(None, False, False,               \t| → en(-47.138615)\n",
      "http://yhhtech.cn                                                                              \t| → en(-16.985306)\n",
      "2333锟斤拷                                                                                     \t| → zh(-12.147441)\n",
      "Wall time: 43 ms\n"
     ]
    }
   ],
   "source": [
    "%%time\n",
    "for 测试句子 in 测试文本组:\n",
    "    lang, probability = langid.classify(测试句子)\n",
    "    print(f\"{测试句子[:80]: <{95-len(测试句子.encode('gbk'))+len(测试句子)}}\\t| → {lang}({round(probability, 6)})\")\n",
    "# langid.classify默认输出的第二个数值是对数概率, 不计算全部语种的概率所以速度快. 但是有时候因为还需要知道语种分类的\"置信度\", 就需要启用langid.py的概率归一化: "
   ]
  },
  {
   "cell_type": "code",
   "execution_count": 63,
   "metadata": {},
   "outputs": [
    {
     "name": "stdout",
     "output_type": "stream",
     "text": [
      "Wall time: 2.68 s\n"
     ]
    }
   ],
   "source": [
    "%%time\n",
    "from langid.langid import LanguageIdentifier, model\n",
    "lider = LanguageIdentifier.from_modelstring(model, norm_probs=True) # 其实主要的耗时是出在这里"
   ]
  },
  {
   "cell_type": "code",
   "execution_count": 202,
   "metadata": {},
   "outputs": [
    {
     "name": "stdout",
     "output_type": "stream",
     "text": [
      "[CQ:at,id=qq/user/15*****] 氖泡接在驱动电源负和地线之间[CQ:face,id=108][CQ:face,id=108][CQ:at, \t| → zh(100.0%)\n",
      "牛啤                                                                                           \t| → zh(51.24%)\n",
      "ΕΞΖΝи△M                                                                                  \t| → el(93.4%)\n",
      "This is a test text...                                                                         \t| → en(100.0%)\n",
      "<h2><a id=\"user-content-probability-normalization\" class=\"anchor\" aria-hidden=\"t               \t| → ro(49.87%)\n",
      "import win32event as event; event_tigger = event.CreateEvent(None, False, False,               \t| → en(99.85%)\n",
      "http://yhhtech.cn                                                                              \t| → en(65.19%)\n",
      "2333锟斤拷                                                                                     \t| → zh(91.77%)\n",
      "Wall time: 49 ms\n"
     ]
    }
   ],
   "source": [
    "%%time\n",
    "for 测试句子 in 测试文本组:\n",
    "    lang, probability = lider.classify(测试句子)\n",
    "    print(f\"{测试句子[:80]: <{95-len(测试句子.encode('gbk'))+len(测试句子)}}\\t| → {lang}({round(probability * 100, 2)}%)\")"
   ]
  },
  {
   "cell_type": "markdown",
   "metadata": {},
   "source": [
    "还可以考虑加个编程语言探测, 比如GitHub通过[linguist](https://github.com/github/linguist)对主流编程语言(300多种)达到84%正确识别   \n",
    "其实也可以自己用朴素贝叶斯实现一个, 但是暂时没时间和精力去做了..."
   ]
  },
  {
   "cell_type": "markdown",
   "metadata": {},
   "source": [
    "本文以中文语境的处理为例, 使用jieba分词工具"
   ]
  },
  {
   "cell_type": "code",
   "execution_count": 59,
   "metadata": {},
   "outputs": [
    {
     "name": "stdout",
     "output_type": "stream",
     "text": [
      "Wall time: 2.45 s\n"
     ]
    }
   ],
   "source": [
    "%%time\n",
    "import jieba as jb, jieba.analyse as jban, jieba.posseg as pseg"
   ]
  },
  {
   "cell_type": "code",
   "execution_count": 119,
   "metadata": {},
   "outputs": [
    {
     "name": "stderr",
     "output_type": "stream",
     "text": [
      "Building prefix dict from the default dictionary ...\n",
      "Loading model from cache C:\\Users\\Hooke\\AppData\\Local\\Temp\\jieba.cache\n",
      "Loading model cost 1.192 seconds.\n",
      "Prefix dict has been built successfully.\n"
     ]
    },
    {
     "name": "stdout",
     "output_type": "stream",
     "text": [
      "Wall time: 1.2 s\n"
     ]
    }
   ],
   "source": [
    "%time jb.initialize()"
   ]
  },
  {
   "cell_type": "markdown",
   "metadata": {},
   "source": [
    "jieba是一个开源的汉语分词工具, 号称做最好的python中文分词, 简便易用, 支持三种分词模式, 支持繁体, 支持[自定义词典](https://github.com/fxsjy/jieba#%E8%BD%BD%E5%85%A5%E8%AF%8D%E5%85%B8), 可以标注词性, 可以[提取文本关键词](https://github.com/fxsjy/jieba#%E5%9F%BA%E4%BA%8E-tf-idf-%E7%AE%97%E6%B3%95%E7%9A%84%E5%85%B3%E9%94%AE%E8%AF%8D%E6%8A%BD%E5%8F%96). MIT授权.    \n",
    "jieba只支持中文, 英语以及类英语的语言可以用[NLTK](https://github.com/nltk/nltk)(NLTK也支持中文处理, 但使用不太友好, 中文分词还需要安装斯坦福分词器)  \n",
    "jieba词性标注采用[和ictclas兼容的标记法](https://gist.github.com/luw2007/6016931)  \n",
    "其他常用的汉语分词工具还有SnowNLP, PkuSeg, THULAC, HanLP "
   ]
  },
  {
   "cell_type": "code",
   "execution_count": 120,
   "metadata": {},
   "outputs": [],
   "source": [
    "汉语文本常见词性标注表 = {'d':'副词', 'vn':'动名词', 'n':'名词', 'v':'动词', 'a':'形容词', 'y':'语气词', 'c':'连词', 'x':'非语素', 'p':'介词', 'm':'数词', 'q':'量词', 'ul':'助词', 's':'处所词', 'f':'方位词', 'i':'成语', 'ns':'地名', 'o':'拟声词', 'b':'区别词', 'p':'介词', 'r':'代词', 't':'时间词', 'nr':'人名', 'l':'习用语', 'eng':'外来词', 'nz':'其他专名', 'z':'状态词'}\n",
    "# 有的词性的词对于NLP来说是不重要的, 需要忽略, 比如非语素(标点符号什么的)以及语气词\n",
    "不关注的词性 = ['x', 'y', 'ul', 'd']\n",
    "停用词 = \"啊,喔,呃,额,诶,咦,哎,嗯,哈,嘛,那啥,卧槽,艹,妈耶,话说,这个,那个,怎么,之,乎,者,也,只是,因此,以至于,差不多,哪怕,例如,尽管\".split(\",\")"
   ]
  },
  {
   "cell_type": "code",
   "execution_count": 124,
   "metadata": {},
   "outputs": [
    {
     "name": "stdout",
     "output_type": "stream",
     "text": [
      "['雷', '水龙', '狼', '和', '冥', '火狐', '狼', '是', '一对', 'CP', ',', ' ', '它们', '都', '是', '双', '形态', '兽设', ',', ' ', '所谓', '`', '龙狼', '`', '并', '不是', '一种', '设定', '而是', '龙', '和', '狼', '两个', '形态', '可', '化形', '.']\n"
     ]
    }
   ],
   "source": [
    "print(jb.lcut(\"雷水龙狼和冥火狐狼是一对CP, 它们都是双形态兽设, 所谓`龙狼`并不是一种设定而是龙和狼两个形态可化形.\"))"
   ]
  },
  {
   "cell_type": "markdown",
   "metadata": {},
   "source": [
    "jieba预设的词典虽然在大多时候能满足需求, 但是对于实际应用来说不够, 很多术语、“黑话”、网络口头语以及“梗”等都可能出现分词错误, 所以, 还需要根据项目实际情况自制词典. "
   ]
  },
  {
   "cell_type": "code",
   "execution_count": 181,
   "metadata": {},
   "outputs": [],
   "source": [
    "# 为了方便观察, 就把自定义词典内容写这里了...\n",
    "文件_自定字典 = open('userDict.txt', 'wb', -1)  # 使用wb搭配后面的encode以便跨平台. (使用中发现在中文的Windows上通过jupyter输入文字是GB2312)\n",
    "文件_自定字典.write(\n",
    "'''剪脚封灌 30 vn\n",
    "感应加热 600 nz\n",
    "市电 200 d\n",
    "那 10 c\n",
    "上去 20 z\n",
    "上去过 6000 vf\n",
    "下去 20 z\n",
    "靠 10 y\n",
    "是不 5000 l\n",
    "初级 20 nz\n",
    "次级 20 nz\n",
    "斩波 200 nz\n",
    "TC 600 nz\n",
    "发错 10 z\n",
    "群 200 n\n",
    "控制 300 vn\n",
    "可行 20 z\n",
    "没有卖的 z\n",
    "啊 6 y\n",
    "地 5000 nz\n",
    "良好接地 4960 z\n",
    "异常 20 nz\n",
    "指定的 300 d\n",
    "RAISE语句 nz\n",
    "EXCEPT语句 nz\n",
    "新洁能 nz\n",
    "可行 40 z\n",
    "MM 2333 q\n",
    "616471607 nr\n",
    "2139223150 nr\n",
    "1837107998 nr\n",
    "猫哥 nr\n",
    "狗狗 nr \n",
    "龙狼 nr\n",
    "特大爷 nr\n",
    "本人 500 r\n",
    "... x\n",
    "管子 nz\n",
    "营销号 nz\n",
    "牛批 a\n",
    "图腾柱 nz\n",
    "也是 100 y\n",
    "逻辑门 nz\n",
    "直驱 d\n",
    "M 300 q\n",
    "对对对 y\n",
    "来着 600 l\n",
    "是啥 200 d\n",
    "命名规则 nz\n",
    "峰值电流 nz\n",
    "MOS nz\n",
    "会不会 600 d\n",
    "SSTC nz\n",
    "G极 nz\n",
    "S极 nz\n",
    "D极 nz\n",
    "O叔 nr\n",
    "牛逼 a\n",
    "炸管 l\n",
    "空穴 60 nz\n",
    "射频 220 nz\n",
    "鲁大师 nz\n",
    "撸大师 20 nz\n",
    "撸大湿 10 nz\n",
    "P站 50 nz\n",
    "埃及鼻涕 250 nz\n",
    "氙猫 600 nr\n",
    "雷水龙狼 nr\n",
    "冥火狐狼 nr\n",
    "我他妈 y\n",
    "真他妈 y\n",
    "奥利给 y\n",
    "E链接转义E s\n",
    "脑疾 200 nz\n",
    "'''.encode(\"utf-8\")\n",
    "             )\n",
    "文件_自定字典.flush(); 文件_自定字典.close()"
   ]
  },
  {
   "cell_type": "code",
   "execution_count": 182,
   "metadata": {},
   "outputs": [
    {
     "name": "stdout",
     "output_type": "stream",
     "text": [
      "Wall time: 3 ms\n"
     ]
    }
   ],
   "source": [
    "%%time\n",
    "jb.load_userdict('userDict.txt')\n",
    "jb.initialize()"
   ]
  },
  {
   "cell_type": "code",
   "execution_count": 184,
   "metadata": {},
   "outputs": [
    {
     "name": "stdout",
     "output_type": "stream",
     "text": [
      "['雷水龙狼', '和', '冥火狐狼', '是', '一对', 'CP', ',', ' ', '它们', '都', '是', '双', '形态', '兽设', ',', ' ', '所谓', '`', '龙狼', '`', '并', '不是', '一种', '设定', '而是', '龙', '和', '狼', '两个', '形态', '可', '化形', '.']\n"
     ]
    }
   ],
   "source": [
    "print(jb.lcut(\"雷水龙狼和冥火狐狼是一对CP, 它们都是双形态兽设, 所谓`龙狼`并不是一种设定而是龙和狼两个形态可化形.\"))"
   ]
  },
  {
   "cell_type": "code",
   "execution_count": 192,
   "metadata": {},
   "outputs": [],
   "source": [
    "def 文段分句(文段):\n",
    "    文段 = re.sub('([。！~ ; ； ？\\?])([^”’])', r\"\\1\\n\\2\", 文段)       # 单字符断句符\n",
    "    文段 = re.sub('(\\.{2,})([^”’])', r\"\\1\\n\\2\", 文段)                  # 英文省略号\n",
    "    文段 = re.sub('(\\…{1,})([^”’])', r\"\\1\\n\\2\", 文段)                 # 中文省略号\n",
    "    文段 = re.sub('([。！？\\?][”’])([^，。！？\\?])', r'\\1\\n\\2', 文段)  # 如果双引号前有终止符，那么双引号才是文段的终点，把分句符\\n放到双引号后，注意前面的几句都小心保留了双引号\n",
    "    文段 = 文段.rstrip()                                               # 段尾如果有多余的\\n就去掉它\n",
    "    return 文段.split(\"\\n\")\n",
    "\n",
    "def 语种测试(文本):\n",
    "    语种 = \"\"\n",
    "    语种分类信息 = lider.classify(文本)\n",
    "    if 语种分类信息[1] > 0.988: # 实际观察发现, 置信度低于这个值的通常是无意义内容或者不是自然语言\n",
    "        try:\n",
    "            语种 = 项目中常见自然语言语种[语种分类信息[0]]\n",
    "        except KeyError:\n",
    "            语种 = \"未知\"\n",
    "    else:\n",
    "        语种 = None\n",
    "    return 语种\n",
    "\n",
    "def 分词并标注(文本, 调试模式 = False):\n",
    "    分词结果 = []; 标注结果 = []\n",
    "    文本的语种 = 语种测试(文本)\n",
    "    if 文本的语种 != None:\n",
    "        if 调试模式 == True:\n",
    "            print(\"###debug---检测到 %s 文本 \\\"%s\\\" 输入---\" % (文本的语种, 文本) )\n",
    "        if 文本的语种 == \"中文\":\n",
    "            tmp_pseg结果 = pseg.lcut(文本)\n",
    "            if 调试模式 == True:\n",
    "                结果 = []\n",
    "                for 词, 词性 in tmp_pseg结果:\n",
    "                    try:\n",
    "                        结果.append( (词, \"%s(%s)\" % ( 词性, 汉语文本常见词性标注表[词性]) ) )\n",
    "                    except KeyError:\n",
    "                        结果.append( (词, 词性) )\n",
    "                return 结果\n",
    "            else:\n",
    "                for 词, 词性 in tmp_pseg结果:\n",
    "                    if 词性 not in 不关注的词性: # 忽略多余的语素\n",
    "                        分词结果.append( 词 )\n",
    "                        标注结果.append( 词性 )\n",
    "        else:\n",
    "            raise UserWarning(\"暂不处理其他语种\")\n",
    "    else:\n",
    "         raise SyntaxWarning(\"无法确定输入文本的语种\")\n",
    "    return 分词结果, 标注结果"
   ]
  },
  {
   "cell_type": "code",
   "execution_count": 188,
   "metadata": {},
   "outputs": [
    {
     "name": "stdout",
     "output_type": "stream",
     "text": [
      "###debug---检测到 中文 文本 \"Python可以使用raise语句抛出一个指定的异常, 之后再使用except语句根据异常信息来处理.\" 输入---\n"
     ]
    },
    {
     "data": {
      "text/plain": [
       "[('Python', 'eng(外来词)'),\n",
       " ('可以', 'c(连词)'),\n",
       " ('使用', 'v(动词)'),\n",
       " ('raise', 'eng(外来词)'),\n",
       " ('语句', 'n(名词)'),\n",
       " ('抛出', 'v(动词)'),\n",
       " ('一个', 'm(数词)'),\n",
       " ('指定的', 'd(副词)'),\n",
       " ('异常', 'nz(其他专名)'),\n",
       " (',', 'x(非语素)'),\n",
       " (' ', 'x(非语素)'),\n",
       " ('之后', 'f(方位词)'),\n",
       " ('再', 'd(副词)'),\n",
       " ('使用', 'v(动词)'),\n",
       " ('except', 'eng(外来词)'),\n",
       " ('语句', 'n(名词)'),\n",
       " ('根据', 'p(介词)'),\n",
       " ('异常', 'nz(其他专名)'),\n",
       " ('信息', 'n(名词)'),\n",
       " ('来', 'v(动词)'),\n",
       " ('处理', 'v(动词)'),\n",
       " ('.', 'x(非语素)')]"
      ]
     },
     "execution_count": 188,
     "metadata": {},
     "output_type": "execute_result"
    }
   ],
   "source": [
    "分词并标注(\"Python可以使用raise语句抛出一个指定的异常, 之后再使用except语句根据异常信息来处理.\", 调试模式 = True)"
   ]
  },
  {
   "cell_type": "markdown",
   "metadata": {},
   "source": [
    "-----\n",
    "MutBot这个项目以QQ作为主要数据来源, 不能确定消息记录里都有些什么鬼(**数据集中难免包含不和谐的敏感内容**), 所以, 整个预处理除了做自然语言语种判断、分词和词性标注之外、过滤CQ码以及多余的符号等基础操作之外, 还得做**数据清洗**(过滤掉不良信息及广告等内容)以避免不必要的麻烦以及\"模型被教坏\".  \n",
    "这里先用使用第三方库判断内容是否有害, 然后用正则表达式简单处理CQ码/URI和系统提示.  \n",
    "本项目使用的是[cherry分类器](https://github.com/Windsooon/cherry), 在此简介一下:  "
   ]
  },
  {
   "cell_type": "markdown",
   "metadata": {},
   "source": [
    "> cherry分类器使用贝叶斯模型算法做分类, 还提供了混淆矩阵和ROC曲线便于分析. 开箱即用, 定制简单.  \n",
    "> 分词函数支持自定义, 可定制分类算法, 可训练自己的模型  \n",
    "> cherry自带两个预训练模型(没有提供数据集, 不过可以用自己的数据集训练自己的模型):  \n",
    ">> * model='harmful' : 赌博 / 正常 / 政治 / 色情 (4个类别包含约 1000条 中文句子)  \n",
    ">> * model='news' : 彩票 / 科技 / 财经 / 房产 / 社会 / 体育 / 娱乐 (7个 类别包含约 45000条 中文新闻)"
   ]
  },
  {
   "cell_type": "code",
   "execution_count": 195,
   "metadata": {},
   "outputs": [],
   "source": [
    "%%time\n",
    "import re, cherry, numpy as np"
   ]
  },
  {
   "cell_type": "code",
   "execution_count": 196,
   "metadata": {},
   "outputs": [],
   "source": [
    "harmful类别 = \"赌博 / 正常 / 政治 / 色情\".split(\" / \")"
   ]
  },
  {
   "cell_type": "code",
   "execution_count": 217,
   "metadata": {},
   "outputs": [
    {
     "data": {
      "text/plain": [
       "array([[0.32062557, 0.52173518, 0.04995779, 0.10768146]])"
      ]
     },
     "execution_count": 217,
     "metadata": {},
     "output_type": "execute_result"
    }
   ],
   "source": [
    "cherry.classify(model=\"harmful\", text=[\"text须是一个list(一次多个句子效率高)\"]).probability"
   ]
  },
  {
   "cell_type": "markdown",
   "metadata": {},
   "source": [
    "但实际使用发现, cherry提供的预训练模型虽然对日常常见文本的分类正确率很高, 但是, 对于群聊这种场合尤其是一些技术领域, 错误率太高(简直就是不靠谱, 至少在电子爱好者群消息记录的表现实在是惨不忍睹), 即使是尝试人工加阈值和逻辑也不好使. 例如, 自带的`harmful`模型出现了以下误分情况:  "
   ]
  },
  {
   "cell_type": "code",
   "execution_count": 320,
   "metadata": {},
   "outputs": [],
   "source": [
    "示例文本 = [\"摩擦试的应该更难做吧\", \"摩擦生电效率和材料有关? 大部分能量都转化为内能\", \"不是只需要传送带传送电荷吗\", \"买个华业通信电源吧\", \"某位老兄的线圈就是这么死的\", \"GDT本身就是变压器\", \"最近这么多人加群\", \"虚拟机怎么让他全屏界面显示\", \"不包邮的话，白送么\", \"电源正负极串联电容，地线接中间，小功率接地都这样干\", \"服务器主板才支持热插拔\", \"电阻等于电压比电流\", \"IGBT的开关速度太低不适合上高频\", \"把充电头输入220接到输出\", \"不过说实话PD有点不敢浪,PD的CC线的耐压在之前标准上只有6V,VBUS挨着CC.\", \"这VSYS线上没太大电流\", \"开关速度不行\", \"cherry分类器的输入最好是批量的\", \"镊子插进去转两圈就好了\"]"
   ]
  },
  {
   "cell_type": "code",
   "execution_count": 321,
   "metadata": {},
   "outputs": [
    {
     "name": "stdout",
     "output_type": "stream",
     "text": [
      "句子00\u001b[0;31m`摩擦试的应该更难做吧                                                        \t`\u001b[m概率 → \u001b[m0.0381\u001b[m\t\u001b[m0.0303\u001b[m\t\u001b[m0.0359\u001b[m\t\u001b[0;33m0.8957\u001b[m\t(最大概率 → \u001b[0;31m色情\u001b[m)\n",
      "句子01\u001b[0;31m`摩擦生电效率和材料有关? 大部分能量都转化为内能                              \t`\u001b[m概率 → \u001b[m0.0001\u001b[m\t\u001b[m0.0135\u001b[m\t\u001b[0;33m0.9864\u001b[m\t\u001b[m0.0001\u001b[m\t(最大概率 → \u001b[0;31m政治\u001b[m)\n",
      "句子02\u001b[0;31m`不是只需要传送带传送电荷吗                                                  \t`\u001b[m概率 → \u001b[0;33m0.5721\u001b[m\t\u001b[m0.2136\u001b[m\t\u001b[m0.1270\u001b[m\t\u001b[m0.0873\u001b[m\t(最大概率 → \u001b[0;31m赌博\u001b[m)\n",
      "句子03\u001b[0;31m`买个华业通信电源吧                                                          \t`\u001b[m概率 → \u001b[m0.4227\u001b[m\t\u001b[m0.0453\u001b[m\t\u001b[0;33m0.4871\u001b[m\t\u001b[m0.0449\u001b[m\t(最大概率 → \u001b[0;31m政治\u001b[m)\n",
      "句子04\u001b[0;31m`某位老兄的线圈就是这么死的                                                  \t`\u001b[m概率 → \u001b[m0.1556\u001b[m\t\u001b[m0.2320\u001b[m\t\u001b[0;33m0.3219\u001b[m\t\u001b[m0.2905\u001b[m\t(最大概率 → \u001b[0;31m政治\u001b[m)\n",
      "句子05\u001b[0;31m`GDT本身就是变压器                                                           \t`\u001b[m概率 → \u001b[m0.0194\u001b[m\t\u001b[m0.0260\u001b[m\t\u001b[0;33m0.9151\u001b[m\t\u001b[m0.0396\u001b[m\t(最大概率 → \u001b[0;31m政治\u001b[m)\n",
      "句子06\u001b[0;31m`最近这么多人加群                                                            \t`\u001b[m概率 → \u001b[m0.0020\u001b[m\t\u001b[m0.1088\u001b[m\t\u001b[0;33m0.8608\u001b[m\t\u001b[m0.0284\u001b[m\t(最大概率 → \u001b[0;31m政治\u001b[m)\n",
      "句子07\u001b[0;31m`虚拟机怎么让他全屏界面显示                                                  \t`\u001b[m概率 → \u001b[m0.0075\u001b[m\t\u001b[m0.4499\u001b[m\t\u001b[m0.0086\u001b[m\t\u001b[0;33m0.5340\u001b[m\t(最大概率 → \u001b[0;31m色情\u001b[m)\n",
      "句子08\u001b[0;31m`不包邮的话，白送么                                                          \t`\u001b[m概率 → \u001b[m0.1785\u001b[m\t\u001b[m0.3106\u001b[m\t\u001b[0;33m0.4016\u001b[m\t\u001b[m0.1094\u001b[m\t(最大概率 → \u001b[0;31m政治\u001b[m)\n",
      "句子09\u001b[0;31m`电源正负极串联电容，地线接中间，小功率接地都这样干                          \t`\u001b[m概率 → \u001b[m0.0082\u001b[m\t\u001b[m0.0424\u001b[m\t\u001b[m0.0169\u001b[m\t\u001b[0;33m0.9325\u001b[m\t(最大概率 → \u001b[0;31m色情\u001b[m)\n",
      "句子10\u001b[0;31m`服务器主板才支持热插拔                                                      \t`\u001b[m概率 → \u001b[m0.0179\u001b[m\t\u001b[m0.2022\u001b[m\t\u001b[0;33m0.7795\u001b[m\t\u001b[m0.0004\u001b[m\t(最大概率 → \u001b[0;31m政治\u001b[m)\n",
      "句子11\u001b[0;31m`电阻等于电压比电流                                                          \t`\u001b[m概率 → \u001b[m0.3539\u001b[m\t\u001b[m0.2185\u001b[m\t\u001b[0;33m0.4079\u001b[m\t\u001b[m0.0197\u001b[m\t(最大概率 → \u001b[0;31m政治\u001b[m)\n",
      "句子12\u001b[0;31m`IGBT的开关速度太低不适合上高频                                              \t`\u001b[m概率 → \u001b[0;33m0.8882\u001b[m\t\u001b[m0.0685\u001b[m\t\u001b[m0.0008\u001b[m\t\u001b[m0.0425\u001b[m\t(最大概率 → \u001b[0;31m赌博\u001b[m)\n",
      "句子13\u001b[0;31m`把充电头输入220接到输出                                                     \t`\u001b[m概率 → \u001b[m0.0004\u001b[m\t\u001b[m0.1954\u001b[m\t\u001b[0;33m0.8036\u001b[m\t\u001b[m0.0006\u001b[m\t(最大概率 → \u001b[0;31m政治\u001b[m)\n",
      "句子14\u001b[0;31m`不过说实话PD有点不敢浪,PD的CC线的耐压在之前标准上只有6V,VBUS挨着CC.         \t`\u001b[m概率 → \u001b[m0.0848\u001b[m\t\u001b[m0.0542\u001b[m\t\u001b[0;33m0.8534\u001b[m\t\u001b[m0.0076\u001b[m\t(最大概率 → \u001b[0;31m政治\u001b[m)\n",
      "句子15\u001b[0;31m`这VSYS线上没太大电流                                                        \t`\u001b[m概率 → \u001b[0;33m0.6788\u001b[m\t\u001b[m0.0061\u001b[m\t\u001b[m0.0060\u001b[m\t\u001b[m0.3091\u001b[m\t(最大概率 → \u001b[0;31m赌博\u001b[m)\n",
      "句子16\u001b[0;31m`开关速度不行                                                                \t`\u001b[m概率 → \u001b[m0.0442\u001b[m\t\u001b[m0.0065\u001b[m\t\u001b[m0.0178\u001b[m\t\u001b[0;33m0.9315\u001b[m\t(最大概率 → \u001b[0;31m色情\u001b[m)\n",
      "句子17\u001b[0;31m`cherry分类器的输入最好是批量的                                              \t`\u001b[m概率 → \u001b[m0.2899\u001b[m\t\u001b[m0.1174\u001b[m\t\u001b[0;33m0.5423\u001b[m\t\u001b[m0.0503\u001b[m\t(最大概率 → \u001b[0;31m政治\u001b[m)\n",
      "句子18\u001b[0;31m`镊子插进去转两圈就好了                                                      \t`\u001b[m概率 → \u001b[m0.0032\u001b[m\t\u001b[m0.0038\u001b[m\t\u001b[m0.0037\u001b[m\t\u001b[0;33m0.9892\u001b[m\t(最大概率 → \u001b[0;31m色情\u001b[m)\n"
     ]
    }
   ],
   "source": [
    "分类概率 = cherry.classify(model=\"harmful\", text=示例文本).probability\n",
    "for row in range(len(分类概率)):\n",
    "    最大概率项 = int(np.where(分类概率[row] == 分类概率[row].max())[0]);\n",
    "    if 最大概率项 != 1:\n",
    "        颜色 = \"\\033[0;31m\"\n",
    "    else:\n",
    "        颜色 = \"\\033[0;32m\"\n",
    "    proba = \"\"\n",
    "    for column in range(len(分类概率[row])):\n",
    "        valColor = \"\\033[0;33m\" if column == 最大概率项 else \"\\033[m\"\n",
    "        proba += (f\"{valColor}{'%0.4f' % (round(分类概率[row][column], 5))}\\033[m\\t\")\n",
    "    line = 示例文本[row][:60]; 类别 = harmful类别[最大概率项]\n",
    "    print(f\"句子{row:0>2}{颜色}`{line:<{76 - len(line.encode('gbk')) + len(line)}}\\t`\\033[m概率 → {proba:<{40}}(最大概率 → {颜色}{类别}\\033[m)\")"
   ]
  },
  {
   "cell_type": "markdown",
   "metadata": {},
   "source": [
    "这些都是一些很正常的消息记录, 可是在错误的分了上却是得分最高, 所以必须得定制自己的模型以符合实际需求. 于是参考[cherry分类器的GitHub文档](https://github.com/Windsooon/cherry#documentation), 欲对`harmful`做扩充训练, 增`4 - 违和`和`5 - 广告`两项. 遂人工从群消息记录中选出了200条左右的各类内容存文档`data.txt`, 复制参考停用词, 建`harmfulA`文件夹, 训练."
   ]
  },
  {
   "cell_type": "code",
   "execution_count": 193,
   "metadata": {},
   "outputs": [],
   "source": [
    "import re\n",
    "def CQ记录转换(原CQ记录, 调试模式 = False):\n",
    "    系统提示内容 = [\"&#91;闪照&#93;请使用新版手机QQ查看闪照\", \"&#91;视频&#93;你的QQ暂不支持查看视频短片，请升级到最新版本后查看\", \"&#91;QQ红包&#93;你收到一个画图红包，请升级到新版手机QQ查看\", \"当前版本不支持该消息类型，请使用最新版本手机QQ查看\"]\n",
    "    if 调试模式 == True:\n",
    "        print(\"***debug--传入文本 \\\"%s\\\"\" % 原CQ记录)\n",
    "    消息_处理 = 原CQ记录\n",
    "    消息 = {\"CQ码\":\"\", \"内容\":\"\", \"其他数据\":[]}\n",
    "    tmpcounter = 0\n",
    "    while tmpcounter < 5:     # 先把CQ码全都单独收起来, 然后再把URL之类的附加数据收起来, 剩下的就是内容了\n",
    "        tmp = re.search('(?P<CQ码>\\[CQ:\\w{1,8},\\w{1,10}=([\\u0020-\\uffff 0-9_！…]+?)(\\]|\\}\\]))', 消息_处理) # CQ码是表情/艾特/分享之类的\n",
    "        if tmp == None : break # None说明没有数据或者处理完了\n",
    "        消息[\"CQ码\"] += tmp.group(1) + \", \"\n",
    "        消息_处理 = 消息_处理.replace(tmp.group(1), \"\")\n",
    "        tmpcounter += 1\n",
    "    tmpcounter = 0\n",
    "    while tmpcounter < 5: \n",
    "        # 考虑到实际中会有这样的消息记录: \"推荐看看这篇文章: http://xxx.xxx.xxx\". 其中的链接也是重要的, 但不是语素.\n",
    "        tmp = re.search(r'(?P<URI>([a-z]+://)?(((([-0-9a-z一-龥\\:@]+\\.){1,4}(com|cn|org|tw|top|hk|info|vip|club|net|cc|me|gov|shop|wiki|([一-龥]{2,3})))|(\\d+\\.\\d+\\.\\d+\\.\\d+))(:\\d{1,5})?(\\/[\\u0023-\\u002b\\u002d-\\u005a\\u005f-\\u9fa5=]+(\\.(php|html|jpg|png|pdf|mp4|mp3|zip|rar|txt))?)?)|([a-z]+://[a-z0-9-_\\=]+\\/[\\x21-\\x7e]+))', 消息_处理)  # URI的常见形式为`[协议://][用户名[:密码]@][子域名.]顶级域名[:端口号]/资源路径[附加Querry]`, 其中方括号的内容不一定有\n",
    "        # TODO: 待优化\n",
    "        if tmp == None or tmp.group(1) == \"\" : break \n",
    "        消息[\"其他数据\"].append(tmp)\n",
    "        消息_处理 = 消息_处理.replace(tmp.group(1), \"E链接转义E\")\n",
    "        tmpcounter += 1\n",
    "    # 还有一些用不上的系统提示也需要剔除\n",
    "    for element in 系统提示内容:\n",
    "        消息_处理 = 消息_处理.replace(element, \"\")\n",
    "    消息_处理 = 消息_处理.upper()  # 为了减少词复杂度和减轻计算压力, 所有字母统一大写\n",
    "    # 这些步骤之后剩下的就是内容了, 考虑到内容有可能是长文本或者文段, 应该对内容分句.\n",
    "    消息[\"内容\"] = 文段分句(消息_处理)\n",
    "    if 调试模式 == True:\n",
    "        \n",
    "    return 消息"
   ]
  },
  {
   "cell_type": "code",
   "execution_count": 194,
   "metadata": {},
   "outputs": [
    {
     "name": "stdout",
     "output_type": "stream",
     "text": [
      "***debug--传入文本 \"[CQ:at,id=qq/user/15*****] 推荐看看这篇文章:http://yhhtech.cn/read12.html 以及 bilibili.com/video/av7078149\"\n",
      "{'CQ码': '[CQ:at,id=qq/user/15*****], ', '内容': [' ', '推荐看看这篇文章:E链接转义E ', '以及 ', 'E链接转义E'], '其他数据': [<re.Match object; span=(10, 39), match='http://yhhtech.cn/read12.html'>, <re.Match object; span=(20, 48), match='bilibili.com/video/av7078149'>]}\n"
     ]
    }
   ],
   "source": [
    "CQ记录转换(\n",
    "    \"\"\"[CQ:at,id=qq/user/15*****] 推荐看看这篇文章:《某只狗狗春节假期不停写代码竟是因为脑疾难医》, 很有意思啊~\n",
    "    还有https://h.bilibili.com/54730711 这个故事告诉了我们数据清洗的重要性.\n",
    "    小女觉得吧，这几句话应当分句才是……\n",
    "    某只狗狗患有脑疾, 近来愈发严重. 她每天不是对着电脑不停敲代码就是妩媚地蹲在床上娇嗲地学猫叫。所以说嘛... 不能讳疾忌医呀!\n",
    "    \"\"\", 调试模式 = True)"
   ]
  },
  {
   "cell_type": "markdown",
   "metadata": {},
   "source": [
    "----  \n",
    "\n",
    "以上内容基本就能实现简单的文本预处理了, 预处理数据作为后级的输入  \n",
    "**目前主要的目标还是从QQ群聊天记录里提取语料和数据集**  \n",
    "\n",
    "----"
   ]
  },
  {
   "cell_type": "markdown",
   "metadata": {},
   "source": [
    "目前(05 Jan. 2020)的想法: 维护一个数据库用以处理和记录对话上下文关系以及前级(文本预处理等)的结果和处理情况"
   ]
  },
  {
   "cell_type": "code",
   "execution_count": 9,
   "metadata": {},
   "outputs": [],
   "source": [
    "import sqlite3 as sqlite"
   ]
  },
  {
   "cell_type": "code",
   "execution_count": 10,
   "metadata": {},
   "outputs": [],
   "source": [
    "import numpy as np, pandas as pd # 主要是为了简化原始数据的读取和预处理\n",
    "pd.set_option('max_colwidth',100); pd.set_option('display.max_rows', 20); pd.set_option('display.max_columns', 8) # 为了方便查看内容"
   ]
  },
  {
   "cell_type": "markdown",
   "metadata": {},
   "source": [
    ">  pandas是一款数据处理工具，集成了numpy以及matplotlib，拥有便捷的数据处理以及文件读取能力  \n",
    "\n",
    "pandas主要有几大功能:  \n",
    "1. Object Creation: pandas有三种对象, series、df和Panel Object. Series, 通过传入list对象来新建, 可以指定索引; DataFrame, 通过传入numpy数组/dictionary对象来创建.\n",
    "2. Viewing Data: 查看头部/查看索引和列名/查看统计结果什么的, 还可以转换成numpy格式/做矩阵转置以及排序.\n",
    "3. Selection: 类似于sql的select, 可以指定列/行/标签/值/位置/条件来筛选\n",
    "4. Missing Data: 默认的空值是np.nan, 可通过reindex函数来增删改查某坐标轴(行或列)的索引，并返回一个数据的拷贝, 还可以判断是否为空值(返回False或True)\n",
    "5. Operations: 一些常用计算, 包括平均值/ 数值移动等. (通过应用还可以做累计求和和其他自定义的方法)\n",
    "6. Merge: pandas提供了多个方法来合并不同的对象. 其中Merge方法类似SQL的合并方式.\n",
    "7. Grouping: 分组主要是为了对某些数据的计算, 例如df.groupby('A').sum()\n",
    "8. Reshaping\n",
    "9. Time Series: pandas很适合用来处理时序, 可以调整时间间隔/时区转换/时间格式转换\n",
    "10. [Categoricals](http://pandas.pydata.org/pandas-docs/stable/user_guide/categorical.html#categorical)\n",
    "11. Plotting: 用于数据绘图, 和Matplotlib基本一样\n",
    "12. Getting Data In/Out : 可以方便地在不同类型的文件(csv/text/json/html/excel/sql等)中导入或导出数据\n",
    "\n",
    "完整的[user guide](https://pandas.pydata.org/pandas-docs/stable/user_guide/)可以在pydata上看到  \n",
    "*这里主要是要用pandas的DataFrame简化sql操作*  \n",
    "用 pandas DataFrame 读取数据结果的好处主要是不需要每次都调用 fetchall之类的函数, 还能能方便地通过表头的名字来阅读整个表"
   ]
  },
  {
   "cell_type": "code",
   "execution_count": 11,
   "metadata": {},
   "outputs": [],
   "source": [
    "DB_CQ = sqlite.connect(\"eventv2.db\")\n",
    "DB_APP = sqlite.connect(\"app.db\")\n",
    "# 出于尊重隐私考虑, 不提供这两个数据库, 并且这两个数据库相关的部分内容打了码"
   ]
  },
  {
   "cell_type": "code",
   "execution_count": 12,
   "metadata": {},
   "outputs": [
    {
     "name": "stdout",
     "output_type": "stream",
     "text": [
      "debug --- 处理本单元格耗时 237.310 毫秒\n",
      "debug --- 对象`DF_CQdata`占用内存 → 28692.089KB\n"
     ]
    }
   ],
   "source": [
    "计时_单元格开始 = time.time()\n",
    "query_selectLog = \"SELECT `id`, `tag`, `GROUP`, `account`, `operator`, `content`, `TIME` FROM `event` ORDER by `id` DESC;\"\n",
    "DF_CQdata = pd.read_sql_query(query_selectLog, DB_CQ)\n",
    "处理耗时 = (time.time() - 计时_单元格开始) * 1000\n",
    "print(\"debug --- 处理本单元格耗时 %0.3f 毫秒\" % 处理耗时 )\n",
    "print(\"debug --- 对象`DF_CQdata`占用内存 → %0.3fKB\" % (sys.getsizeof(DF_CQdata) / 1000)  )"
   ]
  },
  {
   "cell_type": "code",
   "execution_count": 13,
   "metadata": {},
   "outputs": [
    {
     "data": {
      "text/html": [
       "<div>\n",
       "<style scoped>\n",
       "    .dataframe tbody tr th:only-of-type {\n",
       "        vertical-align: middle;\n",
       "    }\n",
       "\n",
       "    .dataframe tbody tr th {\n",
       "        vertical-align: top;\n",
       "    }\n",
       "\n",
       "    .dataframe thead th {\n",
       "        text-align: right;\n",
       "    }\n",
       "</style>\n",
       "<table border=\"1\" class=\"dataframe\">\n",
       "  <thead>\n",
       "    <tr style=\"text-align: right;\">\n",
       "      <th></th>\n",
       "      <th>id</th>\n",
       "      <th>tag</th>\n",
       "      <th>group</th>\n",
       "      <th>account</th>\n",
       "      <th>operator</th>\n",
       "      <th>content</th>\n",
       "      <th>time</th>\n",
       "    </tr>\n",
       "  </thead>\n",
       "  <tbody>\n",
       "    <tr>\n",
       "      <th>0</th>\n",
       "      <td>71661</td>\n",
       "      <td>contact</td>\n",
       "      <td>qq/group/569611113</td>\n",
       "      <td>qq/user/2467551879</td>\n",
       "      <td></td>\n",
       "      <td>有人吗</td>\n",
       "      <td>1580614764</td>\n",
       "    </tr>\n",
       "    <tr>\n",
       "      <th>1</th>\n",
       "      <td>71660</td>\n",
       "      <td>contact</td>\n",
       "      <td>qq/group/569611113</td>\n",
       "      <td>qq/user/1252487847</td>\n",
       "      <td></td>\n",
       "      <td>[CQ:face,id=178][CQ:face,id=178]</td>\n",
       "      <td>1580614648</td>\n",
       "    </tr>\n",
       "    <tr>\n",
       "      <th>2</th>\n",
       "      <td>71659</td>\n",
       "      <td>contact</td>\n",
       "      <td>qq/group/569611113</td>\n",
       "      <td>qq/user/3354453079</td>\n",
       "      <td></td>\n",
       "      <td>[CQ:face,id=178]</td>\n",
       "      <td>1580614580</td>\n",
       "    </tr>\n",
       "    <tr>\n",
       "      <th>3</th>\n",
       "      <td>71658</td>\n",
       "      <td>contact</td>\n",
       "      <td>qq/group/569611113</td>\n",
       "      <td>qq/user/3354453079</td>\n",
       "      <td></td>\n",
       "      <td>66</td>\n",
       "      <td>1580614576</td>\n",
       "    </tr>\n",
       "    <tr>\n",
       "      <th>4</th>\n",
       "      <td>71657</td>\n",
       "      <td>contact</td>\n",
       "      <td>qq/group/569611113</td>\n",
       "      <td>qq/user/3514532587</td>\n",
       "      <td></td>\n",
       "      <td>[CQ:at,id=qq/user/3354453079] [CQ:at,id=qq/user/3354453079] 没</td>\n",
       "      <td>1580614567</td>\n",
       "    </tr>\n",
       "    <tr>\n",
       "      <th>...</th>\n",
       "      <td>...</td>\n",
       "      <td>...</td>\n",
       "      <td>...</td>\n",
       "      <td>...</td>\n",
       "      <td>...</td>\n",
       "      <td>...</td>\n",
       "      <td>...</td>\n",
       "    </tr>\n",
       "    <tr>\n",
       "      <th>71504</th>\n",
       "      <td>5</td>\n",
       "      <td></td>\n",
       "      <td></td>\n",
       "      <td>qq/user/2139223150</td>\n",
       "      <td></td>\n",
       "      <td>来自616471607的私聊消息(4):</td>\n",
       "      <td>1577880261</td>\n",
       "    </tr>\n",
       "    <tr>\n",
       "      <th>71505</th>\n",
       "      <td>4</td>\n",
       "      <td>contact</td>\n",
       "      <td></td>\n",
       "      <td>qq/user/616471607</td>\n",
       "      <td></td>\n",
       "      <td>29</td>\n",
       "      <td>1577880261</td>\n",
       "    </tr>\n",
       "    <tr>\n",
       "      <th>71506</th>\n",
       "      <td>3</td>\n",
       "      <td>contact</td>\n",
       "      <td>qq/group/569611113</td>\n",
       "      <td>qq/user/1528442205</td>\n",
       "      <td></td>\n",
       "      <td>像我这种小功率都内部接地</td>\n",
       "      <td>1577880243</td>\n",
       "    </tr>\n",
       "    <tr>\n",
       "      <th>71507</th>\n",
       "      <td>2</td>\n",
       "      <td>contact</td>\n",
       "      <td>qq/group/569611113</td>\n",
       "      <td>qq/user/513877092</td>\n",
       "      <td></td>\n",
       "      <td>[CQ:at,id=qq/user/1426259809] [CQ:at,id=qq/user/1426259809] 我就谁便用了啵</td>\n",
       "      <td>1577880188</td>\n",
       "    </tr>\n",
       "    <tr>\n",
       "      <th>71508</th>\n",
       "      <td>1</td>\n",
       "      <td>contact</td>\n",
       "      <td>qq/group/569611113</td>\n",
       "      <td>qq/user/2215801140</td>\n",
       "      <td></td>\n",
       "      <td>[CQ:at,id=qq/user/1528442205] [CQ:at,id=qq/user/1528442205] 氖泡接在驱动电源负和地线之间</td>\n",
       "      <td>1577880169</td>\n",
       "    </tr>\n",
       "  </tbody>\n",
       "</table>\n",
       "<p>71509 rows × 7 columns</p>\n",
       "</div>"
      ],
      "text/plain": [
       "          id      tag               group             account operator  \\\n",
       "0      71661  contact  qq/group/569611113  qq/user/2467551879            \n",
       "1      71660  contact  qq/group/569611113  qq/user/1252487847            \n",
       "2      71659  contact  qq/group/569611113  qq/user/3354453079            \n",
       "3      71658  contact  qq/group/569611113  qq/user/3354453079            \n",
       "4      71657  contact  qq/group/569611113  qq/user/3514532587            \n",
       "...      ...      ...                 ...                 ...      ...   \n",
       "71504      5                               qq/user/2139223150            \n",
       "71505      4  contact                       qq/user/616471607            \n",
       "71506      3  contact  qq/group/569611113  qq/user/1528442205            \n",
       "71507      2  contact  qq/group/569611113   qq/user/513877092            \n",
       "71508      1  contact  qq/group/569611113  qq/user/2215801140            \n",
       "\n",
       "                                                                          content  \\\n",
       "0                                                                             有人吗   \n",
       "1                                                [CQ:face,id=178][CQ:face,id=178]   \n",
       "2                                                                [CQ:face,id=178]   \n",
       "3                                                                              66   \n",
       "4                   [CQ:at,id=qq/user/3354453079] [CQ:at,id=qq/user/3354453079] 没   \n",
       "...                                                                           ...   \n",
       "71504                                                        来自616471607的私聊消息(4):   \n",
       "71505                                                                          29   \n",
       "71506                                                                像我这种小功率都内部接地   \n",
       "71507         [CQ:at,id=qq/user/1426259809] [CQ:at,id=qq/user/1426259809] 我就谁便用了啵   \n",
       "71508  [CQ:at,id=qq/user/1528442205] [CQ:at,id=qq/user/1528442205] 氖泡接在驱动电源负和地线之间   \n",
       "\n",
       "             time  \n",
       "0      1580614764  \n",
       "1      1580614648  \n",
       "2      1580614580  \n",
       "3      1580614576  \n",
       "4      1580614567  \n",
       "...           ...  \n",
       "71504  1577880261  \n",
       "71505  1577880261  \n",
       "71506  1577880243  \n",
       "71507  1577880188  \n",
       "71508  1577880169  \n",
       "\n",
       "[71509 rows x 7 columns]"
      ]
     },
     "execution_count": 13,
     "metadata": {},
     "output_type": "execute_result"
    }
   ],
   "source": [
    "DF_CQdata"
   ]
  },
  {
   "cell_type": "code",
   "execution_count": 14,
   "metadata": {},
   "outputs": [
    {
     "name": "stdout",
     "output_type": "stream",
     "text": [
      "文本预处理了 71509 条记录. 耗时→253.739秒\n",
      "debug --- 变量`tmp_对照变量`占用内存 → 0.059KB\n",
      "debug --- 变量`经过预处理的消息`占用内存 → 2621.552KB\n",
      "71661: CQ码→无 | 分词标注→[['有人'], ['r']]\n",
      "71660: CQ码→[CQ:face,id=178],  | 分词标注→无\n",
      "71659: CQ码→[CQ:face,id=178],  | 分词标注→无\n",
      "71658: CQ码→无 | 分词标注→['[⌳#][*unclearContent*] 66', []]\n",
      "71657: CQ码→[CQ:at,id=qq/user/3354453079],  | 分词标注→['[⌳#][*unclearContent*]   没', []]\n",
      "71656: CQ码→[CQ:rich,title=&#91;QQ小程序&#93;哔哩哔哩,content={\"detail_1\":{\"appid\":\"1109937557\"&#44;\"desc\":\"特斯拉线圈入门教程-电路部分讲解\"&#44;\"host\":{\"nick\":\"晨夕\"&#44;\"uin\":1143297121}&#44;\"icon\":\"miniapp.gtimg.cn/public/appicon/432b76be3a548fc128acaa6c1ec90131_200.jpg\"&#44;\"preview\":\"pubminishare-30161.picsz.qpic.cn/9fb1c137-bffd-44ac-bae2-eedd2a7248a5\"&#44;\"scene\":1036&#44;\"shareTemplateData\":{}&#44;\"shareTemplateId\":\"8C8E89B49BE609866298ADDFF2DBABA4\"&#44;\"title\":\"哔哩哔哩\"&#44;\"url\":\"m.q.qq.com/a/s/317427058ccfe57478b11c4be7c65ebb\"}}],  | 分词标注→无\n",
      "71655: CQ码→[CQ:rich,title=&#91;QQ小程序&#93;哔哩哔哩,content={\"detail_1\":{\"appid\":\"1109937557\"&#44;\"desc\":\"特斯拉线圈入门教程-电路部分讲解\"&#44;\"host\":{\"nick\":\"晨夕\"&#44;\"uin\":1143297121}&#44;\"icon\":\"miniapp.gtimg.cn/public/appicon/432b76be3a548fc128acaa6c1ec90131_200.jpg\"&#44;\"preview\":\"pubminishare-30161.picsz.qpic.cn/9fb1c137-bffd-44ac-bae2-eedd2a7248a5\"&#44;\"scene\":1036&#44;\"shareTemplateData\":{}&#44;\"shareTemplateId\":\"8C8E89B49BE609866298ADDFF2DBABA4\"&#44;\"title\":\"哔哩哔哩\"&#44;\"url\":\"m.q.qq.com/a/s/317427058ccfe57478b11c4be7c65ebb\"}}],  | 分词标注→无\n",
      "71654: CQ码→无 | 分词标注→[['还', '不如', '直接', '上', '加热', '丝'], ['d', 'c', 'ad', 'f', 'v', 'm']]\n",
      "71653: CQ码→[CQ:image,file=0E3524FBF87CE857CED563DA73782AF6.gif],  | 分词标注→无\n",
      "71652: CQ码→[CQ:face,id=22],  | 分词标注→无\n",
      "71651: CQ码→[CQ:face,id=25],  | 分词标注→[['做', '蚊香', '难', '清洗'], ['v', 'n', 'a', 'v']]\n",
      "71650: CQ码→[CQ:face,id=182],  | 分词标注→无\n",
      "71649: CQ码→无 | 分词标注→[['我', '是', '天一', '冷', '皮肤', '就', '跟', '蚊子', '咬', '了', '似的'], ['r', 'v', 'b', 'a', 'n', 'd', 'p', 'n', 'v', 'ul', 'u']]\n",
      "71648: CQ码→无 | 分词标注→无\n",
      "71647: CQ码→[CQ:at,id=qq/user/3571732520],  | 分词标注→[['你', '还好'], ['r', 'v']]\n",
      "71646: CQ码→无 | 分词标注→['[⌳#][*unclearContent*] 老1156平台', []]\n",
      "71645: CQ码→无 | 分词标注→[['我', '一个', '就', '插', '了', '一个', '显卡'], ['r', 'm', 'd', 'v', 'ul', 'm', 'v']]\n",
      "71644: CQ码→[CQ:at,id=qq/user/3514532587],  | 分词标注→[['没睡'], ['v']]\n",
      "71643: CQ码→无 | 分词标注→[['两个', 'M2', '先', '插满'], ['m', 'eng', 'd', 'v']]\n",
      "71642: CQ码→[CQ:record,file=94ACD39BDAC86C1F3F2FCA66C2A3BDA4.silk],  | 分词标注→无\n",
      "71641: CQ码→[CQ:record,file=6E94872C98C9AE4C476FF59A7D4A9040.silk],  | 分词标注→无\n",
      "71640: CQ码→[CQ:record,file=3AF98434EBBA6090BC76279E710D1AD0.silk],  | 分词标注→无\n",
      "71639: CQ码→无 | 分词标注→[['现在', '一个', '蓝宝石', '588', '一个', '讯', '景', '584'], ['t', 'm', 'nr', 'm', 'm', 'ng', 'ng', 'm']]\n",
      "71638: CQ码→[CQ:face,id=178],  | 分词标注→[['等换', '个大', '电源', '搞', '俩', '580', '交火'], ['v', 'a', 'n', 'v', 'm', 'm', 'n']]\n",
      "71637: CQ码→[CQ:face,id=178],  | 分词标注→[['插', '两个', '显卡'], ['v', 'm', 'v']]\n",
      "71636: CQ码→无 | 分词标注→[['两个', 'PCIE', '我', '只', '插', '了', '个', '显卡'], ['m', 'eng', 'r', 'd', 'v', 'ul', 'q', 'v']]\n",
      "71635: CQ码→无 | 分词标注→['[⌳#][*unkownLanguage*] 、', []]\n",
      "71634: CQ码→无 | 分词标注→[['用', '延长线', '除外'], ['p', 'nr', 'c']]\n",
      "71633: CQ码→[CQ:record,file=537B94A3BFF853CB3C0FADFE25E51964.amr],  | 分词标注→无\n",
      "71632: CQ码→无 | 分词标注→['[⌳#][*unclearContent*] 挤不下', []]\n",
      "71631: CQ码→[CQ:face,id=182],  | 分词标注→无\n",
      "71630: CQ码→无 | 分词标注→[['一个', '声卡'], ['m', 'n']]\n",
      "71629: CQ码→无 | 分词标注→[['然后', '一个', '网卡'], ['c', 'm', 'n']]\n",
      "71628: CQ码→无 | 分词标注→[['一个', '显卡'], ['m', 'v']]\n",
      "71627: CQ码→无 | 分词标注→[['不仅', '没', '压岁钱', '下个月', '还', '得', '还', '花'], ['c', 'v', 'n', 't', 'd', 'ud', 'd', 'v']]\n",
      "71626: CQ码→[CQ:face,id=108],  | 分词标注→[['对', '市面上', '都', '有', '成品', '机', '的'], ['p', 'n', 'd', 'v', 'n', 'ng', 'uj']]\n",
      "debug --- 处理本单元格耗时 253751.563 毫秒\n"
     ]
    }
   ],
   "source": [
    "计时_单元格开始 = time.time()\n",
    "经过预处理的消息 = {} \n",
    "tmp_CQ转换 = \"\"\n",
    "tmp_分词标注 = \"\"\n",
    "time_start = time.time()\n",
    "for row in DF_CQdata.itertuples(): \n",
    "# 用.iterrows()虽然可读性更好, 但是它是真的慢...用.iterrows()的话在小米9上耗时差不多都是600秒以上...所以还是改用.itertuples()\n",
    "    tmp_CQ转换 = CQ记录转换(row[6])\n",
    "    if len(tmp_CQ转换[\"内容\"]) > 0:\n",
    "        try:\n",
    "            tmp_分词标注 = 分词并标注(tmp_CQ转换[\"内容\"]) \n",
    "        except UserWarning:\n",
    "            tmp_分词标注 = [\"[\\u2333#][*unkownLanguage*] \" + tmp_CQ转换[\"内容\"], []]\n",
    "        except SyntaxWarning:\n",
    "            tmp_分词标注 = [\"[\\u2333#][*unclearContent*] \" + tmp_CQ转换[\"内容\"], []]\n",
    "    else:\n",
    "        tmp_分词标注= [[],[]]\n",
    "    经过预处理的消息[row[1]] = {'CQ码':tmp_CQ转换['CQ码'] if len(tmp_CQ转换['CQ码']) > 0 else \"\", '分词标注':[tmp_分词标注[0], tmp_分词标注[1]] if len(tmp_分词标注[0]) > 0 else [[], []]}\n",
    "    \n",
    "print(\"文本预处理了 %d 条记录. 耗时→%.3f秒\" % (len(经过预处理的消息), time.time() - time_start) )\n",
    "tmp_对照变量 = \"abcde12345\"\n",
    "print(\"debug --- 变量`tmp_对照变量`占用内存 → %0.3fKB\" % (sys.getsizeof(tmp_对照变量) / 1000) )\n",
    "print(\"debug --- 变量`经过预处理的消息`占用内存 → %0.3fKB\" % (sys.getsizeof(经过预处理的消息) / 1000) )\n",
    "\n",
    "tmp_循环限制计次 = 0\n",
    "for 消息ID, 预处理结果 in 经过预处理的消息.items():\n",
    "    tmp_循环限制计次 += 1\n",
    "    print(\"%d: CQ码→%s | 分词标注→%s\" %(消息ID, 预处理结果['CQ码'] if len(预处理结果['CQ码']) > 0 else \"无\", 预处理结果['分词标注'] if len(预处理结果['分词标注'][0]) > 0 else \"无\" ) )\n",
    "    if tmp_循环限制计次 > 35: break\n",
    "处理耗时 = (time.time() - 计时_单元格开始) * 1000\n",
    "print(\"debug --- 处理本单元格耗时 %0.3f 毫秒\" % 处理耗时 )"
   ]
  },
  {
   "cell_type": "code",
   "execution_count": 15,
   "metadata": {},
   "outputs": [],
   "source": [
    "# 再维护一个数据库用以记录预处理过的内容以及上下文关系\n",
    "DB_ppced = r\"CQevePPC.db\"\n",
    "Conn_ppced = sqlite.connect(DB_ppced)"
   ]
  },
  {
   "cell_type": "markdown",
   "metadata": {},
   "source": [
    "目前(10 Jan. 2020)的想法是使用两个表: `ppcLog` 和 `contextIndex`, 分别用于记录预处理后的数据和上下文的关系(按群和时间分组, 以便后续提取对话)"
   ]
  },
  {
   "cell_type": "code",
   "execution_count": 16,
   "metadata": {},
   "outputs": [],
   "source": [
    "# 数据库设计\n",
    "query_createTable_ppcLog = '''\n",
    "CREATE TABLE \"ppcLog\" (\n",
    "\"lid\"       INTEGER NOT NULL PRIMARY KEY AUTOINCREMENT,\n",
    "\"Link\"      INTEGER,\n",
    "\"cqCode\"    TEXT,\n",
    "\"jiebaCUT\"  TEXT,\n",
    "\"jiebaPSEG\" TEXT,\n",
    "\"lastModif\" NUMERIC NOT NULL DEFAULT CURRENT_TIMESTAMP,\n",
    "\"note\"      TEXT,\n",
    "\"extraData\" BLOB\n",
    ");'''\n",
    "query_createTable_contextIndex = '''\n",
    "CREATE TABLE \"contextIndex\" (\n",
    "\"id_conversation\"   INTEGER NOT NULL PRIMARY KEY AUTOINCREMENT,\n",
    "\"GroupFrom\"         INTEGER,\n",
    "\"UserFrom\"          INTEGER,\n",
    "\"dialogsContent\"    TEXT,\n",
    "\"DialogsLink\"       INTEGER\n",
    "\"time_sort\"         NUMERIC NOT NULL DEFAULT CURRENT_TIMESTAMP,\n",
    "\"note\"              TEXT\n",
    ");'''"
   ]
  },
  {
   "cell_type": "code",
   "execution_count": 17,
   "metadata": {},
   "outputs": [],
   "source": [
    "# 先检查数据库状态, 如果没有预设的表那就初始化\n",
    "def DBtest(dbConnHandle, tableNames, checkQuery = []):\n",
    "    querys_tableCheck = []\n",
    "    for i in range( len(tableNames) ):\n",
    "        querys_tableCheck.append(\"SELECT * FROM `sqlite_master` where type = 'table' and name = '%s';\" % tableNames[i])\n",
    "    DBisOK = False\n",
    "    OrigSct = \"\"\n",
    "    tmp_cont = 0\n",
    "    cont_table = 0\n",
    "    cont_unexc = 0\n",
    "    for query in querys_tableCheck:\n",
    "        curs = dbConnHandle.execute(query)\n",
    "        gets = curs.fetchall()\n",
    "        if len(gets) > 0:\n",
    "            OrigSct = gets[-1][-1]\n",
    "            print(\"数据表`%s`存在. ~ 读到记录:  \\n%s \" % (tableNames[tmp_cont], OrigSct) )\n",
    "            cont_table += 1\n",
    "            if len(checkQuery) == len(tableNames):\n",
    "                if OrigSct.replace(\"\\n\", \"\").replace(\" \",\"\").replace(\";\", \"\").replace(\"\\t\", \"\") != checkQuery[tmp_cont].replace(\"\\n\", \"\").replace(\" \",\"\").replace(\";\", \"\").replace(\"\\t\", \"\"):\n",
    "                    cont_unexc -= 4\n",
    "                else:\n",
    "                    DBisOK += 1\n",
    "        tmp_cont += 1\n",
    "\n",
    "    if checkQuery != []:\n",
    "        if cont_table < 1 :\n",
    "            print(\"指定的表不存在\")\n",
    "            DBisOK = False\n",
    "        if cont_unexc < 0: \n",
    "            if cont_table > 0:\n",
    "                raise SyntaxWarning(\"数据库检查未通过: 已经存在不同结构的同名表. (有 %d 个表记录与提供的记录不一致)\" % (-cont_unexc / 4))\n",
    "                return cont_unexc\n",
    "        else:\n",
    "            if DBisOK == len(tableNames) :\n",
    "                print(\"数据库检查通过. %d 个表(共%d个表)校验一致\" % (DBisOK, len(tableNames)) )\n",
    "                DBisOK = True    \n",
    "    else:\n",
    "        if DBisOK == len(tableNames) :\n",
    "            print(\"指定表存在\")\n",
    "            DBisOK = True\n",
    "        else:\n",
    "            print(\"指定表不存在\")\n",
    "            DBisOK = False\n",
    "    return DBisOK        "
   ]
  },
  {
   "cell_type": "code",
   "execution_count": 18,
   "metadata": {},
   "outputs": [],
   "source": [
    "def DB_init(dbConnHandle, tableNames = [], checkQuery = []):\n",
    "    realyNeedInit = False\n",
    "    try:\n",
    "        dbStatus = DBtest(dbConnHandle, tableNames, checkQuery)\n",
    "    except SyntaxWarning as info:\n",
    "        print(\"初始化失败, 建议检查运行环境(文件冲突). 错误信息:  \\n    \", info)\n",
    "        return -233\n",
    "    if dbStatus == False:\n",
    "        realyNeedInit = True\n",
    "    elif dbStatus < 0:\n",
    "        r\n",
    "    if realyNeedInit == True:\n",
    "        print(\"准备开始初始化...\")\n",
    "        try:\n",
    "            for query in checkQuery:\n",
    "                dbConnHandle.execute(query)\n",
    "            print(\"提交变动...\")\n",
    "            dbConnHandle.commit()\n",
    "            print(\"数据表初始化完成\")\n",
    "        except Exception as errinfo: \n",
    "            print(\"---SQL执行失败---: \", errinfo)\n",
    "    else:\n",
    "        print(\"已存在同名表, 跳过初始化\")"
   ]
  },
  {
   "cell_type": "code",
   "execution_count": 19,
   "metadata": {},
   "outputs": [
    {
     "name": "stdout",
     "output_type": "stream",
     "text": [
      "指定的表不存在\n",
      "准备开始初始化...\n",
      "提交变动...\n",
      "数据表初始化完成\n"
     ]
    }
   ],
   "source": [
    "DB_init(Conn_ppced, [\"ppcLog\", \"contextIndex\"], [query_createTable_ppcLog, query_createTable_contextIndex])"
   ]
  },
  {
   "cell_type": "code",
   "execution_count": 20,
   "metadata": {},
   "outputs": [
    {
     "name": "stdout",
     "output_type": "stream",
     "text": [
      "数据表`ppcLog`存在. ~ 读到记录:  \n",
      "CREATE TABLE \"ppcLog\" (\n",
      "\"lid\"       INTEGER NOT NULL PRIMARY KEY AUTOINCREMENT,\n",
      "\"Link\"      INTEGER,\n",
      "\"cqCode\"    TEXT,\n",
      "\"jiebaCUT\"  TEXT,\n",
      "\"jiebaPSEG\" TEXT,\n",
      "\"lastModif\" NUMERIC NOT NULL DEFAULT CURRENT_TIMESTAMP,\n",
      "\"note\"      TEXT,\n",
      "\"extraData\" BLOB\n",
      ") \n",
      "数据表`contextIndex`存在. ~ 读到记录:  \n",
      "CREATE TABLE \"contextIndex\" (\n",
      "\"id_conversation\"   INTEGER NOT NULL PRIMARY KEY AUTOINCREMENT,\n",
      "\"GroupFrom\"         INTEGER,\n",
      "\"UserFrom\"          INTEGER,\n",
      "\"dialogsContent\"    TEXT,\n",
      "\"DialogsLink\"       INTEGER\n",
      "\"time_sort\"         NUMERIC NOT NULL DEFAULT CURRENT_TIMESTAMP,\n",
      "\"note\"              TEXT\n",
      ") \n",
      "数据库检查通过. 2 个表(共2个表)校验一致\n"
     ]
    },
    {
     "data": {
      "text/plain": [
       "True"
      ]
     },
     "execution_count": 20,
     "metadata": {},
     "output_type": "execute_result"
    }
   ],
   "source": [
    "DBtest(Conn_ppced, [\"ppcLog\", \"contextIndex\"], [query_createTable_ppcLog, query_createTable_contextIndex])"
   ]
  },
  {
   "cell_type": "code",
   "execution_count": 21,
   "metadata": {},
   "outputs": [],
   "source": [
    "# 接下来是把预处理好的内容存入数据库, 并标注哪些内容已经处理以及修改时间\n",
    "\n",
    "# 为了提高插入数据的效率, 使用\"executemany\". 当然, 还可以用pandas.DataFrame.to_sql, 不过这里就怎么省事怎么来了.  \n",
    "# 需要注意的是, 如果想要用sqlite3的python接口\"executemany\", 传入数据需要是`[(xxx,xx,...,x),...(x,xxx,...,xx)]`的结构, 其中每个元组的元素数要对应占位符. 另外, 一次处理的量不能太大.\n",
    "  \n",
    "Conn_ppced.executemany(\n",
    "    \"insert into ppcLog (`Link`, `cqCode`, `jiebaCUT`, `jiebaPSEG`, `note`) values (?, ?, ?, ?, 'initialize')\",\n",
    "    [ ( link, res['CQ码'], str(res[\"分词标注\"][0]), str(res[\"分词标注\"][1]) )  for link, res in 经过预处理的消息.items() ]\n",
    ")\n",
    "Conn_ppced.commit() # 操作后应该尽快提交, 以免数据库锁带来的麻烦(尤其是多线程)"
   ]
  },
  {
   "cell_type": "code",
   "execution_count": 22,
   "metadata": {},
   "outputs": [],
   "source": [
    "# 提交完了, 瞅瞅情况\n",
    "query_selectLog = \"SELECT * FROM `ppcLog`;\"\n",
    "数据库中的预处理结果 = pd.read_sql_query(query_selectLog, Conn_ppced)"
   ]
  },
  {
   "cell_type": "code",
   "execution_count": 23,
   "metadata": {},
   "outputs": [
    {
     "data": {
      "text/html": [
       "<div>\n",
       "<style scoped>\n",
       "    .dataframe tbody tr th:only-of-type {\n",
       "        vertical-align: middle;\n",
       "    }\n",
       "\n",
       "    .dataframe tbody tr th {\n",
       "        vertical-align: top;\n",
       "    }\n",
       "\n",
       "    .dataframe thead th {\n",
       "        text-align: right;\n",
       "    }\n",
       "</style>\n",
       "<table border=\"1\" class=\"dataframe\">\n",
       "  <thead>\n",
       "    <tr style=\"text-align: right;\">\n",
       "      <th></th>\n",
       "      <th>lid</th>\n",
       "      <th>Link</th>\n",
       "      <th>cqCode</th>\n",
       "      <th>jiebaCUT</th>\n",
       "      <th>jiebaPSEG</th>\n",
       "      <th>lastModif</th>\n",
       "      <th>note</th>\n",
       "      <th>extraData</th>\n",
       "    </tr>\n",
       "  </thead>\n",
       "  <tbody>\n",
       "    <tr>\n",
       "      <th>0</th>\n",
       "      <td>1</td>\n",
       "      <td>71661</td>\n",
       "      <td></td>\n",
       "      <td>['有人']</td>\n",
       "      <td>['r']</td>\n",
       "      <td>2020-02-02 12:31:04</td>\n",
       "      <td>initialize</td>\n",
       "      <td>None</td>\n",
       "    </tr>\n",
       "    <tr>\n",
       "      <th>1</th>\n",
       "      <td>2</td>\n",
       "      <td>71660</td>\n",
       "      <td>[CQ:face,id=178],</td>\n",
       "      <td>[]</td>\n",
       "      <td>[]</td>\n",
       "      <td>2020-02-02 12:31:04</td>\n",
       "      <td>initialize</td>\n",
       "      <td>None</td>\n",
       "    </tr>\n",
       "    <tr>\n",
       "      <th>2</th>\n",
       "      <td>3</td>\n",
       "      <td>71659</td>\n",
       "      <td>[CQ:face,id=178],</td>\n",
       "      <td>[]</td>\n",
       "      <td>[]</td>\n",
       "      <td>2020-02-02 12:31:04</td>\n",
       "      <td>initialize</td>\n",
       "      <td>None</td>\n",
       "    </tr>\n",
       "    <tr>\n",
       "      <th>3</th>\n",
       "      <td>4</td>\n",
       "      <td>71658</td>\n",
       "      <td></td>\n",
       "      <td>[⌳#][*unclearContent*] 66</td>\n",
       "      <td>[]</td>\n",
       "      <td>2020-02-02 12:31:04</td>\n",
       "      <td>initialize</td>\n",
       "      <td>None</td>\n",
       "    </tr>\n",
       "    <tr>\n",
       "      <th>4</th>\n",
       "      <td>5</td>\n",
       "      <td>71657</td>\n",
       "      <td>[CQ:at,id=qq/user/3354453079],</td>\n",
       "      <td>[⌳#][*unclearContent*]   没</td>\n",
       "      <td>[]</td>\n",
       "      <td>2020-02-02 12:31:04</td>\n",
       "      <td>initialize</td>\n",
       "      <td>None</td>\n",
       "    </tr>\n",
       "    <tr>\n",
       "      <th>...</th>\n",
       "      <td>...</td>\n",
       "      <td>...</td>\n",
       "      <td>...</td>\n",
       "      <td>...</td>\n",
       "      <td>...</td>\n",
       "      <td>...</td>\n",
       "      <td>...</td>\n",
       "      <td>...</td>\n",
       "    </tr>\n",
       "    <tr>\n",
       "      <th>71504</th>\n",
       "      <td>71505</td>\n",
       "      <td>5</td>\n",
       "      <td></td>\n",
       "      <td>['来自', '616471607', '的', '私聊', '消息']</td>\n",
       "      <td>['v', 'nr', 'uj', 'a', 'n']</td>\n",
       "      <td>2020-02-02 12:31:04</td>\n",
       "      <td>initialize</td>\n",
       "      <td>None</td>\n",
       "    </tr>\n",
       "    <tr>\n",
       "      <th>71505</th>\n",
       "      <td>71506</td>\n",
       "      <td>4</td>\n",
       "      <td></td>\n",
       "      <td>[⌳#][*unclearContent*] 29</td>\n",
       "      <td>[]</td>\n",
       "      <td>2020-02-02 12:31:04</td>\n",
       "      <td>initialize</td>\n",
       "      <td>None</td>\n",
       "    </tr>\n",
       "    <tr>\n",
       "      <th>71506</th>\n",
       "      <td>71507</td>\n",
       "      <td>3</td>\n",
       "      <td></td>\n",
       "      <td>['像', '我', '这种', '小', '功率', '都', '内部', '接地']</td>\n",
       "      <td>['v', 'r', 'r', 'a', 'n', 'd', 'f', 'v']</td>\n",
       "      <td>2020-02-02 12:31:04</td>\n",
       "      <td>initialize</td>\n",
       "      <td>None</td>\n",
       "    </tr>\n",
       "    <tr>\n",
       "      <th>71507</th>\n",
       "      <td>71508</td>\n",
       "      <td>2</td>\n",
       "      <td>[CQ:at,id=qq/user/1426259809],</td>\n",
       "      <td>['我', '就', '谁', '便用', '了']</td>\n",
       "      <td>['r', 'd', 'r', 'v', 'ul']</td>\n",
       "      <td>2020-02-02 12:31:04</td>\n",
       "      <td>initialize</td>\n",
       "      <td>None</td>\n",
       "    </tr>\n",
       "    <tr>\n",
       "      <th>71508</th>\n",
       "      <td>71509</td>\n",
       "      <td>1</td>\n",
       "      <td>[CQ:at,id=qq/user/1528442205],</td>\n",
       "      <td>['氖泡', '接在', '驱动', '电源', '负', '和', '地线', '之间']</td>\n",
       "      <td>['n', 'v', 'vn', 'n', 'v', 'c', 'n', 'f']</td>\n",
       "      <td>2020-02-02 12:31:04</td>\n",
       "      <td>initialize</td>\n",
       "      <td>None</td>\n",
       "    </tr>\n",
       "  </tbody>\n",
       "</table>\n",
       "<p>71509 rows × 8 columns</p>\n",
       "</div>"
      ],
      "text/plain": [
       "         lid   Link                           cqCode  \\\n",
       "0          1  71661                                    \n",
       "1          2  71660               [CQ:face,id=178],    \n",
       "2          3  71659               [CQ:face,id=178],    \n",
       "3          4  71658                                    \n",
       "4          5  71657  [CQ:at,id=qq/user/3354453079],    \n",
       "...      ...    ...                              ...   \n",
       "71504  71505      5                                    \n",
       "71505  71506      4                                    \n",
       "71506  71507      3                                    \n",
       "71507  71508      2  [CQ:at,id=qq/user/1426259809],    \n",
       "71508  71509      1  [CQ:at,id=qq/user/1528442205],    \n",
       "\n",
       "                                             jiebaCUT  \\\n",
       "0                                              ['有人']   \n",
       "1                                                  []   \n",
       "2                                                  []   \n",
       "3                           [⌳#][*unclearContent*] 66   \n",
       "4                          [⌳#][*unclearContent*]   没   \n",
       "...                                               ...   \n",
       "71504            ['来自', '616471607', '的', '私聊', '消息']   \n",
       "71505                       [⌳#][*unclearContent*] 29   \n",
       "71506    ['像', '我', '这种', '小', '功率', '都', '内部', '接地']   \n",
       "71507                      ['我', '就', '谁', '便用', '了']   \n",
       "71508  ['氖泡', '接在', '驱动', '电源', '负', '和', '地线', '之间']   \n",
       "\n",
       "                                       jiebaPSEG            lastModif  \\\n",
       "0                                          ['r']  2020-02-02 12:31:04   \n",
       "1                                             []  2020-02-02 12:31:04   \n",
       "2                                             []  2020-02-02 12:31:04   \n",
       "3                                             []  2020-02-02 12:31:04   \n",
       "4                                             []  2020-02-02 12:31:04   \n",
       "...                                          ...                  ...   \n",
       "71504                ['v', 'nr', 'uj', 'a', 'n']  2020-02-02 12:31:04   \n",
       "71505                                         []  2020-02-02 12:31:04   \n",
       "71506   ['v', 'r', 'r', 'a', 'n', 'd', 'f', 'v']  2020-02-02 12:31:04   \n",
       "71507                 ['r', 'd', 'r', 'v', 'ul']  2020-02-02 12:31:04   \n",
       "71508  ['n', 'v', 'vn', 'n', 'v', 'c', 'n', 'f']  2020-02-02 12:31:04   \n",
       "\n",
       "             note extraData  \n",
       "0      initialize      None  \n",
       "1      initialize      None  \n",
       "2      initialize      None  \n",
       "3      initialize      None  \n",
       "4      initialize      None  \n",
       "...           ...       ...  \n",
       "71504  initialize      None  \n",
       "71505  initialize      None  \n",
       "71506  initialize      None  \n",
       "71507  initialize      None  \n",
       "71508  initialize      None  \n",
       "\n",
       "[71509 rows x 8 columns]"
      ]
     },
     "execution_count": 23,
     "metadata": {},
     "output_type": "execute_result"
    }
   ],
   "source": [
    "数据库中的预处理结果"
   ]
  },
  {
   "cell_type": "markdown",
   "metadata": {},
   "source": [
    "-----\n",
    "\n",
    "### 以上内容便实现了数据接口以及数据预处理的基础功能(所以作为第0部分), 接下来开始真正的NLP内容  \n",
    "\n",
    "本文内容仅为个人见解和心得, 希望能带来帮助. 如果有不正确/不准确之处还请多多指教, 一起学习一起进步~   \n",
    "\n",
    "本文内容由[佚之狗](https://github.com/HookeLiu)原创, 可以随意使用但请注明出处.    "
   ]
  }
 ],
 "metadata": {
  "kernelspec": {
   "display_name": "Python 3",
   "language": "python",
   "name": "python3"
  },
  "language_info": {
   "codemirror_mode": {
    "name": "ipython",
    "version": 3
   },
   "file_extension": ".py",
   "mimetype": "text/x-python",
   "name": "python",
   "nbconvert_exporter": "python",
   "pygments_lexer": "ipython3",
   "version": "3.8.2"
  }
 },
 "nbformat": 4,
 "nbformat_minor": 4
}
